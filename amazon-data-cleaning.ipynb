{
 "cells": [
  {
   "cell_type": "code",
   "execution_count": 1,
   "id": "dabc9b37",
   "metadata": {
    "_cell_guid": "b1076dfc-b9ad-4769-8c92-a6c4dae69d19",
    "_uuid": "8f2839f25d086af736a60e9eeb907d3b93b6e0e5",
    "execution": {
     "iopub.execute_input": "2023-08-23T07:55:36.439764Z",
     "iopub.status.busy": "2023-08-23T07:55:36.438897Z",
     "iopub.status.idle": "2023-08-23T07:55:36.457515Z",
     "shell.execute_reply": "2023-08-23T07:55:36.456382Z"
    },
    "papermill": {
     "duration": 0.036275,
     "end_time": "2023-08-23T07:55:36.460148",
     "exception": false,
     "start_time": "2023-08-23T07:55:36.423873",
     "status": "completed"
    },
    "tags": []
   },
   "outputs": [
    {
     "name": "stdout",
     "output_type": "stream",
     "text": [
      "/kaggle/input/amazon-sales-dataset/amazon.csv\n"
     ]
    }
   ],
   "source": [
    "# This Python 3 environment comes with many helpful analytics libraries installed\n",
    "# It is defined by the kaggle/python Docker image: https://github.com/kaggle/docker-python\n",
    "# For example, here's several helpful packages to load\n",
    "\n",
    "import numpy as np # linear algebra\n",
    "import pandas as pd # data processing, CSV file I/O (e.g. pd.read_csv)\n",
    "\n",
    "# Input data files are available in the read-only \"../input/\" directory\n",
    "# For example, running this (by clicking run or pressing Shift+Enter) will list all files under the input directory\n",
    "\n",
    "import os\n",
    "for dirname, _, filenames in os.walk('/kaggle/input'):\n",
    "    for filename in filenames:\n",
    "        print(os.path.join(dirname, filename))\n",
    "\n",
    "# You can write up to 20GB to the current directory (/kaggle/working/) that gets preserved as output when you create a version using \"Save & Run All\" \n",
    "# You can also write temporary files to /kaggle/temp/, but they won't be saved outside of the current session"
   ]
  },
  {
   "cell_type": "code",
   "execution_count": 2,
   "id": "e38dbc35",
   "metadata": {
    "execution": {
     "iopub.execute_input": "2023-08-23T07:55:36.484154Z",
     "iopub.status.busy": "2023-08-23T07:55:36.483558Z",
     "iopub.status.idle": "2023-08-23T07:55:38.061858Z",
     "shell.execute_reply": "2023-08-23T07:55:38.060659Z"
    },
    "papermill": {
     "duration": 1.593262,
     "end_time": "2023-08-23T07:55:38.064470",
     "exception": false,
     "start_time": "2023-08-23T07:55:36.471208",
     "status": "completed"
    },
    "tags": []
   },
   "outputs": [],
   "source": [
    "import pandas as pd\n",
    "import numpy as np\n",
    "import matplotlib.pyplot as plt\n",
    "import seaborn as sns"
   ]
  },
  {
   "cell_type": "markdown",
   "id": "f2c99f19",
   "metadata": {
    "papermill": {
     "duration": 0.010792,
     "end_time": "2023-08-23T07:55:38.086684",
     "exception": false,
     "start_time": "2023-08-23T07:55:38.075892",
     "status": "completed"
    },
    "tags": []
   },
   "source": [
    "# **DATA CLEANING & PREPARATION**"
   ]
  },
  {
   "cell_type": "markdown",
   "id": "e9a6afdf",
   "metadata": {
    "papermill": {
     "duration": 0.010727,
     "end_time": "2023-08-23T07:55:38.108486",
     "exception": false,
     "start_time": "2023-08-23T07:55:38.097759",
     "status": "completed"
    },
    "tags": []
   },
   "source": [
    "Before making analyzing the data, it is important to clean and prepare data. The methods used to clean and prepare the data are as listed below:\n",
    "\n",
    "* Changing Data Types of Columns from object to Floats\n",
    "* Filling in Missing Information\n",
    "* Checking For Duplicate Rows\n",
    "* Splitting Long Strings\n",
    "* Creating Various New Columns"
   ]
  },
  {
   "cell_type": "code",
   "execution_count": 3,
   "id": "3a56f547",
   "metadata": {
    "execution": {
     "iopub.execute_input": "2023-08-23T07:55:38.132053Z",
     "iopub.status.busy": "2023-08-23T07:55:38.131644Z",
     "iopub.status.idle": "2023-08-23T07:55:38.355899Z",
     "shell.execute_reply": "2023-08-23T07:55:38.354728Z"
    },
    "papermill": {
     "duration": 0.23916,
     "end_time": "2023-08-23T07:55:38.358518",
     "exception": false,
     "start_time": "2023-08-23T07:55:38.119358",
     "status": "completed"
    },
    "tags": []
   },
   "outputs": [
    {
     "data": {
      "text/html": [
       "<div>\n",
       "<style scoped>\n",
       "    .dataframe tbody tr th:only-of-type {\n",
       "        vertical-align: middle;\n",
       "    }\n",
       "\n",
       "    .dataframe tbody tr th {\n",
       "        vertical-align: top;\n",
       "    }\n",
       "\n",
       "    .dataframe thead th {\n",
       "        text-align: right;\n",
       "    }\n",
       "</style>\n",
       "<table border=\"1\" class=\"dataframe\">\n",
       "  <thead>\n",
       "    <tr style=\"text-align: right;\">\n",
       "      <th></th>\n",
       "      <th>product_id</th>\n",
       "      <th>product_name</th>\n",
       "      <th>category</th>\n",
       "      <th>discounted_price</th>\n",
       "      <th>actual_price</th>\n",
       "      <th>discount_percentage</th>\n",
       "      <th>rating</th>\n",
       "      <th>rating_count</th>\n",
       "      <th>about_product</th>\n",
       "      <th>user_id</th>\n",
       "      <th>user_name</th>\n",
       "      <th>review_id</th>\n",
       "      <th>review_title</th>\n",
       "      <th>review_content</th>\n",
       "      <th>img_link</th>\n",
       "      <th>product_link</th>\n",
       "    </tr>\n",
       "  </thead>\n",
       "  <tbody>\n",
       "    <tr>\n",
       "      <th>0</th>\n",
       "      <td>B07JW9H4J1</td>\n",
       "      <td>Wayona Nylon Braided USB to Lightning Fast Cha...</td>\n",
       "      <td>Computers&amp;Accessories|Accessories&amp;Peripherals|...</td>\n",
       "      <td>₹399</td>\n",
       "      <td>₹1,099</td>\n",
       "      <td>64%</td>\n",
       "      <td>4.2</td>\n",
       "      <td>24,269</td>\n",
       "      <td>High Compatibility : Compatible With iPhone 12...</td>\n",
       "      <td>AG3D6O4STAQKAY2UVGEUV46KN35Q,AHMY5CWJMMK5BJRBB...</td>\n",
       "      <td>Manav,Adarsh gupta,Sundeep,S.Sayeed Ahmed,jasp...</td>\n",
       "      <td>R3HXWT0LRP0NMF,R2AJM3LFTLZHFO,R6AQJGUP6P86,R1K...</td>\n",
       "      <td>Satisfied,Charging is really fast,Value for mo...</td>\n",
       "      <td>Looks durable Charging is fine tooNo complains...</td>\n",
       "      <td>https://m.media-amazon.com/images/W/WEBP_40237...</td>\n",
       "      <td>https://www.amazon.in/Wayona-Braided-WN3LG1-Sy...</td>\n",
       "    </tr>\n",
       "    <tr>\n",
       "      <th>1</th>\n",
       "      <td>B098NS6PVG</td>\n",
       "      <td>Ambrane Unbreakable 60W / 3A Fast Charging 1.5...</td>\n",
       "      <td>Computers&amp;Accessories|Accessories&amp;Peripherals|...</td>\n",
       "      <td>₹199</td>\n",
       "      <td>₹349</td>\n",
       "      <td>43%</td>\n",
       "      <td>4.0</td>\n",
       "      <td>43,994</td>\n",
       "      <td>Compatible with all Type C enabled devices, be...</td>\n",
       "      <td>AECPFYFQVRUWC3KGNLJIOREFP5LQ,AGYYVPDD7YG7FYNBX...</td>\n",
       "      <td>ArdKn,Nirbhay kumar,Sagar Viswanathan,Asp,Plac...</td>\n",
       "      <td>RGIQEG07R9HS2,R1SMWZQ86XIN8U,R2J3Y1WL29GWDE,RY...</td>\n",
       "      <td>A Good Braided Cable for Your Type C Device,Go...</td>\n",
       "      <td>I ordered this cable to connect my phone to An...</td>\n",
       "      <td>https://m.media-amazon.com/images/W/WEBP_40237...</td>\n",
       "      <td>https://www.amazon.in/Ambrane-Unbreakable-Char...</td>\n",
       "    </tr>\n",
       "    <tr>\n",
       "      <th>2</th>\n",
       "      <td>B096MSW6CT</td>\n",
       "      <td>Sounce Fast Phone Charging Cable &amp; Data Sync U...</td>\n",
       "      <td>Computers&amp;Accessories|Accessories&amp;Peripherals|...</td>\n",
       "      <td>₹199</td>\n",
       "      <td>₹1,899</td>\n",
       "      <td>90%</td>\n",
       "      <td>3.9</td>\n",
       "      <td>7,928</td>\n",
       "      <td>【 Fast Charger&amp; Data Sync】-With built-in safet...</td>\n",
       "      <td>AGU3BBQ2V2DDAMOAKGFAWDDQ6QHA,AESFLDV2PT363T2AQ...</td>\n",
       "      <td>Kunal,Himanshu,viswanath,sai niharka,saqib mal...</td>\n",
       "      <td>R3J3EQQ9TZI5ZJ,R3E7WBGK7ID0KV,RWU79XKQ6I1QF,R2...</td>\n",
       "      <td>Good speed for earlier versions,Good Product,W...</td>\n",
       "      <td>Not quite durable and sturdy,https://m.media-a...</td>\n",
       "      <td>https://m.media-amazon.com/images/W/WEBP_40237...</td>\n",
       "      <td>https://www.amazon.in/Sounce-iPhone-Charging-C...</td>\n",
       "    </tr>\n",
       "    <tr>\n",
       "      <th>3</th>\n",
       "      <td>B08HDJ86NZ</td>\n",
       "      <td>boAt Deuce USB 300 2 in 1 Type-C &amp; Micro USB S...</td>\n",
       "      <td>Computers&amp;Accessories|Accessories&amp;Peripherals|...</td>\n",
       "      <td>₹329</td>\n",
       "      <td>₹699</td>\n",
       "      <td>53%</td>\n",
       "      <td>4.2</td>\n",
       "      <td>94,363</td>\n",
       "      <td>The boAt Deuce USB 300 2 in 1 cable is compati...</td>\n",
       "      <td>AEWAZDZZJLQUYVOVGBEUKSLXHQ5A,AG5HTSFRRE6NL3M5S...</td>\n",
       "      <td>Omkar dhale,JD,HEMALATHA,Ajwadh a.,amar singh ...</td>\n",
       "      <td>R3EEUZKKK9J36I,R3HJVYCLYOY554,REDECAZ7AMPQC,R1...</td>\n",
       "      <td>Good product,Good one,Nice,Really nice product...</td>\n",
       "      <td>Good product,long wire,Charges good,Nice,I bou...</td>\n",
       "      <td>https://m.media-amazon.com/images/I/41V5FtEWPk...</td>\n",
       "      <td>https://www.amazon.in/Deuce-300-Resistant-Tang...</td>\n",
       "    </tr>\n",
       "    <tr>\n",
       "      <th>4</th>\n",
       "      <td>B08CF3B7N1</td>\n",
       "      <td>Portronics Konnect L 1.2M Fast Charging 3A 8 P...</td>\n",
       "      <td>Computers&amp;Accessories|Accessories&amp;Peripherals|...</td>\n",
       "      <td>₹154</td>\n",
       "      <td>₹399</td>\n",
       "      <td>61%</td>\n",
       "      <td>4.2</td>\n",
       "      <td>16,905</td>\n",
       "      <td>[CHARGE &amp; SYNC FUNCTION]- This cable comes wit...</td>\n",
       "      <td>AE3Q6KSUK5P75D5HFYHCRAOLODSA,AFUGIFH5ZAFXRDSZH...</td>\n",
       "      <td>rahuls6099,Swasat Borah,Ajay Wadke,Pranali,RVK...</td>\n",
       "      <td>R1BP4L2HH9TFUP,R16PVJEXKV6QZS,R2UPDB81N66T4P,R...</td>\n",
       "      <td>As good as original,Decent,Good one for second...</td>\n",
       "      <td>Bought this instead of original apple, does th...</td>\n",
       "      <td>https://m.media-amazon.com/images/W/WEBP_40237...</td>\n",
       "      <td>https://www.amazon.in/Portronics-Konnect-POR-1...</td>\n",
       "    </tr>\n",
       "  </tbody>\n",
       "</table>\n",
       "</div>"
      ],
      "text/plain": [
       "   product_id                                       product_name  \\\n",
       "0  B07JW9H4J1  Wayona Nylon Braided USB to Lightning Fast Cha...   \n",
       "1  B098NS6PVG  Ambrane Unbreakable 60W / 3A Fast Charging 1.5...   \n",
       "2  B096MSW6CT  Sounce Fast Phone Charging Cable & Data Sync U...   \n",
       "3  B08HDJ86NZ  boAt Deuce USB 300 2 in 1 Type-C & Micro USB S...   \n",
       "4  B08CF3B7N1  Portronics Konnect L 1.2M Fast Charging 3A 8 P...   \n",
       "\n",
       "                                            category discounted_price  \\\n",
       "0  Computers&Accessories|Accessories&Peripherals|...             ₹399   \n",
       "1  Computers&Accessories|Accessories&Peripherals|...             ₹199   \n",
       "2  Computers&Accessories|Accessories&Peripherals|...             ₹199   \n",
       "3  Computers&Accessories|Accessories&Peripherals|...             ₹329   \n",
       "4  Computers&Accessories|Accessories&Peripherals|...             ₹154   \n",
       "\n",
       "  actual_price discount_percentage rating rating_count  \\\n",
       "0       ₹1,099                 64%    4.2       24,269   \n",
       "1         ₹349                 43%    4.0       43,994   \n",
       "2       ₹1,899                 90%    3.9        7,928   \n",
       "3         ₹699                 53%    4.2       94,363   \n",
       "4         ₹399                 61%    4.2       16,905   \n",
       "\n",
       "                                       about_product  \\\n",
       "0  High Compatibility : Compatible With iPhone 12...   \n",
       "1  Compatible with all Type C enabled devices, be...   \n",
       "2  【 Fast Charger& Data Sync】-With built-in safet...   \n",
       "3  The boAt Deuce USB 300 2 in 1 cable is compati...   \n",
       "4  [CHARGE & SYNC FUNCTION]- This cable comes wit...   \n",
       "\n",
       "                                             user_id  \\\n",
       "0  AG3D6O4STAQKAY2UVGEUV46KN35Q,AHMY5CWJMMK5BJRBB...   \n",
       "1  AECPFYFQVRUWC3KGNLJIOREFP5LQ,AGYYVPDD7YG7FYNBX...   \n",
       "2  AGU3BBQ2V2DDAMOAKGFAWDDQ6QHA,AESFLDV2PT363T2AQ...   \n",
       "3  AEWAZDZZJLQUYVOVGBEUKSLXHQ5A,AG5HTSFRRE6NL3M5S...   \n",
       "4  AE3Q6KSUK5P75D5HFYHCRAOLODSA,AFUGIFH5ZAFXRDSZH...   \n",
       "\n",
       "                                           user_name  \\\n",
       "0  Manav,Adarsh gupta,Sundeep,S.Sayeed Ahmed,jasp...   \n",
       "1  ArdKn,Nirbhay kumar,Sagar Viswanathan,Asp,Plac...   \n",
       "2  Kunal,Himanshu,viswanath,sai niharka,saqib mal...   \n",
       "3  Omkar dhale,JD,HEMALATHA,Ajwadh a.,amar singh ...   \n",
       "4  rahuls6099,Swasat Borah,Ajay Wadke,Pranali,RVK...   \n",
       "\n",
       "                                           review_id  \\\n",
       "0  R3HXWT0LRP0NMF,R2AJM3LFTLZHFO,R6AQJGUP6P86,R1K...   \n",
       "1  RGIQEG07R9HS2,R1SMWZQ86XIN8U,R2J3Y1WL29GWDE,RY...   \n",
       "2  R3J3EQQ9TZI5ZJ,R3E7WBGK7ID0KV,RWU79XKQ6I1QF,R2...   \n",
       "3  R3EEUZKKK9J36I,R3HJVYCLYOY554,REDECAZ7AMPQC,R1...   \n",
       "4  R1BP4L2HH9TFUP,R16PVJEXKV6QZS,R2UPDB81N66T4P,R...   \n",
       "\n",
       "                                        review_title  \\\n",
       "0  Satisfied,Charging is really fast,Value for mo...   \n",
       "1  A Good Braided Cable for Your Type C Device,Go...   \n",
       "2  Good speed for earlier versions,Good Product,W...   \n",
       "3  Good product,Good one,Nice,Really nice product...   \n",
       "4  As good as original,Decent,Good one for second...   \n",
       "\n",
       "                                      review_content  \\\n",
       "0  Looks durable Charging is fine tooNo complains...   \n",
       "1  I ordered this cable to connect my phone to An...   \n",
       "2  Not quite durable and sturdy,https://m.media-a...   \n",
       "3  Good product,long wire,Charges good,Nice,I bou...   \n",
       "4  Bought this instead of original apple, does th...   \n",
       "\n",
       "                                            img_link  \\\n",
       "0  https://m.media-amazon.com/images/W/WEBP_40237...   \n",
       "1  https://m.media-amazon.com/images/W/WEBP_40237...   \n",
       "2  https://m.media-amazon.com/images/W/WEBP_40237...   \n",
       "3  https://m.media-amazon.com/images/I/41V5FtEWPk...   \n",
       "4  https://m.media-amazon.com/images/W/WEBP_40237...   \n",
       "\n",
       "                                        product_link  \n",
       "0  https://www.amazon.in/Wayona-Braided-WN3LG1-Sy...  \n",
       "1  https://www.amazon.in/Ambrane-Unbreakable-Char...  \n",
       "2  https://www.amazon.in/Sounce-iPhone-Charging-C...  \n",
       "3  https://www.amazon.in/Deuce-300-Resistant-Tang...  \n",
       "4  https://www.amazon.in/Portronics-Konnect-POR-1...  "
      ]
     },
     "execution_count": 3,
     "metadata": {},
     "output_type": "execute_result"
    }
   ],
   "source": [
    "df = pd.read_csv('/kaggle/input/amazon-sales-dataset/amazon.csv')\n",
    "df.head()"
   ]
  },
  {
   "cell_type": "code",
   "execution_count": 4,
   "id": "5fe3e5ba",
   "metadata": {
    "execution": {
     "iopub.execute_input": "2023-08-23T07:55:38.385517Z",
     "iopub.status.busy": "2023-08-23T07:55:38.383282Z",
     "iopub.status.idle": "2023-08-23T07:55:38.391236Z",
     "shell.execute_reply": "2023-08-23T07:55:38.390393Z"
    },
    "papermill": {
     "duration": 0.023059,
     "end_time": "2023-08-23T07:55:38.393356",
     "exception": false,
     "start_time": "2023-08-23T07:55:38.370297",
     "status": "completed"
    },
    "tags": []
   },
   "outputs": [
    {
     "data": {
      "text/plain": [
       "Index(['product_id', 'product_name', 'category', 'discounted_price',\n",
       "       'actual_price', 'discount_percentage', 'rating', 'rating_count',\n",
       "       'about_product', 'user_id', 'user_name', 'review_id', 'review_title',\n",
       "       'review_content', 'img_link', 'product_link'],\n",
       "      dtype='object')"
      ]
     },
     "execution_count": 4,
     "metadata": {},
     "output_type": "execute_result"
    }
   ],
   "source": [
    "#Checking Column Names\n",
    "df.columns"
   ]
  },
  {
   "cell_type": "code",
   "execution_count": 5,
   "id": "7e6eb860",
   "metadata": {
    "execution": {
     "iopub.execute_input": "2023-08-23T07:55:38.418502Z",
     "iopub.status.busy": "2023-08-23T07:55:38.417834Z",
     "iopub.status.idle": "2023-08-23T07:55:38.424746Z",
     "shell.execute_reply": "2023-08-23T07:55:38.423755Z"
    },
    "papermill": {
     "duration": 0.021928,
     "end_time": "2023-08-23T07:55:38.426902",
     "exception": false,
     "start_time": "2023-08-23T07:55:38.404974",
     "status": "completed"
    },
    "tags": []
   },
   "outputs": [
    {
     "data": {
      "text/plain": [
       "(1465, 16)"
      ]
     },
     "execution_count": 5,
     "metadata": {},
     "output_type": "execute_result"
    }
   ],
   "source": [
    "#Checking Number of Rows and Columns\n",
    "df.shape"
   ]
  },
  {
   "cell_type": "code",
   "execution_count": 6,
   "id": "59189310",
   "metadata": {
    "execution": {
     "iopub.execute_input": "2023-08-23T07:55:38.452614Z",
     "iopub.status.busy": "2023-08-23T07:55:38.451960Z",
     "iopub.status.idle": "2023-08-23T07:55:38.459981Z",
     "shell.execute_reply": "2023-08-23T07:55:38.458958Z"
    },
    "papermill": {
     "duration": 0.023504,
     "end_time": "2023-08-23T07:55:38.462146",
     "exception": false,
     "start_time": "2023-08-23T07:55:38.438642",
     "status": "completed"
    },
    "tags": []
   },
   "outputs": [
    {
     "data": {
      "text/plain": [
       "product_id             object\n",
       "product_name           object\n",
       "category               object\n",
       "discounted_price       object\n",
       "actual_price           object\n",
       "discount_percentage    object\n",
       "rating                 object\n",
       "rating_count           object\n",
       "about_product          object\n",
       "user_id                object\n",
       "user_name              object\n",
       "review_id              object\n",
       "review_title           object\n",
       "review_content         object\n",
       "img_link               object\n",
       "product_link           object\n",
       "dtype: object"
      ]
     },
     "execution_count": 6,
     "metadata": {},
     "output_type": "execute_result"
    }
   ],
   "source": [
    "#Checking Data Types for each Column\n",
    "df.dtypes"
   ]
  },
  {
   "cell_type": "code",
   "execution_count": 7,
   "id": "e9855178",
   "metadata": {
    "execution": {
     "iopub.execute_input": "2023-08-23T07:55:38.488072Z",
     "iopub.status.busy": "2023-08-23T07:55:38.487444Z",
     "iopub.status.idle": "2023-08-23T07:55:38.497905Z",
     "shell.execute_reply": "2023-08-23T07:55:38.497013Z"
    },
    "papermill": {
     "duration": 0.026319,
     "end_time": "2023-08-23T07:55:38.500241",
     "exception": false,
     "start_time": "2023-08-23T07:55:38.473922",
     "status": "completed"
    },
    "tags": []
   },
   "outputs": [],
   "source": [
    "#Changing the data type of discounted price\n",
    "\n",
    "df['discounted_price'] = df['discounted_price'].str.replace('₹','')\n",
    "df['discounted_price'] = df['discounted_price'].str.replace(',','')\n",
    "df['discounted_price'] = df['discounted_price'].astype('float64')"
   ]
  },
  {
   "cell_type": "code",
   "execution_count": 8,
   "id": "2dd4702c",
   "metadata": {
    "execution": {
     "iopub.execute_input": "2023-08-23T07:55:38.526154Z",
     "iopub.status.busy": "2023-08-23T07:55:38.525533Z",
     "iopub.status.idle": "2023-08-23T07:55:38.535957Z",
     "shell.execute_reply": "2023-08-23T07:55:38.535137Z"
    },
    "papermill": {
     "duration": 0.026109,
     "end_time": "2023-08-23T07:55:38.538293",
     "exception": false,
     "start_time": "2023-08-23T07:55:38.512184",
     "status": "completed"
    },
    "tags": []
   },
   "outputs": [],
   "source": [
    "#Changing the data type of actual price\n",
    "\n",
    "df['actual_price'] = df['actual_price'].str.replace('₹','')\n",
    "df['actual_price'] = df['actual_price'].str.replace(',','')\n",
    "df['actual_price'] = df['actual_price'].astype('float64')"
   ]
  },
  {
   "cell_type": "code",
   "execution_count": 9,
   "id": "24e924e0",
   "metadata": {
    "execution": {
     "iopub.execute_input": "2023-08-23T07:55:38.563930Z",
     "iopub.status.busy": "2023-08-23T07:55:38.563537Z",
     "iopub.status.idle": "2023-08-23T07:55:38.578714Z",
     "shell.execute_reply": "2023-08-23T07:55:38.577469Z"
    },
    "papermill": {
     "duration": 0.030913,
     "end_time": "2023-08-23T07:55:38.581262",
     "exception": false,
     "start_time": "2023-08-23T07:55:38.550349",
     "status": "completed"
    },
    "tags": []
   },
   "outputs": [
    {
     "data": {
      "text/plain": [
       "0       0.64\n",
       "1       0.43\n",
       "2       0.90\n",
       "3       0.53\n",
       "4       0.61\n",
       "        ... \n",
       "1460    0.59\n",
       "1461    0.25\n",
       "1462    0.28\n",
       "1463    0.26\n",
       "1464    0.22\n",
       "Name: discount_percentage, Length: 1465, dtype: float64"
      ]
     },
     "execution_count": 9,
     "metadata": {},
     "output_type": "execute_result"
    }
   ],
   "source": [
    "#Changing Datatype and values in Discount Percentage\n",
    "\n",
    "df['discount_percentage'] = df['discount_percentage'].str.replace('%','').astype('float64')\n",
    "df['discount_percentage'] =df['discount_percentage'] / 100\n",
    "df['discount_percentage']"
   ]
  },
  {
   "cell_type": "code",
   "execution_count": 10,
   "id": "1b39b749",
   "metadata": {
    "execution": {
     "iopub.execute_input": "2023-08-23T07:55:38.607614Z",
     "iopub.status.busy": "2023-08-23T07:55:38.607196Z",
     "iopub.status.idle": "2023-08-23T07:55:38.622200Z",
     "shell.execute_reply": "2023-08-23T07:55:38.621047Z"
    },
    "papermill": {
     "duration": 0.031277,
     "end_time": "2023-08-23T07:55:38.624724",
     "exception": false,
     "start_time": "2023-08-23T07:55:38.593447",
     "status": "completed"
    },
    "tags": []
   },
   "outputs": [
    {
     "data": {
      "text/plain": [
       "4.1    244\n",
       "4.3    230\n",
       "4.2    228\n",
       "4.0    129\n",
       "3.9    123\n",
       "4.4    123\n",
       "3.8     86\n",
       "4.5     75\n",
       "4       52\n",
       "3.7     42\n",
       "3.6     35\n",
       "3.5     26\n",
       "4.6     17\n",
       "3.3     16\n",
       "3.4     10\n",
       "4.7      6\n",
       "3.1      4\n",
       "5.0      3\n",
       "3.0      3\n",
       "4.8      3\n",
       "3.2      2\n",
       "2.8      2\n",
       "2.3      1\n",
       "|        1\n",
       "2        1\n",
       "3        1\n",
       "2.6      1\n",
       "2.9      1\n",
       "Name: rating, dtype: int64"
      ]
     },
     "execution_count": 10,
     "metadata": {},
     "output_type": "execute_result"
    }
   ],
   "source": [
    "#Finding unusual string in the rating column\n",
    "\n",
    "df['rating'].value_counts()"
   ]
  },
  {
   "cell_type": "code",
   "execution_count": 11,
   "id": "b23214c3",
   "metadata": {
    "execution": {
     "iopub.execute_input": "2023-08-23T07:55:38.651658Z",
     "iopub.status.busy": "2023-08-23T07:55:38.650416Z",
     "iopub.status.idle": "2023-08-23T07:55:38.674654Z",
     "shell.execute_reply": "2023-08-23T07:55:38.673623Z"
    },
    "papermill": {
     "duration": 0.040104,
     "end_time": "2023-08-23T07:55:38.677088",
     "exception": false,
     "start_time": "2023-08-23T07:55:38.636984",
     "status": "completed"
    },
    "tags": []
   },
   "outputs": [
    {
     "data": {
      "text/html": [
       "<div>\n",
       "<style scoped>\n",
       "    .dataframe tbody tr th:only-of-type {\n",
       "        vertical-align: middle;\n",
       "    }\n",
       "\n",
       "    .dataframe tbody tr th {\n",
       "        vertical-align: top;\n",
       "    }\n",
       "\n",
       "    .dataframe thead th {\n",
       "        text-align: right;\n",
       "    }\n",
       "</style>\n",
       "<table border=\"1\" class=\"dataframe\">\n",
       "  <thead>\n",
       "    <tr style=\"text-align: right;\">\n",
       "      <th></th>\n",
       "      <th>product_id</th>\n",
       "      <th>product_name</th>\n",
       "      <th>category</th>\n",
       "      <th>discounted_price</th>\n",
       "      <th>actual_price</th>\n",
       "      <th>discount_percentage</th>\n",
       "      <th>rating</th>\n",
       "      <th>rating_count</th>\n",
       "      <th>about_product</th>\n",
       "      <th>user_id</th>\n",
       "      <th>user_name</th>\n",
       "      <th>review_id</th>\n",
       "      <th>review_title</th>\n",
       "      <th>review_content</th>\n",
       "      <th>img_link</th>\n",
       "      <th>product_link</th>\n",
       "    </tr>\n",
       "  </thead>\n",
       "  <tbody>\n",
       "    <tr>\n",
       "      <th>1279</th>\n",
       "      <td>B08L12N5H1</td>\n",
       "      <td>Eureka Forbes car Vac 100 Watts Powerful Sucti...</td>\n",
       "      <td>Home&amp;Kitchen|Kitchen&amp;HomeAppliances|Vacuum,Cle...</td>\n",
       "      <td>2099.0</td>\n",
       "      <td>2499.0</td>\n",
       "      <td>0.16</td>\n",
       "      <td>|</td>\n",
       "      <td>992</td>\n",
       "      <td>No Installation is provided for this product|1...</td>\n",
       "      <td>AGTDSNT2FKVYEPDPXAA673AIS44A,AER2XFSWNN4LAUCJ5...</td>\n",
       "      <td>Divya,Dr Nefario,Deekshith,Preeti,Prasanth R,P...</td>\n",
       "      <td>R2KKTKM4M9RDVJ,R1O692MZOBTE79,R2WRSEWL56SOS4,R...</td>\n",
       "      <td>Decent product,doesn't pick up sand,Ok ok,Must...</td>\n",
       "      <td>Does the job well,doesn't work on sand. though...</td>\n",
       "      <td>https://m.media-amazon.com/images/W/WEBP_40237...</td>\n",
       "      <td>https://www.amazon.in/Eureka-Forbes-Vacuum-Cle...</td>\n",
       "    </tr>\n",
       "  </tbody>\n",
       "</table>\n",
       "</div>"
      ],
      "text/plain": [
       "      product_id                                       product_name  \\\n",
       "1279  B08L12N5H1  Eureka Forbes car Vac 100 Watts Powerful Sucti...   \n",
       "\n",
       "                                               category  discounted_price  \\\n",
       "1279  Home&Kitchen|Kitchen&HomeAppliances|Vacuum,Cle...            2099.0   \n",
       "\n",
       "      actual_price  discount_percentage rating rating_count  \\\n",
       "1279        2499.0                 0.16      |          992   \n",
       "\n",
       "                                          about_product  \\\n",
       "1279  No Installation is provided for this product|1...   \n",
       "\n",
       "                                                user_id  \\\n",
       "1279  AGTDSNT2FKVYEPDPXAA673AIS44A,AER2XFSWNN4LAUCJ5...   \n",
       "\n",
       "                                              user_name  \\\n",
       "1279  Divya,Dr Nefario,Deekshith,Preeti,Prasanth R,P...   \n",
       "\n",
       "                                              review_id  \\\n",
       "1279  R2KKTKM4M9RDVJ,R1O692MZOBTE79,R2WRSEWL56SOS4,R...   \n",
       "\n",
       "                                           review_title  \\\n",
       "1279  Decent product,doesn't pick up sand,Ok ok,Must...   \n",
       "\n",
       "                                         review_content  \\\n",
       "1279  Does the job well,doesn't work on sand. though...   \n",
       "\n",
       "                                               img_link  \\\n",
       "1279  https://m.media-amazon.com/images/W/WEBP_40237...   \n",
       "\n",
       "                                           product_link  \n",
       "1279  https://www.amazon.in/Eureka-Forbes-Vacuum-Cle...  "
      ]
     },
     "execution_count": 11,
     "metadata": {},
     "output_type": "execute_result"
    }
   ],
   "source": [
    "#Query the strange row\n",
    "\n",
    "df.query('rating == \"|\"')"
   ]
  },
  {
   "cell_type": "code",
   "execution_count": 12,
   "id": "338dc175",
   "metadata": {
    "execution": {
     "iopub.execute_input": "2023-08-23T07:55:38.704553Z",
     "iopub.status.busy": "2023-08-23T07:55:38.704150Z",
     "iopub.status.idle": "2023-08-23T07:55:38.713114Z",
     "shell.execute_reply": "2023-08-23T07:55:38.712017Z"
    },
    "papermill": {
     "duration": 0.025924,
     "end_time": "2023-08-23T07:55:38.716084",
     "exception": false,
     "start_time": "2023-08-23T07:55:38.690160",
     "status": "completed"
    },
    "tags": []
   },
   "outputs": [
    {
     "name": "stderr",
     "output_type": "stream",
     "text": [
      "/tmp/ipykernel_20/1674601385.py:3: FutureWarning: The default value of regex will change from True to False in a future version. In addition, single character regular expressions will *not* be treated as literal strings when regex=True.\n",
      "  df['rating'] = df['rating'].str.replace('|','4.0').astype('float64')\n"
     ]
    }
   ],
   "source": [
    "#Changing Rating Columns Data Type\n",
    "\n",
    "df['rating'] = df['rating'].str.replace('|','4.0').astype('float64')"
   ]
  },
  {
   "cell_type": "code",
   "execution_count": 13,
   "id": "c58f3618",
   "metadata": {
    "execution": {
     "iopub.execute_input": "2023-08-23T07:55:38.743955Z",
     "iopub.status.busy": "2023-08-23T07:55:38.743105Z",
     "iopub.status.idle": "2023-08-23T07:55:38.751523Z",
     "shell.execute_reply": "2023-08-23T07:55:38.750340Z"
    },
    "papermill": {
     "duration": 0.02451,
     "end_time": "2023-08-23T07:55:38.753860",
     "exception": false,
     "start_time": "2023-08-23T07:55:38.729350",
     "status": "completed"
    },
    "tags": []
   },
   "outputs": [],
   "source": [
    "#Changing Rating count Columns Data Type\n",
    "\n",
    "df['rating_count'] = df['rating_count'].str.replace(',','').astype('float64')"
   ]
  },
  {
   "cell_type": "code",
   "execution_count": 14,
   "id": "f93ee680",
   "metadata": {
    "execution": {
     "iopub.execute_input": "2023-08-23T07:55:38.781614Z",
     "iopub.status.busy": "2023-08-23T07:55:38.780883Z",
     "iopub.status.idle": "2023-08-23T07:55:38.821331Z",
     "shell.execute_reply": "2023-08-23T07:55:38.820517Z"
    },
    "papermill": {
     "duration": 0.056513,
     "end_time": "2023-08-23T07:55:38.823475",
     "exception": false,
     "start_time": "2023-08-23T07:55:38.766962",
     "status": "completed"
    },
    "tags": []
   },
   "outputs": [
    {
     "data": {
      "text/html": [
       "<div>\n",
       "<style scoped>\n",
       "    .dataframe tbody tr th:only-of-type {\n",
       "        vertical-align: middle;\n",
       "    }\n",
       "\n",
       "    .dataframe tbody tr th {\n",
       "        vertical-align: top;\n",
       "    }\n",
       "\n",
       "    .dataframe thead th {\n",
       "        text-align: right;\n",
       "    }\n",
       "</style>\n",
       "<table border=\"1\" class=\"dataframe\">\n",
       "  <thead>\n",
       "    <tr style=\"text-align: right;\">\n",
       "      <th></th>\n",
       "      <th>product_id</th>\n",
       "      <th>product_name</th>\n",
       "      <th>category</th>\n",
       "      <th>discounted_price</th>\n",
       "      <th>actual_price</th>\n",
       "      <th>discount_percentage</th>\n",
       "      <th>rating</th>\n",
       "      <th>rating_count</th>\n",
       "      <th>about_product</th>\n",
       "      <th>user_id</th>\n",
       "      <th>user_name</th>\n",
       "      <th>review_id</th>\n",
       "      <th>review_title</th>\n",
       "      <th>review_content</th>\n",
       "      <th>img_link</th>\n",
       "      <th>product_link</th>\n",
       "    </tr>\n",
       "  </thead>\n",
       "  <tbody>\n",
       "  </tbody>\n",
       "</table>\n",
       "</div>"
      ],
      "text/plain": [
       "Empty DataFrame\n",
       "Columns: [product_id, product_name, category, discounted_price, actual_price, discount_percentage, rating, rating_count, about_product, user_id, user_name, review_id, review_title, review_content, img_link, product_link]\n",
       "Index: []"
      ]
     },
     "execution_count": 14,
     "metadata": {},
     "output_type": "execute_result"
    }
   ],
   "source": [
    "#Checking for Duplicates\n",
    "\n",
    "duplicates = df.duplicated()\n",
    "df[duplicates]"
   ]
  },
  {
   "cell_type": "code",
   "execution_count": 15,
   "id": "d5ccc844",
   "metadata": {
    "execution": {
     "iopub.execute_input": "2023-08-23T07:55:38.851207Z",
     "iopub.status.busy": "2023-08-23T07:55:38.850608Z",
     "iopub.status.idle": "2023-08-23T07:55:38.864810Z",
     "shell.execute_reply": "2023-08-23T07:55:38.863511Z"
    },
    "papermill": {
     "duration": 0.030846,
     "end_time": "2023-08-23T07:55:38.867132",
     "exception": false,
     "start_time": "2023-08-23T07:55:38.836286",
     "status": "completed"
    },
    "tags": []
   },
   "outputs": [
    {
     "data": {
      "text/plain": [
       "product_id             0\n",
       "product_name           0\n",
       "category               0\n",
       "discounted_price       0\n",
       "actual_price           0\n",
       "discount_percentage    0\n",
       "rating                 0\n",
       "rating_count           2\n",
       "about_product          0\n",
       "user_id                0\n",
       "user_name              0\n",
       "review_id              0\n",
       "review_title           0\n",
       "review_content         0\n",
       "img_link               0\n",
       "product_link           0\n",
       "dtype: int64"
      ]
     },
     "execution_count": 15,
     "metadata": {},
     "output_type": "execute_result"
    }
   ],
   "source": [
    "#Checking Missing Values\n",
    "\n",
    "df.isna().sum()"
   ]
  },
  {
   "cell_type": "code",
   "execution_count": 16,
   "id": "39e97c0f",
   "metadata": {
    "execution": {
     "iopub.execute_input": "2023-08-23T07:55:38.895140Z",
     "iopub.status.busy": "2023-08-23T07:55:38.894434Z",
     "iopub.status.idle": "2023-08-23T07:55:38.905922Z",
     "shell.execute_reply": "2023-08-23T07:55:38.905009Z"
    },
    "papermill": {
     "duration": 0.02819,
     "end_time": "2023-08-23T07:55:38.908274",
     "exception": false,
     "start_time": "2023-08-23T07:55:38.880084",
     "status": "completed"
    },
    "tags": []
   },
   "outputs": [],
   "source": [
    "#Delete Missing Values\n",
    "\n",
    "df.dropna(inplace=True)"
   ]
  },
  {
   "cell_type": "code",
   "execution_count": 17,
   "id": "fa5d03fe",
   "metadata": {
    "execution": {
     "iopub.execute_input": "2023-08-23T07:55:38.936425Z",
     "iopub.status.busy": "2023-08-23T07:55:38.935694Z",
     "iopub.status.idle": "2023-08-23T07:55:38.950583Z",
     "shell.execute_reply": "2023-08-23T07:55:38.949501Z"
    },
    "papermill": {
     "duration": 0.03171,
     "end_time": "2023-08-23T07:55:38.952992",
     "exception": false,
     "start_time": "2023-08-23T07:55:38.921282",
     "status": "completed"
    },
    "tags": []
   },
   "outputs": [
    {
     "data": {
      "text/plain": [
       "product_id             0\n",
       "product_name           0\n",
       "category               0\n",
       "discounted_price       0\n",
       "actual_price           0\n",
       "discount_percentage    0\n",
       "rating                 0\n",
       "rating_count           0\n",
       "about_product          0\n",
       "user_id                0\n",
       "user_name              0\n",
       "review_id              0\n",
       "review_title           0\n",
       "review_content         0\n",
       "img_link               0\n",
       "product_link           0\n",
       "dtype: int64"
      ]
     },
     "execution_count": 17,
     "metadata": {},
     "output_type": "execute_result"
    }
   ],
   "source": [
    "#Checking Missing Values again\n",
    "\n",
    "df.isna().sum()"
   ]
  },
  {
   "cell_type": "code",
   "execution_count": 18,
   "id": "4ed2e12b",
   "metadata": {
    "execution": {
     "iopub.execute_input": "2023-08-23T07:55:38.981460Z",
     "iopub.status.busy": "2023-08-23T07:55:38.980851Z",
     "iopub.status.idle": "2023-08-23T07:55:38.987387Z",
     "shell.execute_reply": "2023-08-23T07:55:38.986615Z"
    },
    "papermill": {
     "duration": 0.023497,
     "end_time": "2023-08-23T07:55:38.989641",
     "exception": false,
     "start_time": "2023-08-23T07:55:38.966144",
     "status": "completed"
    },
    "tags": []
   },
   "outputs": [],
   "source": [
    "#Creating a new DataFrame with Selected Column\n",
    "\n",
    "df1 = df[['product_id', 'product_name', 'category', 'discounted_price', 'actual_price', 'discount_percentage', 'rating', 'rating_count']].copy()"
   ]
  },
  {
   "cell_type": "code",
   "execution_count": 19,
   "id": "1e984cb5",
   "metadata": {
    "execution": {
     "iopub.execute_input": "2023-08-23T07:55:39.018529Z",
     "iopub.status.busy": "2023-08-23T07:55:39.017883Z",
     "iopub.status.idle": "2023-08-23T07:55:39.038999Z",
     "shell.execute_reply": "2023-08-23T07:55:39.037914Z"
    },
    "papermill": {
     "duration": 0.039045,
     "end_time": "2023-08-23T07:55:39.041939",
     "exception": false,
     "start_time": "2023-08-23T07:55:39.002894",
     "status": "completed"
    },
    "tags": []
   },
   "outputs": [
    {
     "data": {
      "text/html": [
       "<div>\n",
       "<style scoped>\n",
       "    .dataframe tbody tr th:only-of-type {\n",
       "        vertical-align: middle;\n",
       "    }\n",
       "\n",
       "    .dataframe tbody tr th {\n",
       "        vertical-align: top;\n",
       "    }\n",
       "\n",
       "    .dataframe thead th {\n",
       "        text-align: right;\n",
       "    }\n",
       "</style>\n",
       "<table border=\"1\" class=\"dataframe\">\n",
       "  <thead>\n",
       "    <tr style=\"text-align: right;\">\n",
       "      <th></th>\n",
       "      <th>0</th>\n",
       "      <th>1</th>\n",
       "      <th>2</th>\n",
       "      <th>3</th>\n",
       "      <th>4</th>\n",
       "      <th>5</th>\n",
       "      <th>6</th>\n",
       "    </tr>\n",
       "  </thead>\n",
       "  <tbody>\n",
       "    <tr>\n",
       "      <th>0</th>\n",
       "      <td>Computers&amp;Accessories</td>\n",
       "      <td>Accessories&amp;Peripherals</td>\n",
       "      <td>Cables&amp;Accessories</td>\n",
       "      <td>Cables</td>\n",
       "      <td>USBCables</td>\n",
       "      <td>None</td>\n",
       "      <td>None</td>\n",
       "    </tr>\n",
       "    <tr>\n",
       "      <th>1</th>\n",
       "      <td>Computers&amp;Accessories</td>\n",
       "      <td>Accessories&amp;Peripherals</td>\n",
       "      <td>Cables&amp;Accessories</td>\n",
       "      <td>Cables</td>\n",
       "      <td>USBCables</td>\n",
       "      <td>None</td>\n",
       "      <td>None</td>\n",
       "    </tr>\n",
       "    <tr>\n",
       "      <th>2</th>\n",
       "      <td>Computers&amp;Accessories</td>\n",
       "      <td>Accessories&amp;Peripherals</td>\n",
       "      <td>Cables&amp;Accessories</td>\n",
       "      <td>Cables</td>\n",
       "      <td>USBCables</td>\n",
       "      <td>None</td>\n",
       "      <td>None</td>\n",
       "    </tr>\n",
       "    <tr>\n",
       "      <th>3</th>\n",
       "      <td>Computers&amp;Accessories</td>\n",
       "      <td>Accessories&amp;Peripherals</td>\n",
       "      <td>Cables&amp;Accessories</td>\n",
       "      <td>Cables</td>\n",
       "      <td>USBCables</td>\n",
       "      <td>None</td>\n",
       "      <td>None</td>\n",
       "    </tr>\n",
       "    <tr>\n",
       "      <th>4</th>\n",
       "      <td>Computers&amp;Accessories</td>\n",
       "      <td>Accessories&amp;Peripherals</td>\n",
       "      <td>Cables&amp;Accessories</td>\n",
       "      <td>Cables</td>\n",
       "      <td>USBCables</td>\n",
       "      <td>None</td>\n",
       "      <td>None</td>\n",
       "    </tr>\n",
       "    <tr>\n",
       "      <th>...</th>\n",
       "      <td>...</td>\n",
       "      <td>...</td>\n",
       "      <td>...</td>\n",
       "      <td>...</td>\n",
       "      <td>...</td>\n",
       "      <td>...</td>\n",
       "      <td>...</td>\n",
       "    </tr>\n",
       "    <tr>\n",
       "      <th>1460</th>\n",
       "      <td>Home&amp;Kitchen</td>\n",
       "      <td>Kitchen&amp;HomeAppliances</td>\n",
       "      <td>WaterPurifiers&amp;Accessories</td>\n",
       "      <td>WaterPurifierAccessories</td>\n",
       "      <td>None</td>\n",
       "      <td>None</td>\n",
       "      <td>None</td>\n",
       "    </tr>\n",
       "    <tr>\n",
       "      <th>1461</th>\n",
       "      <td>Home&amp;Kitchen</td>\n",
       "      <td>Kitchen&amp;HomeAppliances</td>\n",
       "      <td>SmallKitchenAppliances</td>\n",
       "      <td>Rice&amp;PastaCookers</td>\n",
       "      <td>None</td>\n",
       "      <td>None</td>\n",
       "      <td>None</td>\n",
       "    </tr>\n",
       "    <tr>\n",
       "      <th>1462</th>\n",
       "      <td>Home&amp;Kitchen</td>\n",
       "      <td>Heating,Cooling&amp;AirQuality</td>\n",
       "      <td>RoomHeaters</td>\n",
       "      <td>HeatConvectors</td>\n",
       "      <td>None</td>\n",
       "      <td>None</td>\n",
       "      <td>None</td>\n",
       "    </tr>\n",
       "    <tr>\n",
       "      <th>1463</th>\n",
       "      <td>Home&amp;Kitchen</td>\n",
       "      <td>Heating,Cooling&amp;AirQuality</td>\n",
       "      <td>Fans</td>\n",
       "      <td>ExhaustFans</td>\n",
       "      <td>None</td>\n",
       "      <td>None</td>\n",
       "      <td>None</td>\n",
       "    </tr>\n",
       "    <tr>\n",
       "      <th>1464</th>\n",
       "      <td>Home&amp;Kitchen</td>\n",
       "      <td>Kitchen&amp;HomeAppliances</td>\n",
       "      <td>SmallKitchenAppliances</td>\n",
       "      <td>SandwichMakers</td>\n",
       "      <td>None</td>\n",
       "      <td>None</td>\n",
       "      <td>None</td>\n",
       "    </tr>\n",
       "  </tbody>\n",
       "</table>\n",
       "<p>1463 rows × 7 columns</p>\n",
       "</div>"
      ],
      "text/plain": [
       "                          0                           1  \\\n",
       "0     Computers&Accessories     Accessories&Peripherals   \n",
       "1     Computers&Accessories     Accessories&Peripherals   \n",
       "2     Computers&Accessories     Accessories&Peripherals   \n",
       "3     Computers&Accessories     Accessories&Peripherals   \n",
       "4     Computers&Accessories     Accessories&Peripherals   \n",
       "...                     ...                         ...   \n",
       "1460           Home&Kitchen      Kitchen&HomeAppliances   \n",
       "1461           Home&Kitchen      Kitchen&HomeAppliances   \n",
       "1462           Home&Kitchen  Heating,Cooling&AirQuality   \n",
       "1463           Home&Kitchen  Heating,Cooling&AirQuality   \n",
       "1464           Home&Kitchen      Kitchen&HomeAppliances   \n",
       "\n",
       "                               2                         3          4     5  \\\n",
       "0             Cables&Accessories                    Cables  USBCables  None   \n",
       "1             Cables&Accessories                    Cables  USBCables  None   \n",
       "2             Cables&Accessories                    Cables  USBCables  None   \n",
       "3             Cables&Accessories                    Cables  USBCables  None   \n",
       "4             Cables&Accessories                    Cables  USBCables  None   \n",
       "...                          ...                       ...        ...   ...   \n",
       "1460  WaterPurifiers&Accessories  WaterPurifierAccessories       None  None   \n",
       "1461      SmallKitchenAppliances         Rice&PastaCookers       None  None   \n",
       "1462                 RoomHeaters            HeatConvectors       None  None   \n",
       "1463                        Fans               ExhaustFans       None  None   \n",
       "1464      SmallKitchenAppliances            SandwichMakers       None  None   \n",
       "\n",
       "         6  \n",
       "0     None  \n",
       "1     None  \n",
       "2     None  \n",
       "3     None  \n",
       "4     None  \n",
       "...    ...  \n",
       "1460  None  \n",
       "1461  None  \n",
       "1462  None  \n",
       "1463  None  \n",
       "1464  None  \n",
       "\n",
       "[1463 rows x 7 columns]"
      ]
     },
     "execution_count": 19,
     "metadata": {},
     "output_type": "execute_result"
    }
   ],
   "source": [
    "#Splitting the Strings in the category column\n",
    "\n",
    "catsplit = df1['category'].str.split('|', expand=True)\n",
    "catsplit"
   ]
  },
  {
   "cell_type": "code",
   "execution_count": 20,
   "id": "3ce0104a",
   "metadata": {
    "execution": {
     "iopub.execute_input": "2023-08-23T07:55:39.071976Z",
     "iopub.status.busy": "2023-08-23T07:55:39.071298Z",
     "iopub.status.idle": "2023-08-23T07:55:39.088972Z",
     "shell.execute_reply": "2023-08-23T07:55:39.087877Z"
    },
    "papermill": {
     "duration": 0.035522,
     "end_time": "2023-08-23T07:55:39.091585",
     "exception": false,
     "start_time": "2023-08-23T07:55:39.056063",
     "status": "completed"
    },
    "tags": []
   },
   "outputs": [
    {
     "data": {
      "text/html": [
       "<div>\n",
       "<style scoped>\n",
       "    .dataframe tbody tr th:only-of-type {\n",
       "        vertical-align: middle;\n",
       "    }\n",
       "\n",
       "    .dataframe tbody tr th {\n",
       "        vertical-align: top;\n",
       "    }\n",
       "\n",
       "    .dataframe thead th {\n",
       "        text-align: right;\n",
       "    }\n",
       "</style>\n",
       "<table border=\"1\" class=\"dataframe\">\n",
       "  <thead>\n",
       "    <tr style=\"text-align: right;\">\n",
       "      <th></th>\n",
       "      <th>category_1</th>\n",
       "      <th>category_2</th>\n",
       "      <th>category_3</th>\n",
       "      <th>3</th>\n",
       "      <th>4</th>\n",
       "      <th>5</th>\n",
       "      <th>6</th>\n",
       "    </tr>\n",
       "  </thead>\n",
       "  <tbody>\n",
       "    <tr>\n",
       "      <th>0</th>\n",
       "      <td>Computers&amp;Accessories</td>\n",
       "      <td>Accessories&amp;Peripherals</td>\n",
       "      <td>Cables&amp;Accessories</td>\n",
       "      <td>Cables</td>\n",
       "      <td>USBCables</td>\n",
       "      <td>None</td>\n",
       "      <td>None</td>\n",
       "    </tr>\n",
       "    <tr>\n",
       "      <th>1</th>\n",
       "      <td>Computers&amp;Accessories</td>\n",
       "      <td>Accessories&amp;Peripherals</td>\n",
       "      <td>Cables&amp;Accessories</td>\n",
       "      <td>Cables</td>\n",
       "      <td>USBCables</td>\n",
       "      <td>None</td>\n",
       "      <td>None</td>\n",
       "    </tr>\n",
       "    <tr>\n",
       "      <th>2</th>\n",
       "      <td>Computers&amp;Accessories</td>\n",
       "      <td>Accessories&amp;Peripherals</td>\n",
       "      <td>Cables&amp;Accessories</td>\n",
       "      <td>Cables</td>\n",
       "      <td>USBCables</td>\n",
       "      <td>None</td>\n",
       "      <td>None</td>\n",
       "    </tr>\n",
       "    <tr>\n",
       "      <th>3</th>\n",
       "      <td>Computers&amp;Accessories</td>\n",
       "      <td>Accessories&amp;Peripherals</td>\n",
       "      <td>Cables&amp;Accessories</td>\n",
       "      <td>Cables</td>\n",
       "      <td>USBCables</td>\n",
       "      <td>None</td>\n",
       "      <td>None</td>\n",
       "    </tr>\n",
       "    <tr>\n",
       "      <th>4</th>\n",
       "      <td>Computers&amp;Accessories</td>\n",
       "      <td>Accessories&amp;Peripherals</td>\n",
       "      <td>Cables&amp;Accessories</td>\n",
       "      <td>Cables</td>\n",
       "      <td>USBCables</td>\n",
       "      <td>None</td>\n",
       "      <td>None</td>\n",
       "    </tr>\n",
       "    <tr>\n",
       "      <th>...</th>\n",
       "      <td>...</td>\n",
       "      <td>...</td>\n",
       "      <td>...</td>\n",
       "      <td>...</td>\n",
       "      <td>...</td>\n",
       "      <td>...</td>\n",
       "      <td>...</td>\n",
       "    </tr>\n",
       "    <tr>\n",
       "      <th>1460</th>\n",
       "      <td>Home&amp;Kitchen</td>\n",
       "      <td>Kitchen&amp;HomeAppliances</td>\n",
       "      <td>WaterPurifiers&amp;Accessories</td>\n",
       "      <td>WaterPurifierAccessories</td>\n",
       "      <td>None</td>\n",
       "      <td>None</td>\n",
       "      <td>None</td>\n",
       "    </tr>\n",
       "    <tr>\n",
       "      <th>1461</th>\n",
       "      <td>Home&amp;Kitchen</td>\n",
       "      <td>Kitchen&amp;HomeAppliances</td>\n",
       "      <td>SmallKitchenAppliances</td>\n",
       "      <td>Rice&amp;PastaCookers</td>\n",
       "      <td>None</td>\n",
       "      <td>None</td>\n",
       "      <td>None</td>\n",
       "    </tr>\n",
       "    <tr>\n",
       "      <th>1462</th>\n",
       "      <td>Home&amp;Kitchen</td>\n",
       "      <td>Heating,Cooling&amp;AirQuality</td>\n",
       "      <td>RoomHeaters</td>\n",
       "      <td>HeatConvectors</td>\n",
       "      <td>None</td>\n",
       "      <td>None</td>\n",
       "      <td>None</td>\n",
       "    </tr>\n",
       "    <tr>\n",
       "      <th>1463</th>\n",
       "      <td>Home&amp;Kitchen</td>\n",
       "      <td>Heating,Cooling&amp;AirQuality</td>\n",
       "      <td>Fans</td>\n",
       "      <td>ExhaustFans</td>\n",
       "      <td>None</td>\n",
       "      <td>None</td>\n",
       "      <td>None</td>\n",
       "    </tr>\n",
       "    <tr>\n",
       "      <th>1464</th>\n",
       "      <td>Home&amp;Kitchen</td>\n",
       "      <td>Kitchen&amp;HomeAppliances</td>\n",
       "      <td>SmallKitchenAppliances</td>\n",
       "      <td>SandwichMakers</td>\n",
       "      <td>None</td>\n",
       "      <td>None</td>\n",
       "      <td>None</td>\n",
       "    </tr>\n",
       "  </tbody>\n",
       "</table>\n",
       "<p>1463 rows × 7 columns</p>\n",
       "</div>"
      ],
      "text/plain": [
       "                 category_1                  category_2  \\\n",
       "0     Computers&Accessories     Accessories&Peripherals   \n",
       "1     Computers&Accessories     Accessories&Peripherals   \n",
       "2     Computers&Accessories     Accessories&Peripherals   \n",
       "3     Computers&Accessories     Accessories&Peripherals   \n",
       "4     Computers&Accessories     Accessories&Peripherals   \n",
       "...                     ...                         ...   \n",
       "1460           Home&Kitchen      Kitchen&HomeAppliances   \n",
       "1461           Home&Kitchen      Kitchen&HomeAppliances   \n",
       "1462           Home&Kitchen  Heating,Cooling&AirQuality   \n",
       "1463           Home&Kitchen  Heating,Cooling&AirQuality   \n",
       "1464           Home&Kitchen      Kitchen&HomeAppliances   \n",
       "\n",
       "                      category_3                         3          4     5  \\\n",
       "0             Cables&Accessories                    Cables  USBCables  None   \n",
       "1             Cables&Accessories                    Cables  USBCables  None   \n",
       "2             Cables&Accessories                    Cables  USBCables  None   \n",
       "3             Cables&Accessories                    Cables  USBCables  None   \n",
       "4             Cables&Accessories                    Cables  USBCables  None   \n",
       "...                          ...                       ...        ...   ...   \n",
       "1460  WaterPurifiers&Accessories  WaterPurifierAccessories       None  None   \n",
       "1461      SmallKitchenAppliances         Rice&PastaCookers       None  None   \n",
       "1462                 RoomHeaters            HeatConvectors       None  None   \n",
       "1463                        Fans               ExhaustFans       None  None   \n",
       "1464      SmallKitchenAppliances            SandwichMakers       None  None   \n",
       "\n",
       "         6  \n",
       "0     None  \n",
       "1     None  \n",
       "2     None  \n",
       "3     None  \n",
       "4     None  \n",
       "...    ...  \n",
       "1460  None  \n",
       "1461  None  \n",
       "1462  None  \n",
       "1463  None  \n",
       "1464  None  \n",
       "\n",
       "[1463 rows x 7 columns]"
      ]
     },
     "execution_count": 20,
     "metadata": {},
     "output_type": "execute_result"
    }
   ],
   "source": [
    "#Renaming category column\n",
    "\n",
    "catsplit = catsplit.rename(columns={0:'category_1',1:'category_2',2:'category_3'})\n",
    "catsplit"
   ]
  },
  {
   "cell_type": "code",
   "execution_count": 21,
   "id": "20929786",
   "metadata": {
    "execution": {
     "iopub.execute_input": "2023-08-23T07:55:39.121332Z",
     "iopub.status.busy": "2023-08-23T07:55:39.120953Z",
     "iopub.status.idle": "2023-08-23T07:55:39.149805Z",
     "shell.execute_reply": "2023-08-23T07:55:39.149037Z"
    },
    "papermill": {
     "duration": 0.046262,
     "end_time": "2023-08-23T07:55:39.151904",
     "exception": false,
     "start_time": "2023-08-23T07:55:39.105642",
     "status": "completed"
    },
    "tags": []
   },
   "outputs": [
    {
     "data": {
      "text/html": [
       "<div>\n",
       "<style scoped>\n",
       "    .dataframe tbody tr th:only-of-type {\n",
       "        vertical-align: middle;\n",
       "    }\n",
       "\n",
       "    .dataframe tbody tr th {\n",
       "        vertical-align: top;\n",
       "    }\n",
       "\n",
       "    .dataframe thead th {\n",
       "        text-align: right;\n",
       "    }\n",
       "</style>\n",
       "<table border=\"1\" class=\"dataframe\">\n",
       "  <thead>\n",
       "    <tr style=\"text-align: right;\">\n",
       "      <th></th>\n",
       "      <th>product_id</th>\n",
       "      <th>product_name</th>\n",
       "      <th>discounted_price</th>\n",
       "      <th>actual_price</th>\n",
       "      <th>discount_percentage</th>\n",
       "      <th>rating</th>\n",
       "      <th>rating_count</th>\n",
       "      <th>category_1</th>\n",
       "      <th>category_2</th>\n",
       "      <th>category_3</th>\n",
       "    </tr>\n",
       "  </thead>\n",
       "  <tbody>\n",
       "    <tr>\n",
       "      <th>0</th>\n",
       "      <td>B07JW9H4J1</td>\n",
       "      <td>Wayona Nylon Braided USB to Lightning Fast Cha...</td>\n",
       "      <td>399.0</td>\n",
       "      <td>1099.0</td>\n",
       "      <td>0.64</td>\n",
       "      <td>4.2</td>\n",
       "      <td>24269.0</td>\n",
       "      <td>Computers&amp;Accessories</td>\n",
       "      <td>Accessories&amp;Peripherals</td>\n",
       "      <td>Cables&amp;Accessories</td>\n",
       "    </tr>\n",
       "    <tr>\n",
       "      <th>1</th>\n",
       "      <td>B098NS6PVG</td>\n",
       "      <td>Ambrane Unbreakable 60W / 3A Fast Charging 1.5...</td>\n",
       "      <td>199.0</td>\n",
       "      <td>349.0</td>\n",
       "      <td>0.43</td>\n",
       "      <td>4.0</td>\n",
       "      <td>43994.0</td>\n",
       "      <td>Computers&amp;Accessories</td>\n",
       "      <td>Accessories&amp;Peripherals</td>\n",
       "      <td>Cables&amp;Accessories</td>\n",
       "    </tr>\n",
       "    <tr>\n",
       "      <th>2</th>\n",
       "      <td>B096MSW6CT</td>\n",
       "      <td>Sounce Fast Phone Charging Cable &amp; Data Sync U...</td>\n",
       "      <td>199.0</td>\n",
       "      <td>1899.0</td>\n",
       "      <td>0.90</td>\n",
       "      <td>3.9</td>\n",
       "      <td>7928.0</td>\n",
       "      <td>Computers&amp;Accessories</td>\n",
       "      <td>Accessories&amp;Peripherals</td>\n",
       "      <td>Cables&amp;Accessories</td>\n",
       "    </tr>\n",
       "    <tr>\n",
       "      <th>3</th>\n",
       "      <td>B08HDJ86NZ</td>\n",
       "      <td>boAt Deuce USB 300 2 in 1 Type-C &amp; Micro USB S...</td>\n",
       "      <td>329.0</td>\n",
       "      <td>699.0</td>\n",
       "      <td>0.53</td>\n",
       "      <td>4.2</td>\n",
       "      <td>94363.0</td>\n",
       "      <td>Computers&amp;Accessories</td>\n",
       "      <td>Accessories&amp;Peripherals</td>\n",
       "      <td>Cables&amp;Accessories</td>\n",
       "    </tr>\n",
       "    <tr>\n",
       "      <th>4</th>\n",
       "      <td>B08CF3B7N1</td>\n",
       "      <td>Portronics Konnect L 1.2M Fast Charging 3A 8 P...</td>\n",
       "      <td>154.0</td>\n",
       "      <td>399.0</td>\n",
       "      <td>0.61</td>\n",
       "      <td>4.2</td>\n",
       "      <td>16905.0</td>\n",
       "      <td>Computers&amp;Accessories</td>\n",
       "      <td>Accessories&amp;Peripherals</td>\n",
       "      <td>Cables&amp;Accessories</td>\n",
       "    </tr>\n",
       "    <tr>\n",
       "      <th>...</th>\n",
       "      <td>...</td>\n",
       "      <td>...</td>\n",
       "      <td>...</td>\n",
       "      <td>...</td>\n",
       "      <td>...</td>\n",
       "      <td>...</td>\n",
       "      <td>...</td>\n",
       "      <td>...</td>\n",
       "      <td>...</td>\n",
       "      <td>...</td>\n",
       "    </tr>\n",
       "    <tr>\n",
       "      <th>1460</th>\n",
       "      <td>B08L7J3T31</td>\n",
       "      <td>Noir Aqua - 5pcs PP Spun Filter + 1 Spanner | ...</td>\n",
       "      <td>379.0</td>\n",
       "      <td>919.0</td>\n",
       "      <td>0.59</td>\n",
       "      <td>4.0</td>\n",
       "      <td>1090.0</td>\n",
       "      <td>Home&amp;Kitchen</td>\n",
       "      <td>Kitchen&amp;HomeAppliances</td>\n",
       "      <td>WaterPurifiers&amp;Accessories</td>\n",
       "    </tr>\n",
       "    <tr>\n",
       "      <th>1461</th>\n",
       "      <td>B01M6453MB</td>\n",
       "      <td>Prestige Delight PRWO Electric Rice Cooker (1 ...</td>\n",
       "      <td>2280.0</td>\n",
       "      <td>3045.0</td>\n",
       "      <td>0.25</td>\n",
       "      <td>4.1</td>\n",
       "      <td>4118.0</td>\n",
       "      <td>Home&amp;Kitchen</td>\n",
       "      <td>Kitchen&amp;HomeAppliances</td>\n",
       "      <td>SmallKitchenAppliances</td>\n",
       "    </tr>\n",
       "    <tr>\n",
       "      <th>1462</th>\n",
       "      <td>B009P2LIL4</td>\n",
       "      <td>Bajaj Majesty RX10 2000 Watts Heat Convector R...</td>\n",
       "      <td>2219.0</td>\n",
       "      <td>3080.0</td>\n",
       "      <td>0.28</td>\n",
       "      <td>3.6</td>\n",
       "      <td>468.0</td>\n",
       "      <td>Home&amp;Kitchen</td>\n",
       "      <td>Heating,Cooling&amp;AirQuality</td>\n",
       "      <td>RoomHeaters</td>\n",
       "    </tr>\n",
       "    <tr>\n",
       "      <th>1463</th>\n",
       "      <td>B00J5DYCCA</td>\n",
       "      <td>Havells Ventil Air DSP 230mm Exhaust Fan (Pist...</td>\n",
       "      <td>1399.0</td>\n",
       "      <td>1890.0</td>\n",
       "      <td>0.26</td>\n",
       "      <td>4.0</td>\n",
       "      <td>8031.0</td>\n",
       "      <td>Home&amp;Kitchen</td>\n",
       "      <td>Heating,Cooling&amp;AirQuality</td>\n",
       "      <td>Fans</td>\n",
       "    </tr>\n",
       "    <tr>\n",
       "      <th>1464</th>\n",
       "      <td>B01486F4G6</td>\n",
       "      <td>Borosil Jumbo 1000-Watt Grill Sandwich Maker (...</td>\n",
       "      <td>2863.0</td>\n",
       "      <td>3690.0</td>\n",
       "      <td>0.22</td>\n",
       "      <td>4.3</td>\n",
       "      <td>6987.0</td>\n",
       "      <td>Home&amp;Kitchen</td>\n",
       "      <td>Kitchen&amp;HomeAppliances</td>\n",
       "      <td>SmallKitchenAppliances</td>\n",
       "    </tr>\n",
       "  </tbody>\n",
       "</table>\n",
       "<p>1463 rows × 10 columns</p>\n",
       "</div>"
      ],
      "text/plain": [
       "      product_id                                       product_name  \\\n",
       "0     B07JW9H4J1  Wayona Nylon Braided USB to Lightning Fast Cha...   \n",
       "1     B098NS6PVG  Ambrane Unbreakable 60W / 3A Fast Charging 1.5...   \n",
       "2     B096MSW6CT  Sounce Fast Phone Charging Cable & Data Sync U...   \n",
       "3     B08HDJ86NZ  boAt Deuce USB 300 2 in 1 Type-C & Micro USB S...   \n",
       "4     B08CF3B7N1  Portronics Konnect L 1.2M Fast Charging 3A 8 P...   \n",
       "...          ...                                                ...   \n",
       "1460  B08L7J3T31  Noir Aqua - 5pcs PP Spun Filter + 1 Spanner | ...   \n",
       "1461  B01M6453MB  Prestige Delight PRWO Electric Rice Cooker (1 ...   \n",
       "1462  B009P2LIL4  Bajaj Majesty RX10 2000 Watts Heat Convector R...   \n",
       "1463  B00J5DYCCA  Havells Ventil Air DSP 230mm Exhaust Fan (Pist...   \n",
       "1464  B01486F4G6  Borosil Jumbo 1000-Watt Grill Sandwich Maker (...   \n",
       "\n",
       "      discounted_price  actual_price  discount_percentage  rating  \\\n",
       "0                399.0        1099.0                 0.64     4.2   \n",
       "1                199.0         349.0                 0.43     4.0   \n",
       "2                199.0        1899.0                 0.90     3.9   \n",
       "3                329.0         699.0                 0.53     4.2   \n",
       "4                154.0         399.0                 0.61     4.2   \n",
       "...                ...           ...                  ...     ...   \n",
       "1460             379.0         919.0                 0.59     4.0   \n",
       "1461            2280.0        3045.0                 0.25     4.1   \n",
       "1462            2219.0        3080.0                 0.28     3.6   \n",
       "1463            1399.0        1890.0                 0.26     4.0   \n",
       "1464            2863.0        3690.0                 0.22     4.3   \n",
       "\n",
       "      rating_count             category_1                  category_2  \\\n",
       "0          24269.0  Computers&Accessories     Accessories&Peripherals   \n",
       "1          43994.0  Computers&Accessories     Accessories&Peripherals   \n",
       "2           7928.0  Computers&Accessories     Accessories&Peripherals   \n",
       "3          94363.0  Computers&Accessories     Accessories&Peripherals   \n",
       "4          16905.0  Computers&Accessories     Accessories&Peripherals   \n",
       "...            ...                    ...                         ...   \n",
       "1460        1090.0           Home&Kitchen      Kitchen&HomeAppliances   \n",
       "1461        4118.0           Home&Kitchen      Kitchen&HomeAppliances   \n",
       "1462         468.0           Home&Kitchen  Heating,Cooling&AirQuality   \n",
       "1463        8031.0           Home&Kitchen  Heating,Cooling&AirQuality   \n",
       "1464        6987.0           Home&Kitchen      Kitchen&HomeAppliances   \n",
       "\n",
       "                      category_3  \n",
       "0             Cables&Accessories  \n",
       "1             Cables&Accessories  \n",
       "2             Cables&Accessories  \n",
       "3             Cables&Accessories  \n",
       "4             Cables&Accessories  \n",
       "...                          ...  \n",
       "1460  WaterPurifiers&Accessories  \n",
       "1461      SmallKitchenAppliances  \n",
       "1462                 RoomHeaters  \n",
       "1463                        Fans  \n",
       "1464      SmallKitchenAppliances  \n",
       "\n",
       "[1463 rows x 10 columns]"
      ]
     },
     "execution_count": 21,
     "metadata": {},
     "output_type": "execute_result"
    }
   ],
   "source": [
    "#Adding categories to the new dataframe\n",
    "\n",
    "df1['category_1'] = catsplit['category_1']\n",
    "df1['category_2'] = catsplit['category_2']\n",
    "df1['category_3'] = catsplit['category_3']\n",
    "\n",
    "df1.drop(columns='category', inplace=True)\n",
    "\n",
    "df1"
   ]
  },
  {
   "cell_type": "code",
   "execution_count": 22,
   "id": "c9ea7572",
   "metadata": {
    "execution": {
     "iopub.execute_input": "2023-08-23T07:55:39.183271Z",
     "iopub.status.busy": "2023-08-23T07:55:39.182615Z",
     "iopub.status.idle": "2023-08-23T07:55:39.192306Z",
     "shell.execute_reply": "2023-08-23T07:55:39.191206Z"
    },
    "papermill": {
     "duration": 0.027965,
     "end_time": "2023-08-23T07:55:39.194675",
     "exception": false,
     "start_time": "2023-08-23T07:55:39.166710",
     "status": "completed"
    },
    "tags": []
   },
   "outputs": [
    {
     "data": {
      "text/plain": [
       "0       B07JW9H4J1\n",
       "1       B098NS6PVG\n",
       "2       B096MSW6CT\n",
       "3       B08HDJ86NZ\n",
       "4       B08CF3B7N1\n",
       "           ...    \n",
       "1460    B08L7J3T31\n",
       "1461    B01M6453MB\n",
       "1462    B009P2LIL4\n",
       "1463    B00J5DYCCA\n",
       "1464    B01486F4G6\n",
       "Name: product_id, Length: 1463, dtype: object"
      ]
     },
     "execution_count": 22,
     "metadata": {},
     "output_type": "execute_result"
    }
   ],
   "source": [
    "#Removing Whitespace from product_id\n",
    "\n",
    "df1['product_id'].str.strip()"
   ]
  },
  {
   "cell_type": "code",
   "execution_count": 23,
   "id": "dbd05f40",
   "metadata": {
    "execution": {
     "iopub.execute_input": "2023-08-23T07:55:39.226701Z",
     "iopub.status.busy": "2023-08-23T07:55:39.226277Z",
     "iopub.status.idle": "2023-08-23T07:55:39.241682Z",
     "shell.execute_reply": "2023-08-23T07:55:39.240470Z"
    },
    "papermill": {
     "duration": 0.034932,
     "end_time": "2023-08-23T07:55:39.244180",
     "exception": false,
     "start_time": "2023-08-23T07:55:39.209248",
     "status": "completed"
    },
    "tags": []
   },
   "outputs": [
    {
     "data": {
      "text/html": [
       "<div>\n",
       "<style scoped>\n",
       "    .dataframe tbody tr th:only-of-type {\n",
       "        vertical-align: middle;\n",
       "    }\n",
       "\n",
       "    .dataframe tbody tr th {\n",
       "        vertical-align: top;\n",
       "    }\n",
       "\n",
       "    .dataframe thead th {\n",
       "        text-align: right;\n",
       "    }\n",
       "</style>\n",
       "<table border=\"1\" class=\"dataframe\">\n",
       "  <thead>\n",
       "    <tr style=\"text-align: right;\">\n",
       "      <th></th>\n",
       "      <th>user_id</th>\n",
       "      <th>user_name</th>\n",
       "    </tr>\n",
       "  </thead>\n",
       "  <tbody>\n",
       "    <tr>\n",
       "      <th>0</th>\n",
       "      <td>AG3D6O4STAQKAY2UVGEUV46KN35Q,AHMY5CWJMMK5BJRBB...</td>\n",
       "      <td>Manav,Adarsh gupta,Sundeep,S.Sayeed Ahmed,jasp...</td>\n",
       "    </tr>\n",
       "    <tr>\n",
       "      <th>1</th>\n",
       "      <td>AECPFYFQVRUWC3KGNLJIOREFP5LQ,AGYYVPDD7YG7FYNBX...</td>\n",
       "      <td>ArdKn,Nirbhay kumar,Sagar Viswanathan,Asp,Plac...</td>\n",
       "    </tr>\n",
       "    <tr>\n",
       "      <th>2</th>\n",
       "      <td>AGU3BBQ2V2DDAMOAKGFAWDDQ6QHA,AESFLDV2PT363T2AQ...</td>\n",
       "      <td>Kunal,Himanshu,viswanath,sai niharka,saqib mal...</td>\n",
       "    </tr>\n",
       "    <tr>\n",
       "      <th>3</th>\n",
       "      <td>AEWAZDZZJLQUYVOVGBEUKSLXHQ5A,AG5HTSFRRE6NL3M5S...</td>\n",
       "      <td>Omkar dhale,JD,HEMALATHA,Ajwadh a.,amar singh ...</td>\n",
       "    </tr>\n",
       "    <tr>\n",
       "      <th>4</th>\n",
       "      <td>AE3Q6KSUK5P75D5HFYHCRAOLODSA,AFUGIFH5ZAFXRDSZH...</td>\n",
       "      <td>rahuls6099,Swasat Borah,Ajay Wadke,Pranali,RVK...</td>\n",
       "    </tr>\n",
       "    <tr>\n",
       "      <th>...</th>\n",
       "      <td>...</td>\n",
       "      <td>...</td>\n",
       "    </tr>\n",
       "    <tr>\n",
       "      <th>1460</th>\n",
       "      <td>AHITFY6AHALOFOHOZEOC6XBP4FEA,AFRABBODZJZQB6Z4U...</td>\n",
       "      <td>Prabha ds,Raghuram bk,Real Deal,Amazon Custome...</td>\n",
       "    </tr>\n",
       "    <tr>\n",
       "      <th>1461</th>\n",
       "      <td>AFG5FM3NEMOL6BNFRV2NK5FNJCHQ,AGEINTRN6Z563RMLH...</td>\n",
       "      <td>Manu Bhai,Naveenpittu,Evatira Sangma,JAGANNADH...</td>\n",
       "    </tr>\n",
       "    <tr>\n",
       "      <th>1462</th>\n",
       "      <td>AGVPWCMAHYQWJOQKMUJN4DW3KM5Q,AF4Q3E66MY4SR7YQZ...</td>\n",
       "      <td>Nehal Desai,Danish Parwez,Amazon Customer,Amaz...</td>\n",
       "    </tr>\n",
       "    <tr>\n",
       "      <th>1463</th>\n",
       "      <td>AF2JQCLSCY3QJATWUNNHUSVUPNQQ,AFDMLUXC5LS5RXDJS...</td>\n",
       "      <td>Shubham Dubey,E.GURUBARAN,Mayank S.,eusuf khan...</td>\n",
       "    </tr>\n",
       "    <tr>\n",
       "      <th>1464</th>\n",
       "      <td>AFGW5PT3R6ZAVQR4Y5MWVAKBZAYA,AG7QNJ2SCS5VS5VYY...</td>\n",
       "      <td>Rajib,Ajay B,Vikas Kahol,PARDEEP,Anindya Prama...</td>\n",
       "    </tr>\n",
       "  </tbody>\n",
       "</table>\n",
       "<p>1463 rows × 2 columns</p>\n",
       "</div>"
      ],
      "text/plain": [
       "                                                user_id  \\\n",
       "0     AG3D6O4STAQKAY2UVGEUV46KN35Q,AHMY5CWJMMK5BJRBB...   \n",
       "1     AECPFYFQVRUWC3KGNLJIOREFP5LQ,AGYYVPDD7YG7FYNBX...   \n",
       "2     AGU3BBQ2V2DDAMOAKGFAWDDQ6QHA,AESFLDV2PT363T2AQ...   \n",
       "3     AEWAZDZZJLQUYVOVGBEUKSLXHQ5A,AG5HTSFRRE6NL3M5S...   \n",
       "4     AE3Q6KSUK5P75D5HFYHCRAOLODSA,AFUGIFH5ZAFXRDSZH...   \n",
       "...                                                 ...   \n",
       "1460  AHITFY6AHALOFOHOZEOC6XBP4FEA,AFRABBODZJZQB6Z4U...   \n",
       "1461  AFG5FM3NEMOL6BNFRV2NK5FNJCHQ,AGEINTRN6Z563RMLH...   \n",
       "1462  AGVPWCMAHYQWJOQKMUJN4DW3KM5Q,AF4Q3E66MY4SR7YQZ...   \n",
       "1463  AF2JQCLSCY3QJATWUNNHUSVUPNQQ,AFDMLUXC5LS5RXDJS...   \n",
       "1464  AFGW5PT3R6ZAVQR4Y5MWVAKBZAYA,AG7QNJ2SCS5VS5VYY...   \n",
       "\n",
       "                                              user_name  \n",
       "0     Manav,Adarsh gupta,Sundeep,S.Sayeed Ahmed,jasp...  \n",
       "1     ArdKn,Nirbhay kumar,Sagar Viswanathan,Asp,Plac...  \n",
       "2     Kunal,Himanshu,viswanath,sai niharka,saqib mal...  \n",
       "3     Omkar dhale,JD,HEMALATHA,Ajwadh a.,amar singh ...  \n",
       "4     rahuls6099,Swasat Borah,Ajay Wadke,Pranali,RVK...  \n",
       "...                                                 ...  \n",
       "1460  Prabha ds,Raghuram bk,Real Deal,Amazon Custome...  \n",
       "1461  Manu Bhai,Naveenpittu,Evatira Sangma,JAGANNADH...  \n",
       "1462  Nehal Desai,Danish Parwez,Amazon Customer,Amaz...  \n",
       "1463  Shubham Dubey,E.GURUBARAN,Mayank S.,eusuf khan...  \n",
       "1464  Rajib,Ajay B,Vikas Kahol,PARDEEP,Anindya Prama...  \n",
       "\n",
       "[1463 rows x 2 columns]"
      ]
     },
     "execution_count": 23,
     "metadata": {},
     "output_type": "execute_result"
    }
   ],
   "source": [
    "#Subsetting Reviewers Identifications\n",
    "\n",
    "reviewers = df[['user_id','user_name']]\n",
    "reviewers"
   ]
  },
  {
   "cell_type": "code",
   "execution_count": 24,
   "id": "b86a44ad",
   "metadata": {
    "execution": {
     "iopub.execute_input": "2023-08-23T07:55:39.277515Z",
     "iopub.status.busy": "2023-08-23T07:55:39.276213Z",
     "iopub.status.idle": "2023-08-23T07:55:39.290605Z",
     "shell.execute_reply": "2023-08-23T07:55:39.289655Z"
    },
    "papermill": {
     "duration": 0.033546,
     "end_time": "2023-08-23T07:55:39.292715",
     "exception": false,
     "start_time": "2023-08-23T07:55:39.259169",
     "status": "completed"
    },
    "tags": []
   },
   "outputs": [
    {
     "data": {
      "text/plain": [
       "0       [AG3D6O4STAQKAY2UVGEUV46KN35Q, AHMY5CWJMMK5BJR...\n",
       "1       [AECPFYFQVRUWC3KGNLJIOREFP5LQ, AGYYVPDD7YG7FYN...\n",
       "2       [AGU3BBQ2V2DDAMOAKGFAWDDQ6QHA, AESFLDV2PT363T2...\n",
       "3       [AEWAZDZZJLQUYVOVGBEUKSLXHQ5A, AG5HTSFRRE6NL3M...\n",
       "4       [AE3Q6KSUK5P75D5HFYHCRAOLODSA, AFUGIFH5ZAFXRDS...\n",
       "                              ...                        \n",
       "1460    [AHITFY6AHALOFOHOZEOC6XBP4FEA, AFRABBODZJZQB6Z...\n",
       "1461    [AFG5FM3NEMOL6BNFRV2NK5FNJCHQ, AGEINTRN6Z563RM...\n",
       "1462    [AGVPWCMAHYQWJOQKMUJN4DW3KM5Q, AF4Q3E66MY4SR7Y...\n",
       "1463    [AF2JQCLSCY3QJATWUNNHUSVUPNQQ, AFDMLUXC5LS5RXD...\n",
       "1464    [AFGW5PT3R6ZAVQR4Y5MWVAKBZAYA, AG7QNJ2SCS5VS5V...\n",
       "Name: user_id, Length: 1463, dtype: object"
      ]
     },
     "execution_count": 24,
     "metadata": {},
     "output_type": "execute_result"
    }
   ],
   "source": [
    "#Splitting the strings in user_id column\n",
    "\n",
    "user_id_split = reviewers['user_id'].str.split(',',expand=False)\n",
    "user_id_split"
   ]
  },
  {
   "cell_type": "code",
   "execution_count": 25,
   "id": "2e4d4185",
   "metadata": {
    "execution": {
     "iopub.execute_input": "2023-08-23T07:55:39.324436Z",
     "iopub.status.busy": "2023-08-23T07:55:39.323738Z",
     "iopub.status.idle": "2023-08-23T07:55:39.334802Z",
     "shell.execute_reply": "2023-08-23T07:55:39.333742Z"
    },
    "papermill": {
     "duration": 0.029546,
     "end_time": "2023-08-23T07:55:39.337229",
     "exception": false,
     "start_time": "2023-08-23T07:55:39.307683",
     "status": "completed"
    },
    "tags": []
   },
   "outputs": [
    {
     "data": {
      "text/plain": [
       "0       AG3D6O4STAQKAY2UVGEUV46KN35Q\n",
       "0       AHMY5CWJMMK5BJRBBSNLYT3ONILA\n",
       "0       AHCTC6ULH4XB6YHDY6PCH2R772LQ\n",
       "0       AGYHHIERNXKA6P5T7CZLXKVPT7IQ\n",
       "0       AG4OGOFWXJZTQ2HKYIOCOY3KXF2Q\n",
       "                    ...             \n",
       "1464    AHXCDNSXAESERITAFELQABFVNLCA\n",
       "1464    AGRZD6CHLCUNOLMMIMIHUCG7PIFA\n",
       "1464    AFQZVGSOSOJHKFQQMCEI4725QEKQ\n",
       "1464    AEALVGXXIP46OZVXKRUXSDWZJMEA\n",
       "1464    AGEFL3AY7YXEFZA4ZJU3LP7K7OJQ\n",
       "Name: user_id, Length: 11501, dtype: object"
      ]
     },
     "execution_count": 25,
     "metadata": {},
     "output_type": "execute_result"
    }
   ],
   "source": [
    "#Making user id display 1 id per row - 1\n",
    "\n",
    "user_id_exp = user_id_split.explode()\n",
    "user_id_exp"
   ]
  },
  {
   "cell_type": "code",
   "execution_count": 26,
   "id": "9784a4ad",
   "metadata": {
    "execution": {
     "iopub.execute_input": "2023-08-23T07:55:39.369202Z",
     "iopub.status.busy": "2023-08-23T07:55:39.368800Z",
     "iopub.status.idle": "2023-08-23T07:55:39.377738Z",
     "shell.execute_reply": "2023-08-23T07:55:39.376631Z"
    },
    "papermill": {
     "duration": 0.027447,
     "end_time": "2023-08-23T07:55:39.379897",
     "exception": false,
     "start_time": "2023-08-23T07:55:39.352450",
     "status": "completed"
    },
    "tags": []
   },
   "outputs": [
    {
     "data": {
      "text/plain": [
       "0        AG3D6O4STAQKAY2UVGEUV46KN35Q\n",
       "1        AHMY5CWJMMK5BJRBBSNLYT3ONILA\n",
       "2        AHCTC6ULH4XB6YHDY6PCH2R772LQ\n",
       "3        AGYHHIERNXKA6P5T7CZLXKVPT7IQ\n",
       "4        AG4OGOFWXJZTQ2HKYIOCOY3KXF2Q\n",
       "                     ...             \n",
       "11496    AHXCDNSXAESERITAFELQABFVNLCA\n",
       "11497    AGRZD6CHLCUNOLMMIMIHUCG7PIFA\n",
       "11498    AFQZVGSOSOJHKFQQMCEI4725QEKQ\n",
       "11499    AEALVGXXIP46OZVXKRUXSDWZJMEA\n",
       "11500    AGEFL3AY7YXEFZA4ZJU3LP7K7OJQ\n",
       "Name: user_id, Length: 11501, dtype: object"
      ]
     },
     "execution_count": 26,
     "metadata": {},
     "output_type": "execute_result"
    }
   ],
   "source": [
    "#Making user id display 1 id per row - 2\n",
    "\n",
    "user_id_clean = user_id_exp.reset_index(drop=True)\n",
    "user_id_clean"
   ]
  },
  {
   "cell_type": "code",
   "execution_count": 27,
   "id": "1d513da5",
   "metadata": {
    "execution": {
     "iopub.execute_input": "2023-08-23T07:55:39.412842Z",
     "iopub.status.busy": "2023-08-23T07:55:39.412270Z",
     "iopub.status.idle": "2023-08-23T07:55:39.424693Z",
     "shell.execute_reply": "2023-08-23T07:55:39.423885Z"
    },
    "papermill": {
     "duration": 0.031557,
     "end_time": "2023-08-23T07:55:39.426784",
     "exception": false,
     "start_time": "2023-08-23T07:55:39.395227",
     "status": "completed"
    },
    "tags": []
   },
   "outputs": [
    {
     "data": {
      "text/plain": [
       "0       [Manav, Adarsh gupta, Sundeep, S.Sayeed Ahmed,...\n",
       "1       [ArdKn, Nirbhay kumar, Sagar Viswanathan, Asp,...\n",
       "2       [Kunal, Himanshu, viswanath, sai niharka, saqi...\n",
       "3       [Omkar dhale, JD, HEMALATHA, Ajwadh a., amar s...\n",
       "4       [rahuls6099, Swasat Borah, Ajay Wadke, Pranali...\n",
       "                              ...                        \n",
       "1460    [Prabha ds, Raghuram bk, Real Deal, Amazon Cus...\n",
       "1461    [Manu Bhai, Naveenpittu, Evatira Sangma, JAGAN...\n",
       "1462    [Nehal Desai, Danish Parwez, Amazon Customer, ...\n",
       "1463    [Shubham Dubey, E.GURUBARAN, Mayank S., eusuf ...\n",
       "1464    [Rajib, Ajay B, Vikas Kahol, PARDEEP, Anindya ...\n",
       "Name: user_name, Length: 1463, dtype: object"
      ]
     },
     "execution_count": 27,
     "metadata": {},
     "output_type": "execute_result"
    }
   ],
   "source": [
    "user_name_split = reviewers['user_name'].str.split(',',expand=False)\n",
    "user_name_split"
   ]
  },
  {
   "cell_type": "code",
   "execution_count": 28,
   "id": "12edc5fd",
   "metadata": {
    "execution": {
     "iopub.execute_input": "2023-08-23T07:55:39.459760Z",
     "iopub.status.busy": "2023-08-23T07:55:39.459280Z",
     "iopub.status.idle": "2023-08-23T07:55:39.468375Z",
     "shell.execute_reply": "2023-08-23T07:55:39.467276Z"
    },
    "papermill": {
     "duration": 0.028051,
     "end_time": "2023-08-23T07:55:39.470640",
     "exception": false,
     "start_time": "2023-08-23T07:55:39.442589",
     "status": "completed"
    },
    "tags": []
   },
   "outputs": [
    {
     "data": {
      "text/plain": [
       "0                  Manav\n",
       "0           Adarsh gupta\n",
       "0                Sundeep\n",
       "0         S.Sayeed Ahmed\n",
       "0         jaspreet singh\n",
       "              ...       \n",
       "1464             PARDEEP\n",
       "1464    Anindya Pramanik\n",
       "1464         Vikas Singh\n",
       "1464     Harshada Pimple\n",
       "1464              Saw a.\n",
       "Name: user_name, Length: 11513, dtype: object"
      ]
     },
     "execution_count": 28,
     "metadata": {},
     "output_type": "execute_result"
    }
   ],
   "source": [
    "#Splitting the strings in user_name column\n",
    "\n",
    "user_name_exp = user_name_split.explode()\n",
    "user_name_exp"
   ]
  },
  {
   "cell_type": "code",
   "execution_count": 29,
   "id": "eef236f0",
   "metadata": {
    "execution": {
     "iopub.execute_input": "2023-08-23T07:55:39.503481Z",
     "iopub.status.busy": "2023-08-23T07:55:39.503052Z",
     "iopub.status.idle": "2023-08-23T07:55:39.511895Z",
     "shell.execute_reply": "2023-08-23T07:55:39.511094Z"
    },
    "papermill": {
     "duration": 0.027615,
     "end_time": "2023-08-23T07:55:39.513886",
     "exception": false,
     "start_time": "2023-08-23T07:55:39.486271",
     "status": "completed"
    },
    "tags": []
   },
   "outputs": [
    {
     "data": {
      "text/plain": [
       "0                   Manav\n",
       "1            Adarsh gupta\n",
       "2                 Sundeep\n",
       "3          S.Sayeed Ahmed\n",
       "4          jaspreet singh\n",
       "               ...       \n",
       "11508             PARDEEP\n",
       "11509    Anindya Pramanik\n",
       "11510         Vikas Singh\n",
       "11511     Harshada Pimple\n",
       "11512              Saw a.\n",
       "Name: user_name, Length: 11513, dtype: object"
      ]
     },
     "execution_count": 29,
     "metadata": {},
     "output_type": "execute_result"
    }
   ],
   "source": [
    "#Making user name display 1 id per row - 1\n",
    "\n",
    "user_name_clean = user_name_exp.reset_index(drop=True)\n",
    "user_name_clean"
   ]
  },
  {
   "cell_type": "code",
   "execution_count": 30,
   "id": "6e994656",
   "metadata": {
    "execution": {
     "iopub.execute_input": "2023-08-23T07:55:39.547475Z",
     "iopub.status.busy": "2023-08-23T07:55:39.546772Z",
     "iopub.status.idle": "2023-08-23T07:55:39.552847Z",
     "shell.execute_reply": "2023-08-23T07:55:39.551624Z"
    },
    "papermill": {
     "duration": 0.025748,
     "end_time": "2023-08-23T07:55:39.555337",
     "exception": false,
     "start_time": "2023-08-23T07:55:39.529589",
     "status": "completed"
    },
    "tags": []
   },
   "outputs": [],
   "source": [
    "#Making user name display 1 id per row - 2\n",
    "\n",
    "df21 = pd.DataFrame(data=user_id_clean)\n",
    "df22 = pd.DataFrame(data=user_name_clean)"
   ]
  },
  {
   "cell_type": "code",
   "execution_count": 31,
   "id": "47c2df8c",
   "metadata": {
    "execution": {
     "iopub.execute_input": "2023-08-23T07:55:39.589628Z",
     "iopub.status.busy": "2023-08-23T07:55:39.588833Z",
     "iopub.status.idle": "2023-08-23T07:55:39.615127Z",
     "shell.execute_reply": "2023-08-23T07:55:39.614131Z"
    },
    "papermill": {
     "duration": 0.045893,
     "end_time": "2023-08-23T07:55:39.617494",
     "exception": false,
     "start_time": "2023-08-23T07:55:39.571601",
     "status": "completed"
    },
    "tags": []
   },
   "outputs": [
    {
     "data": {
      "text/html": [
       "<div>\n",
       "<style scoped>\n",
       "    .dataframe tbody tr th:only-of-type {\n",
       "        vertical-align: middle;\n",
       "    }\n",
       "\n",
       "    .dataframe tbody tr th {\n",
       "        vertical-align: top;\n",
       "    }\n",
       "\n",
       "    .dataframe thead th {\n",
       "        text-align: right;\n",
       "    }\n",
       "</style>\n",
       "<table border=\"1\" class=\"dataframe\">\n",
       "  <thead>\n",
       "    <tr style=\"text-align: right;\">\n",
       "      <th></th>\n",
       "      <th>user_id</th>\n",
       "      <th>user_name</th>\n",
       "    </tr>\n",
       "  </thead>\n",
       "  <tbody>\n",
       "    <tr>\n",
       "      <th>0</th>\n",
       "      <td>AG3D6O4STAQKAY2UVGEUV46KN35Q</td>\n",
       "      <td>Manav</td>\n",
       "    </tr>\n",
       "    <tr>\n",
       "      <th>1</th>\n",
       "      <td>AHMY5CWJMMK5BJRBBSNLYT3ONILA</td>\n",
       "      <td>Adarsh gupta</td>\n",
       "    </tr>\n",
       "    <tr>\n",
       "      <th>2</th>\n",
       "      <td>AHCTC6ULH4XB6YHDY6PCH2R772LQ</td>\n",
       "      <td>Sundeep</td>\n",
       "    </tr>\n",
       "    <tr>\n",
       "      <th>3</th>\n",
       "      <td>AGYHHIERNXKA6P5T7CZLXKVPT7IQ</td>\n",
       "      <td>S.Sayeed Ahmed</td>\n",
       "    </tr>\n",
       "    <tr>\n",
       "      <th>4</th>\n",
       "      <td>AG4OGOFWXJZTQ2HKYIOCOY3KXF2Q</td>\n",
       "      <td>jaspreet singh</td>\n",
       "    </tr>\n",
       "    <tr>\n",
       "      <th>...</th>\n",
       "      <td>...</td>\n",
       "      <td>...</td>\n",
       "    </tr>\n",
       "    <tr>\n",
       "      <th>11496</th>\n",
       "      <td>AHXCDNSXAESERITAFELQABFVNLCA</td>\n",
       "      <td>BATTU SURESHKUMAR</td>\n",
       "    </tr>\n",
       "    <tr>\n",
       "      <th>11497</th>\n",
       "      <td>AGRZD6CHLCUNOLMMIMIHUCG7PIFA</td>\n",
       "      <td>Shubham Dubey</td>\n",
       "    </tr>\n",
       "    <tr>\n",
       "      <th>11498</th>\n",
       "      <td>AFQZVGSOSOJHKFQQMCEI4725QEKQ</td>\n",
       "      <td>E.GURUBARAN</td>\n",
       "    </tr>\n",
       "    <tr>\n",
       "      <th>11499</th>\n",
       "      <td>AEALVGXXIP46OZVXKRUXSDWZJMEA</td>\n",
       "      <td>Mayank S.</td>\n",
       "    </tr>\n",
       "    <tr>\n",
       "      <th>11500</th>\n",
       "      <td>AGEFL3AY7YXEFZA4ZJU3LP7K7OJQ</td>\n",
       "      <td>eusuf khan</td>\n",
       "    </tr>\n",
       "  </tbody>\n",
       "</table>\n",
       "<p>11501 rows × 2 columns</p>\n",
       "</div>"
      ],
      "text/plain": [
       "                            user_id          user_name\n",
       "0      AG3D6O4STAQKAY2UVGEUV46KN35Q              Manav\n",
       "1      AHMY5CWJMMK5BJRBBSNLYT3ONILA       Adarsh gupta\n",
       "2      AHCTC6ULH4XB6YHDY6PCH2R772LQ            Sundeep\n",
       "3      AGYHHIERNXKA6P5T7CZLXKVPT7IQ     S.Sayeed Ahmed\n",
       "4      AG4OGOFWXJZTQ2HKYIOCOY3KXF2Q     jaspreet singh\n",
       "...                             ...                ...\n",
       "11496  AHXCDNSXAESERITAFELQABFVNLCA  BATTU SURESHKUMAR\n",
       "11497  AGRZD6CHLCUNOLMMIMIHUCG7PIFA      Shubham Dubey\n",
       "11498  AFQZVGSOSOJHKFQQMCEI4725QEKQ        E.GURUBARAN\n",
       "11499  AEALVGXXIP46OZVXKRUXSDWZJMEA          Mayank S.\n",
       "11500  AGEFL3AY7YXEFZA4ZJU3LP7K7OJQ         eusuf khan\n",
       "\n",
       "[11501 rows x 2 columns]"
      ]
     },
     "execution_count": 31,
     "metadata": {},
     "output_type": "execute_result"
    }
   ],
   "source": [
    "#Creating 2 Data Frames to be merged\n",
    "\n",
    "df2 = pd.merge(df21,df22,left_index=True,right_index=True)\n",
    "df2"
   ]
  },
  {
   "cell_type": "code",
   "execution_count": 32,
   "id": "9ce27107",
   "metadata": {
    "execution": {
     "iopub.execute_input": "2023-08-23T07:55:39.652081Z",
     "iopub.status.busy": "2023-08-23T07:55:39.651348Z",
     "iopub.status.idle": "2023-08-23T07:55:39.670258Z",
     "shell.execute_reply": "2023-08-23T07:55:39.669129Z"
    },
    "papermill": {
     "duration": 0.038929,
     "end_time": "2023-08-23T07:55:39.672789",
     "exception": false,
     "start_time": "2023-08-23T07:55:39.633860",
     "status": "completed"
    },
    "tags": []
   },
   "outputs": [
    {
     "data": {
      "text/html": [
       "<div>\n",
       "<style scoped>\n",
       "    .dataframe tbody tr th:only-of-type {\n",
       "        vertical-align: middle;\n",
       "    }\n",
       "\n",
       "    .dataframe tbody tr th {\n",
       "        vertical-align: top;\n",
       "    }\n",
       "\n",
       "    .dataframe thead th {\n",
       "        text-align: right;\n",
       "    }\n",
       "</style>\n",
       "<table border=\"1\" class=\"dataframe\">\n",
       "  <thead>\n",
       "    <tr style=\"text-align: right;\">\n",
       "      <th></th>\n",
       "      <th>product_id</th>\n",
       "      <th>product_name</th>\n",
       "      <th>discounted_price</th>\n",
       "      <th>actual_price</th>\n",
       "      <th>discount_percentage</th>\n",
       "      <th>rating</th>\n",
       "      <th>rating_count</th>\n",
       "      <th>category_1</th>\n",
       "      <th>category_2</th>\n",
       "      <th>category_3</th>\n",
       "    </tr>\n",
       "  </thead>\n",
       "  <tbody>\n",
       "    <tr>\n",
       "      <th>0</th>\n",
       "      <td>B07JW9H4J1</td>\n",
       "      <td>Wayona Nylon Braided USB to Lightning Fast Cha...</td>\n",
       "      <td>399.0</td>\n",
       "      <td>1099.0</td>\n",
       "      <td>0.64</td>\n",
       "      <td>4.2</td>\n",
       "      <td>24269.0</td>\n",
       "      <td>Computers&amp;Accessories</td>\n",
       "      <td>Accessories&amp;Peripherals</td>\n",
       "      <td>Cables&amp;Accessories</td>\n",
       "    </tr>\n",
       "    <tr>\n",
       "      <th>1</th>\n",
       "      <td>B098NS6PVG</td>\n",
       "      <td>Ambrane Unbreakable 60W / 3A Fast Charging 1.5...</td>\n",
       "      <td>199.0</td>\n",
       "      <td>349.0</td>\n",
       "      <td>0.43</td>\n",
       "      <td>4.0</td>\n",
       "      <td>43994.0</td>\n",
       "      <td>Computers&amp;Accessories</td>\n",
       "      <td>Accessories&amp;Peripherals</td>\n",
       "      <td>Cables&amp;Accessories</td>\n",
       "    </tr>\n",
       "    <tr>\n",
       "      <th>2</th>\n",
       "      <td>B096MSW6CT</td>\n",
       "      <td>Sounce Fast Phone Charging Cable &amp; Data Sync U...</td>\n",
       "      <td>199.0</td>\n",
       "      <td>1899.0</td>\n",
       "      <td>0.90</td>\n",
       "      <td>3.9</td>\n",
       "      <td>7928.0</td>\n",
       "      <td>Computers&amp;Accessories</td>\n",
       "      <td>Accessories&amp;Peripherals</td>\n",
       "      <td>Cables&amp;Accessories</td>\n",
       "    </tr>\n",
       "    <tr>\n",
       "      <th>3</th>\n",
       "      <td>B08HDJ86NZ</td>\n",
       "      <td>boAt Deuce USB 300 2 in 1 Type-C &amp; Micro USB S...</td>\n",
       "      <td>329.0</td>\n",
       "      <td>699.0</td>\n",
       "      <td>0.53</td>\n",
       "      <td>4.2</td>\n",
       "      <td>94363.0</td>\n",
       "      <td>Computers&amp;Accessories</td>\n",
       "      <td>Accessories&amp;Peripherals</td>\n",
       "      <td>Cables&amp;Accessories</td>\n",
       "    </tr>\n",
       "    <tr>\n",
       "      <th>4</th>\n",
       "      <td>B08CF3B7N1</td>\n",
       "      <td>Portronics Konnect L 1.2M Fast Charging 3A 8 P...</td>\n",
       "      <td>154.0</td>\n",
       "      <td>399.0</td>\n",
       "      <td>0.61</td>\n",
       "      <td>4.2</td>\n",
       "      <td>16905.0</td>\n",
       "      <td>Computers&amp;Accessories</td>\n",
       "      <td>Accessories&amp;Peripherals</td>\n",
       "      <td>Cables&amp;Accessories</td>\n",
       "    </tr>\n",
       "  </tbody>\n",
       "</table>\n",
       "</div>"
      ],
      "text/plain": [
       "   product_id                                       product_name  \\\n",
       "0  B07JW9H4J1  Wayona Nylon Braided USB to Lightning Fast Cha...   \n",
       "1  B098NS6PVG  Ambrane Unbreakable 60W / 3A Fast Charging 1.5...   \n",
       "2  B096MSW6CT  Sounce Fast Phone Charging Cable & Data Sync U...   \n",
       "3  B08HDJ86NZ  boAt Deuce USB 300 2 in 1 Type-C & Micro USB S...   \n",
       "4  B08CF3B7N1  Portronics Konnect L 1.2M Fast Charging 3A 8 P...   \n",
       "\n",
       "   discounted_price  actual_price  discount_percentage  rating  rating_count  \\\n",
       "0             399.0        1099.0                 0.64     4.2       24269.0   \n",
       "1             199.0         349.0                 0.43     4.0       43994.0   \n",
       "2             199.0        1899.0                 0.90     3.9        7928.0   \n",
       "3             329.0         699.0                 0.53     4.2       94363.0   \n",
       "4             154.0         399.0                 0.61     4.2       16905.0   \n",
       "\n",
       "              category_1               category_2          category_3  \n",
       "0  Computers&Accessories  Accessories&Peripherals  Cables&Accessories  \n",
       "1  Computers&Accessories  Accessories&Peripherals  Cables&Accessories  \n",
       "2  Computers&Accessories  Accessories&Peripherals  Cables&Accessories  \n",
       "3  Computers&Accessories  Accessories&Peripherals  Cables&Accessories  \n",
       "4  Computers&Accessories  Accessories&Peripherals  Cables&Accessories  "
      ]
     },
     "execution_count": 32,
     "metadata": {},
     "output_type": "execute_result"
    }
   ],
   "source": [
    "df1.head()"
   ]
  },
  {
   "cell_type": "code",
   "execution_count": 33,
   "id": "81e915c4",
   "metadata": {
    "execution": {
     "iopub.execute_input": "2023-08-23T07:55:39.707862Z",
     "iopub.status.busy": "2023-08-23T07:55:39.707101Z",
     "iopub.status.idle": "2023-08-23T07:55:39.744495Z",
     "shell.execute_reply": "2023-08-23T07:55:39.743200Z"
    },
    "papermill": {
     "duration": 0.058299,
     "end_time": "2023-08-23T07:55:39.747486",
     "exception": false,
     "start_time": "2023-08-23T07:55:39.689187",
     "status": "completed"
    },
    "tags": []
   },
   "outputs": [],
   "source": [
    "df1.to_csv('amazon_dataset_clean.csv',index=False)"
   ]
  }
 ],
 "metadata": {
  "kernelspec": {
   "display_name": "Python 3",
   "language": "python",
   "name": "python3"
  },
  "language_info": {
   "codemirror_mode": {
    "name": "ipython",
    "version": 3
   },
   "file_extension": ".py",
   "mimetype": "text/x-python",
   "name": "python",
   "nbconvert_exporter": "python",
   "pygments_lexer": "ipython3",
   "version": "3.10.10"
  },
  "papermill": {
   "default_parameters": {},
   "duration": 17.784692,
   "end_time": "2023-08-23T07:55:40.788255",
   "environment_variables": {},
   "exception": null,
   "input_path": "__notebook__.ipynb",
   "output_path": "__notebook__.ipynb",
   "parameters": {},
   "start_time": "2023-08-23T07:55:23.003563",
   "version": "2.4.0"
  }
 },
 "nbformat": 4,
 "nbformat_minor": 5
}
