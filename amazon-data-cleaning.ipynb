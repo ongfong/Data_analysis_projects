{
 "cells": [
  {
   "cell_type": "code",
   "execution_count": 1,
   "id": "ac385649",
   "metadata": {
    "_cell_guid": "b1076dfc-b9ad-4769-8c92-a6c4dae69d19",
    "_uuid": "8f2839f25d086af736a60e9eeb907d3b93b6e0e5",
    "execution": {
     "iopub.execute_input": "2023-08-07T10:49:45.737516Z",
     "iopub.status.busy": "2023-08-07T10:49:45.736733Z",
     "iopub.status.idle": "2023-08-07T10:49:45.756270Z",
     "shell.execute_reply": "2023-08-07T10:49:45.755422Z"
    },
    "papermill": {
     "duration": 0.037177,
     "end_time": "2023-08-07T10:49:45.758821",
     "exception": false,
     "start_time": "2023-08-07T10:49:45.721644",
     "status": "completed"
    },
    "tags": []
   },
   "outputs": [
    {
     "name": "stdout",
     "output_type": "stream",
     "text": [
      "/kaggle/input/amazon-sales-dataset/amazon.csv\n"
     ]
    }
   ],
   "source": [
    "# This Python 3 environment comes with many helpful analytics libraries installed\n",
    "# It is defined by the kaggle/python Docker image: https://github.com/kaggle/docker-python\n",
    "# For example, here's several helpful packages to load\n",
    "\n",
    "import numpy as np # linear algebra\n",
    "import pandas as pd # data processing, CSV file I/O (e.g. pd.read_csv)\n",
    "\n",
    "# Input data files are available in the read-only \"../input/\" directory\n",
    "# For example, running this (by clicking run or pressing Shift+Enter) will list all files under the input directory\n",
    "\n",
    "import os\n",
    "for dirname, _, filenames in os.walk('/kaggle/input'):\n",
    "    for filename in filenames:\n",
    "        print(os.path.join(dirname, filename))\n",
    "\n",
    "# You can write up to 20GB to the current directory (/kaggle/working/) that gets preserved as output when you create a version using \"Save & Run All\" \n",
    "# You can also write temporary files to /kaggle/temp/, but they won't be saved outside of the current session"
   ]
  },
  {
   "cell_type": "code",
   "execution_count": 2,
   "id": "4c1ad40e",
   "metadata": {
    "execution": {
     "iopub.execute_input": "2023-08-07T10:49:45.782590Z",
     "iopub.status.busy": "2023-08-07T10:49:45.781875Z",
     "iopub.status.idle": "2023-08-07T10:49:47.496320Z",
     "shell.execute_reply": "2023-08-07T10:49:47.494985Z"
    },
    "papermill": {
     "duration": 1.729458,
     "end_time": "2023-08-07T10:49:47.499244",
     "exception": false,
     "start_time": "2023-08-07T10:49:45.769786",
     "status": "completed"
    },
    "tags": []
   },
   "outputs": [],
   "source": [
    "import pandas as pd\n",
    "import numpy as np\n",
    "import matplotlib.pyplot as plt\n",
    "import seaborn as sns"
   ]
  },
  {
   "cell_type": "markdown",
   "id": "9cff528f",
   "metadata": {
    "papermill": {
     "duration": 0.010851,
     "end_time": "2023-08-07T10:49:47.520839",
     "exception": false,
     "start_time": "2023-08-07T10:49:47.509988",
     "status": "completed"
    },
    "tags": []
   },
   "source": [
    "# **DATA CLEANING & PREPARATION**"
   ]
  },
  {
   "cell_type": "markdown",
   "id": "76f0f946",
   "metadata": {
    "papermill": {
     "duration": 0.010319,
     "end_time": "2023-08-07T10:49:47.541776",
     "exception": false,
     "start_time": "2023-08-07T10:49:47.531457",
     "status": "completed"
    },
    "tags": []
   },
   "source": [
    "Before making analyzing the data, it is important to clean and prepare data. The methods used to clean and prepare the data are as listed below:\n",
    "\n",
    "* Changing Data Types of Columns from object to Floats\n",
    "* Filling in Missing Information\n",
    "* Checking For Duplicate Rows\n",
    "* Splitting Long Strings\n",
    "* Creating Various New Columns"
   ]
  },
  {
   "cell_type": "code",
   "execution_count": 3,
   "id": "1df70c84",
   "metadata": {
    "execution": {
     "iopub.execute_input": "2023-08-07T10:49:47.565364Z",
     "iopub.status.busy": "2023-08-07T10:49:47.564970Z",
     "iopub.status.idle": "2023-08-07T10:49:47.794720Z",
     "shell.execute_reply": "2023-08-07T10:49:47.793213Z"
    },
    "papermill": {
     "duration": 0.244938,
     "end_time": "2023-08-07T10:49:47.797737",
     "exception": false,
     "start_time": "2023-08-07T10:49:47.552799",
     "status": "completed"
    },
    "tags": []
   },
   "outputs": [
    {
     "data": {
      "text/html": [
       "<div>\n",
       "<style scoped>\n",
       "    .dataframe tbody tr th:only-of-type {\n",
       "        vertical-align: middle;\n",
       "    }\n",
       "\n",
       "    .dataframe tbody tr th {\n",
       "        vertical-align: top;\n",
       "    }\n",
       "\n",
       "    .dataframe thead th {\n",
       "        text-align: right;\n",
       "    }\n",
       "</style>\n",
       "<table border=\"1\" class=\"dataframe\">\n",
       "  <thead>\n",
       "    <tr style=\"text-align: right;\">\n",
       "      <th></th>\n",
       "      <th>product_id</th>\n",
       "      <th>product_name</th>\n",
       "      <th>category</th>\n",
       "      <th>discounted_price</th>\n",
       "      <th>actual_price</th>\n",
       "      <th>discount_percentage</th>\n",
       "      <th>rating</th>\n",
       "      <th>rating_count</th>\n",
       "      <th>about_product</th>\n",
       "      <th>user_id</th>\n",
       "      <th>user_name</th>\n",
       "      <th>review_id</th>\n",
       "      <th>review_title</th>\n",
       "      <th>review_content</th>\n",
       "      <th>img_link</th>\n",
       "      <th>product_link</th>\n",
       "    </tr>\n",
       "  </thead>\n",
       "  <tbody>\n",
       "    <tr>\n",
       "      <th>0</th>\n",
       "      <td>B07JW9H4J1</td>\n",
       "      <td>Wayona Nylon Braided USB to Lightning Fast Cha...</td>\n",
       "      <td>Computers&amp;Accessories|Accessories&amp;Peripherals|...</td>\n",
       "      <td>₹399</td>\n",
       "      <td>₹1,099</td>\n",
       "      <td>64%</td>\n",
       "      <td>4.2</td>\n",
       "      <td>24,269</td>\n",
       "      <td>High Compatibility : Compatible With iPhone 12...</td>\n",
       "      <td>AG3D6O4STAQKAY2UVGEUV46KN35Q,AHMY5CWJMMK5BJRBB...</td>\n",
       "      <td>Manav,Adarsh gupta,Sundeep,S.Sayeed Ahmed,jasp...</td>\n",
       "      <td>R3HXWT0LRP0NMF,R2AJM3LFTLZHFO,R6AQJGUP6P86,R1K...</td>\n",
       "      <td>Satisfied,Charging is really fast,Value for mo...</td>\n",
       "      <td>Looks durable Charging is fine tooNo complains...</td>\n",
       "      <td>https://m.media-amazon.com/images/W/WEBP_40237...</td>\n",
       "      <td>https://www.amazon.in/Wayona-Braided-WN3LG1-Sy...</td>\n",
       "    </tr>\n",
       "    <tr>\n",
       "      <th>1</th>\n",
       "      <td>B098NS6PVG</td>\n",
       "      <td>Ambrane Unbreakable 60W / 3A Fast Charging 1.5...</td>\n",
       "      <td>Computers&amp;Accessories|Accessories&amp;Peripherals|...</td>\n",
       "      <td>₹199</td>\n",
       "      <td>₹349</td>\n",
       "      <td>43%</td>\n",
       "      <td>4.0</td>\n",
       "      <td>43,994</td>\n",
       "      <td>Compatible with all Type C enabled devices, be...</td>\n",
       "      <td>AECPFYFQVRUWC3KGNLJIOREFP5LQ,AGYYVPDD7YG7FYNBX...</td>\n",
       "      <td>ArdKn,Nirbhay kumar,Sagar Viswanathan,Asp,Plac...</td>\n",
       "      <td>RGIQEG07R9HS2,R1SMWZQ86XIN8U,R2J3Y1WL29GWDE,RY...</td>\n",
       "      <td>A Good Braided Cable for Your Type C Device,Go...</td>\n",
       "      <td>I ordered this cable to connect my phone to An...</td>\n",
       "      <td>https://m.media-amazon.com/images/W/WEBP_40237...</td>\n",
       "      <td>https://www.amazon.in/Ambrane-Unbreakable-Char...</td>\n",
       "    </tr>\n",
       "    <tr>\n",
       "      <th>2</th>\n",
       "      <td>B096MSW6CT</td>\n",
       "      <td>Sounce Fast Phone Charging Cable &amp; Data Sync U...</td>\n",
       "      <td>Computers&amp;Accessories|Accessories&amp;Peripherals|...</td>\n",
       "      <td>₹199</td>\n",
       "      <td>₹1,899</td>\n",
       "      <td>90%</td>\n",
       "      <td>3.9</td>\n",
       "      <td>7,928</td>\n",
       "      <td>【 Fast Charger&amp; Data Sync】-With built-in safet...</td>\n",
       "      <td>AGU3BBQ2V2DDAMOAKGFAWDDQ6QHA,AESFLDV2PT363T2AQ...</td>\n",
       "      <td>Kunal,Himanshu,viswanath,sai niharka,saqib mal...</td>\n",
       "      <td>R3J3EQQ9TZI5ZJ,R3E7WBGK7ID0KV,RWU79XKQ6I1QF,R2...</td>\n",
       "      <td>Good speed for earlier versions,Good Product,W...</td>\n",
       "      <td>Not quite durable and sturdy,https://m.media-a...</td>\n",
       "      <td>https://m.media-amazon.com/images/W/WEBP_40237...</td>\n",
       "      <td>https://www.amazon.in/Sounce-iPhone-Charging-C...</td>\n",
       "    </tr>\n",
       "    <tr>\n",
       "      <th>3</th>\n",
       "      <td>B08HDJ86NZ</td>\n",
       "      <td>boAt Deuce USB 300 2 in 1 Type-C &amp; Micro USB S...</td>\n",
       "      <td>Computers&amp;Accessories|Accessories&amp;Peripherals|...</td>\n",
       "      <td>₹329</td>\n",
       "      <td>₹699</td>\n",
       "      <td>53%</td>\n",
       "      <td>4.2</td>\n",
       "      <td>94,363</td>\n",
       "      <td>The boAt Deuce USB 300 2 in 1 cable is compati...</td>\n",
       "      <td>AEWAZDZZJLQUYVOVGBEUKSLXHQ5A,AG5HTSFRRE6NL3M5S...</td>\n",
       "      <td>Omkar dhale,JD,HEMALATHA,Ajwadh a.,amar singh ...</td>\n",
       "      <td>R3EEUZKKK9J36I,R3HJVYCLYOY554,REDECAZ7AMPQC,R1...</td>\n",
       "      <td>Good product,Good one,Nice,Really nice product...</td>\n",
       "      <td>Good product,long wire,Charges good,Nice,I bou...</td>\n",
       "      <td>https://m.media-amazon.com/images/I/41V5FtEWPk...</td>\n",
       "      <td>https://www.amazon.in/Deuce-300-Resistant-Tang...</td>\n",
       "    </tr>\n",
       "    <tr>\n",
       "      <th>4</th>\n",
       "      <td>B08CF3B7N1</td>\n",
       "      <td>Portronics Konnect L 1.2M Fast Charging 3A 8 P...</td>\n",
       "      <td>Computers&amp;Accessories|Accessories&amp;Peripherals|...</td>\n",
       "      <td>₹154</td>\n",
       "      <td>₹399</td>\n",
       "      <td>61%</td>\n",
       "      <td>4.2</td>\n",
       "      <td>16,905</td>\n",
       "      <td>[CHARGE &amp; SYNC FUNCTION]- This cable comes wit...</td>\n",
       "      <td>AE3Q6KSUK5P75D5HFYHCRAOLODSA,AFUGIFH5ZAFXRDSZH...</td>\n",
       "      <td>rahuls6099,Swasat Borah,Ajay Wadke,Pranali,RVK...</td>\n",
       "      <td>R1BP4L2HH9TFUP,R16PVJEXKV6QZS,R2UPDB81N66T4P,R...</td>\n",
       "      <td>As good as original,Decent,Good one for second...</td>\n",
       "      <td>Bought this instead of original apple, does th...</td>\n",
       "      <td>https://m.media-amazon.com/images/W/WEBP_40237...</td>\n",
       "      <td>https://www.amazon.in/Portronics-Konnect-POR-1...</td>\n",
       "    </tr>\n",
       "  </tbody>\n",
       "</table>\n",
       "</div>"
      ],
      "text/plain": [
       "   product_id                                       product_name  \\\n",
       "0  B07JW9H4J1  Wayona Nylon Braided USB to Lightning Fast Cha...   \n",
       "1  B098NS6PVG  Ambrane Unbreakable 60W / 3A Fast Charging 1.5...   \n",
       "2  B096MSW6CT  Sounce Fast Phone Charging Cable & Data Sync U...   \n",
       "3  B08HDJ86NZ  boAt Deuce USB 300 2 in 1 Type-C & Micro USB S...   \n",
       "4  B08CF3B7N1  Portronics Konnect L 1.2M Fast Charging 3A 8 P...   \n",
       "\n",
       "                                            category discounted_price  \\\n",
       "0  Computers&Accessories|Accessories&Peripherals|...             ₹399   \n",
       "1  Computers&Accessories|Accessories&Peripherals|...             ₹199   \n",
       "2  Computers&Accessories|Accessories&Peripherals|...             ₹199   \n",
       "3  Computers&Accessories|Accessories&Peripherals|...             ₹329   \n",
       "4  Computers&Accessories|Accessories&Peripherals|...             ₹154   \n",
       "\n",
       "  actual_price discount_percentage rating rating_count  \\\n",
       "0       ₹1,099                 64%    4.2       24,269   \n",
       "1         ₹349                 43%    4.0       43,994   \n",
       "2       ₹1,899                 90%    3.9        7,928   \n",
       "3         ₹699                 53%    4.2       94,363   \n",
       "4         ₹399                 61%    4.2       16,905   \n",
       "\n",
       "                                       about_product  \\\n",
       "0  High Compatibility : Compatible With iPhone 12...   \n",
       "1  Compatible with all Type C enabled devices, be...   \n",
       "2  【 Fast Charger& Data Sync】-With built-in safet...   \n",
       "3  The boAt Deuce USB 300 2 in 1 cable is compati...   \n",
       "4  [CHARGE & SYNC FUNCTION]- This cable comes wit...   \n",
       "\n",
       "                                             user_id  \\\n",
       "0  AG3D6O4STAQKAY2UVGEUV46KN35Q,AHMY5CWJMMK5BJRBB...   \n",
       "1  AECPFYFQVRUWC3KGNLJIOREFP5LQ,AGYYVPDD7YG7FYNBX...   \n",
       "2  AGU3BBQ2V2DDAMOAKGFAWDDQ6QHA,AESFLDV2PT363T2AQ...   \n",
       "3  AEWAZDZZJLQUYVOVGBEUKSLXHQ5A,AG5HTSFRRE6NL3M5S...   \n",
       "4  AE3Q6KSUK5P75D5HFYHCRAOLODSA,AFUGIFH5ZAFXRDSZH...   \n",
       "\n",
       "                                           user_name  \\\n",
       "0  Manav,Adarsh gupta,Sundeep,S.Sayeed Ahmed,jasp...   \n",
       "1  ArdKn,Nirbhay kumar,Sagar Viswanathan,Asp,Plac...   \n",
       "2  Kunal,Himanshu,viswanath,sai niharka,saqib mal...   \n",
       "3  Omkar dhale,JD,HEMALATHA,Ajwadh a.,amar singh ...   \n",
       "4  rahuls6099,Swasat Borah,Ajay Wadke,Pranali,RVK...   \n",
       "\n",
       "                                           review_id  \\\n",
       "0  R3HXWT0LRP0NMF,R2AJM3LFTLZHFO,R6AQJGUP6P86,R1K...   \n",
       "1  RGIQEG07R9HS2,R1SMWZQ86XIN8U,R2J3Y1WL29GWDE,RY...   \n",
       "2  R3J3EQQ9TZI5ZJ,R3E7WBGK7ID0KV,RWU79XKQ6I1QF,R2...   \n",
       "3  R3EEUZKKK9J36I,R3HJVYCLYOY554,REDECAZ7AMPQC,R1...   \n",
       "4  R1BP4L2HH9TFUP,R16PVJEXKV6QZS,R2UPDB81N66T4P,R...   \n",
       "\n",
       "                                        review_title  \\\n",
       "0  Satisfied,Charging is really fast,Value for mo...   \n",
       "1  A Good Braided Cable for Your Type C Device,Go...   \n",
       "2  Good speed for earlier versions,Good Product,W...   \n",
       "3  Good product,Good one,Nice,Really nice product...   \n",
       "4  As good as original,Decent,Good one for second...   \n",
       "\n",
       "                                      review_content  \\\n",
       "0  Looks durable Charging is fine tooNo complains...   \n",
       "1  I ordered this cable to connect my phone to An...   \n",
       "2  Not quite durable and sturdy,https://m.media-a...   \n",
       "3  Good product,long wire,Charges good,Nice,I bou...   \n",
       "4  Bought this instead of original apple, does th...   \n",
       "\n",
       "                                            img_link  \\\n",
       "0  https://m.media-amazon.com/images/W/WEBP_40237...   \n",
       "1  https://m.media-amazon.com/images/W/WEBP_40237...   \n",
       "2  https://m.media-amazon.com/images/W/WEBP_40237...   \n",
       "3  https://m.media-amazon.com/images/I/41V5FtEWPk...   \n",
       "4  https://m.media-amazon.com/images/W/WEBP_40237...   \n",
       "\n",
       "                                        product_link  \n",
       "0  https://www.amazon.in/Wayona-Braided-WN3LG1-Sy...  \n",
       "1  https://www.amazon.in/Ambrane-Unbreakable-Char...  \n",
       "2  https://www.amazon.in/Sounce-iPhone-Charging-C...  \n",
       "3  https://www.amazon.in/Deuce-300-Resistant-Tang...  \n",
       "4  https://www.amazon.in/Portronics-Konnect-POR-1...  "
      ]
     },
     "execution_count": 3,
     "metadata": {},
     "output_type": "execute_result"
    }
   ],
   "source": [
    "df = pd.read_csv('/kaggle/input/amazon-sales-dataset/amazon.csv')\n",
    "df.head()"
   ]
  },
  {
   "cell_type": "code",
   "execution_count": 4,
   "id": "8d04adf5",
   "metadata": {
    "execution": {
     "iopub.execute_input": "2023-08-07T10:49:47.823575Z",
     "iopub.status.busy": "2023-08-07T10:49:47.823138Z",
     "iopub.status.idle": "2023-08-07T10:49:47.830304Z",
     "shell.execute_reply": "2023-08-07T10:49:47.829133Z"
    },
    "papermill": {
     "duration": 0.023664,
     "end_time": "2023-08-07T10:49:47.832810",
     "exception": false,
     "start_time": "2023-08-07T10:49:47.809146",
     "status": "completed"
    },
    "tags": []
   },
   "outputs": [
    {
     "data": {
      "text/plain": [
       "Index(['product_id', 'product_name', 'category', 'discounted_price',\n",
       "       'actual_price', 'discount_percentage', 'rating', 'rating_count',\n",
       "       'about_product', 'user_id', 'user_name', 'review_id', 'review_title',\n",
       "       'review_content', 'img_link', 'product_link'],\n",
       "      dtype='object')"
      ]
     },
     "execution_count": 4,
     "metadata": {},
     "output_type": "execute_result"
    }
   ],
   "source": [
    "#Checking Column Names\n",
    "df.columns"
   ]
  },
  {
   "cell_type": "code",
   "execution_count": 5,
   "id": "7d61224f",
   "metadata": {
    "execution": {
     "iopub.execute_input": "2023-08-07T10:49:47.859654Z",
     "iopub.status.busy": "2023-08-07T10:49:47.858995Z",
     "iopub.status.idle": "2023-08-07T10:49:47.865899Z",
     "shell.execute_reply": "2023-08-07T10:49:47.864707Z"
    },
    "papermill": {
     "duration": 0.023486,
     "end_time": "2023-08-07T10:49:47.868660",
     "exception": false,
     "start_time": "2023-08-07T10:49:47.845174",
     "status": "completed"
    },
    "tags": []
   },
   "outputs": [
    {
     "data": {
      "text/plain": [
       "(1465, 16)"
      ]
     },
     "execution_count": 5,
     "metadata": {},
     "output_type": "execute_result"
    }
   ],
   "source": [
    "#Checking Number of Rows and Columns\n",
    "df.shape"
   ]
  },
  {
   "cell_type": "code",
   "execution_count": 6,
   "id": "8dad65db",
   "metadata": {
    "execution": {
     "iopub.execute_input": "2023-08-07T10:49:47.895379Z",
     "iopub.status.busy": "2023-08-07T10:49:47.894895Z",
     "iopub.status.idle": "2023-08-07T10:49:47.903153Z",
     "shell.execute_reply": "2023-08-07T10:49:47.901973Z"
    },
    "papermill": {
     "duration": 0.023877,
     "end_time": "2023-08-07T10:49:47.905875",
     "exception": false,
     "start_time": "2023-08-07T10:49:47.881998",
     "status": "completed"
    },
    "tags": []
   },
   "outputs": [
    {
     "data": {
      "text/plain": [
       "product_id             object\n",
       "product_name           object\n",
       "category               object\n",
       "discounted_price       object\n",
       "actual_price           object\n",
       "discount_percentage    object\n",
       "rating                 object\n",
       "rating_count           object\n",
       "about_product          object\n",
       "user_id                object\n",
       "user_name              object\n",
       "review_id              object\n",
       "review_title           object\n",
       "review_content         object\n",
       "img_link               object\n",
       "product_link           object\n",
       "dtype: object"
      ]
     },
     "execution_count": 6,
     "metadata": {},
     "output_type": "execute_result"
    }
   ],
   "source": [
    "#Checking Data Types for each Column\n",
    "df.dtypes"
   ]
  },
  {
   "cell_type": "code",
   "execution_count": 7,
   "id": "02dbe3fa",
   "metadata": {
    "execution": {
     "iopub.execute_input": "2023-08-07T10:49:47.932278Z",
     "iopub.status.busy": "2023-08-07T10:49:47.931513Z",
     "iopub.status.idle": "2023-08-07T10:49:47.942601Z",
     "shell.execute_reply": "2023-08-07T10:49:47.941053Z"
    },
    "papermill": {
     "duration": 0.027345,
     "end_time": "2023-08-07T10:49:47.945265",
     "exception": false,
     "start_time": "2023-08-07T10:49:47.917920",
     "status": "completed"
    },
    "tags": []
   },
   "outputs": [],
   "source": [
    "#Changing the data type of discounted price\n",
    "\n",
    "df['discounted_price'] = df['discounted_price'].str.replace('₹','')\n",
    "df['discounted_price'] = df['discounted_price'].str.replace(',','')\n",
    "df['discounted_price'] = df['discounted_price'].astype('float64')"
   ]
  },
  {
   "cell_type": "code",
   "execution_count": 8,
   "id": "e03e6432",
   "metadata": {
    "execution": {
     "iopub.execute_input": "2023-08-07T10:49:47.970849Z",
     "iopub.status.busy": "2023-08-07T10:49:47.970426Z",
     "iopub.status.idle": "2023-08-07T10:49:47.981595Z",
     "shell.execute_reply": "2023-08-07T10:49:47.980686Z"
    },
    "papermill": {
     "duration": 0.027185,
     "end_time": "2023-08-07T10:49:47.984060",
     "exception": false,
     "start_time": "2023-08-07T10:49:47.956875",
     "status": "completed"
    },
    "tags": []
   },
   "outputs": [],
   "source": [
    "#Changing the data type of actual price\n",
    "\n",
    "df['actual_price'] = df['actual_price'].str.replace('₹','')\n",
    "df['actual_price'] = df['actual_price'].str.replace(',','')\n",
    "df['actual_price'] = df['actual_price'].astype('float64')"
   ]
  },
  {
   "cell_type": "code",
   "execution_count": 9,
   "id": "94902069",
   "metadata": {
    "execution": {
     "iopub.execute_input": "2023-08-07T10:49:48.010180Z",
     "iopub.status.busy": "2023-08-07T10:49:48.009507Z",
     "iopub.status.idle": "2023-08-07T10:49:48.022981Z",
     "shell.execute_reply": "2023-08-07T10:49:48.022080Z"
    },
    "papermill": {
     "duration": 0.029546,
     "end_time": "2023-08-07T10:49:48.025299",
     "exception": false,
     "start_time": "2023-08-07T10:49:47.995753",
     "status": "completed"
    },
    "tags": []
   },
   "outputs": [
    {
     "data": {
      "text/plain": [
       "0       0.64\n",
       "1       0.43\n",
       "2       0.90\n",
       "3       0.53\n",
       "4       0.61\n",
       "        ... \n",
       "1460    0.59\n",
       "1461    0.25\n",
       "1462    0.28\n",
       "1463    0.26\n",
       "1464    0.22\n",
       "Name: discount_percentage, Length: 1465, dtype: float64"
      ]
     },
     "execution_count": 9,
     "metadata": {},
     "output_type": "execute_result"
    }
   ],
   "source": [
    "#Changing Datatype and values in Discount Percentage\n",
    "\n",
    "df['discount_percentage'] = df['discount_percentage'].str.replace('%','').astype('float64')\n",
    "df['discount_percentage'] =df['discount_percentage'] / 100\n",
    "df['discount_percentage']"
   ]
  },
  {
   "cell_type": "code",
   "execution_count": 10,
   "id": "d7571f9a",
   "metadata": {
    "execution": {
     "iopub.execute_input": "2023-08-07T10:49:48.051299Z",
     "iopub.status.busy": "2023-08-07T10:49:48.050552Z",
     "iopub.status.idle": "2023-08-07T10:49:48.066307Z",
     "shell.execute_reply": "2023-08-07T10:49:48.065042Z"
    },
    "papermill": {
     "duration": 0.03187,
     "end_time": "2023-08-07T10:49:48.068969",
     "exception": false,
     "start_time": "2023-08-07T10:49:48.037099",
     "status": "completed"
    },
    "tags": []
   },
   "outputs": [
    {
     "data": {
      "text/plain": [
       "4.1    244\n",
       "4.3    230\n",
       "4.2    228\n",
       "4.0    129\n",
       "3.9    123\n",
       "4.4    123\n",
       "3.8     86\n",
       "4.5     75\n",
       "4       52\n",
       "3.7     42\n",
       "3.6     35\n",
       "3.5     26\n",
       "4.6     17\n",
       "3.3     16\n",
       "3.4     10\n",
       "4.7      6\n",
       "3.1      4\n",
       "5.0      3\n",
       "3.0      3\n",
       "4.8      3\n",
       "3.2      2\n",
       "2.8      2\n",
       "2.3      1\n",
       "|        1\n",
       "2        1\n",
       "3        1\n",
       "2.6      1\n",
       "2.9      1\n",
       "Name: rating, dtype: int64"
      ]
     },
     "execution_count": 10,
     "metadata": {},
     "output_type": "execute_result"
    }
   ],
   "source": [
    "#Finding unusual string in the rating column\n",
    "\n",
    "df['rating'].value_counts()"
   ]
  },
  {
   "cell_type": "code",
   "execution_count": 11,
   "id": "2c0b9e3a",
   "metadata": {
    "execution": {
     "iopub.execute_input": "2023-08-07T10:49:48.095699Z",
     "iopub.status.busy": "2023-08-07T10:49:48.095294Z",
     "iopub.status.idle": "2023-08-07T10:49:48.121520Z",
     "shell.execute_reply": "2023-08-07T10:49:48.120581Z"
    },
    "papermill": {
     "duration": 0.041998,
     "end_time": "2023-08-07T10:49:48.123798",
     "exception": false,
     "start_time": "2023-08-07T10:49:48.081800",
     "status": "completed"
    },
    "tags": []
   },
   "outputs": [
    {
     "data": {
      "text/html": [
       "<div>\n",
       "<style scoped>\n",
       "    .dataframe tbody tr th:only-of-type {\n",
       "        vertical-align: middle;\n",
       "    }\n",
       "\n",
       "    .dataframe tbody tr th {\n",
       "        vertical-align: top;\n",
       "    }\n",
       "\n",
       "    .dataframe thead th {\n",
       "        text-align: right;\n",
       "    }\n",
       "</style>\n",
       "<table border=\"1\" class=\"dataframe\">\n",
       "  <thead>\n",
       "    <tr style=\"text-align: right;\">\n",
       "      <th></th>\n",
       "      <th>product_id</th>\n",
       "      <th>product_name</th>\n",
       "      <th>category</th>\n",
       "      <th>discounted_price</th>\n",
       "      <th>actual_price</th>\n",
       "      <th>discount_percentage</th>\n",
       "      <th>rating</th>\n",
       "      <th>rating_count</th>\n",
       "      <th>about_product</th>\n",
       "      <th>user_id</th>\n",
       "      <th>user_name</th>\n",
       "      <th>review_id</th>\n",
       "      <th>review_title</th>\n",
       "      <th>review_content</th>\n",
       "      <th>img_link</th>\n",
       "      <th>product_link</th>\n",
       "    </tr>\n",
       "  </thead>\n",
       "  <tbody>\n",
       "    <tr>\n",
       "      <th>1279</th>\n",
       "      <td>B08L12N5H1</td>\n",
       "      <td>Eureka Forbes car Vac 100 Watts Powerful Sucti...</td>\n",
       "      <td>Home&amp;Kitchen|Kitchen&amp;HomeAppliances|Vacuum,Cle...</td>\n",
       "      <td>2099.0</td>\n",
       "      <td>2499.0</td>\n",
       "      <td>0.16</td>\n",
       "      <td>|</td>\n",
       "      <td>992</td>\n",
       "      <td>No Installation is provided for this product|1...</td>\n",
       "      <td>AGTDSNT2FKVYEPDPXAA673AIS44A,AER2XFSWNN4LAUCJ5...</td>\n",
       "      <td>Divya,Dr Nefario,Deekshith,Preeti,Prasanth R,P...</td>\n",
       "      <td>R2KKTKM4M9RDVJ,R1O692MZOBTE79,R2WRSEWL56SOS4,R...</td>\n",
       "      <td>Decent product,doesn't pick up sand,Ok ok,Must...</td>\n",
       "      <td>Does the job well,doesn't work on sand. though...</td>\n",
       "      <td>https://m.media-amazon.com/images/W/WEBP_40237...</td>\n",
       "      <td>https://www.amazon.in/Eureka-Forbes-Vacuum-Cle...</td>\n",
       "    </tr>\n",
       "  </tbody>\n",
       "</table>\n",
       "</div>"
      ],
      "text/plain": [
       "      product_id                                       product_name  \\\n",
       "1279  B08L12N5H1  Eureka Forbes car Vac 100 Watts Powerful Sucti...   \n",
       "\n",
       "                                               category  discounted_price  \\\n",
       "1279  Home&Kitchen|Kitchen&HomeAppliances|Vacuum,Cle...            2099.0   \n",
       "\n",
       "      actual_price  discount_percentage rating rating_count  \\\n",
       "1279        2499.0                 0.16      |          992   \n",
       "\n",
       "                                          about_product  \\\n",
       "1279  No Installation is provided for this product|1...   \n",
       "\n",
       "                                                user_id  \\\n",
       "1279  AGTDSNT2FKVYEPDPXAA673AIS44A,AER2XFSWNN4LAUCJ5...   \n",
       "\n",
       "                                              user_name  \\\n",
       "1279  Divya,Dr Nefario,Deekshith,Preeti,Prasanth R,P...   \n",
       "\n",
       "                                              review_id  \\\n",
       "1279  R2KKTKM4M9RDVJ,R1O692MZOBTE79,R2WRSEWL56SOS4,R...   \n",
       "\n",
       "                                           review_title  \\\n",
       "1279  Decent product,doesn't pick up sand,Ok ok,Must...   \n",
       "\n",
       "                                         review_content  \\\n",
       "1279  Does the job well,doesn't work on sand. though...   \n",
       "\n",
       "                                               img_link  \\\n",
       "1279  https://m.media-amazon.com/images/W/WEBP_40237...   \n",
       "\n",
       "                                           product_link  \n",
       "1279  https://www.amazon.in/Eureka-Forbes-Vacuum-Cle...  "
      ]
     },
     "execution_count": 11,
     "metadata": {},
     "output_type": "execute_result"
    }
   ],
   "source": [
    "#Query the strange row\n",
    "\n",
    "df.query('rating == \"|\"')"
   ]
  },
  {
   "cell_type": "code",
   "execution_count": 12,
   "id": "188d2581",
   "metadata": {
    "execution": {
     "iopub.execute_input": "2023-08-07T10:49:48.150754Z",
     "iopub.status.busy": "2023-08-07T10:49:48.149970Z",
     "iopub.status.idle": "2023-08-07T10:49:48.159809Z",
     "shell.execute_reply": "2023-08-07T10:49:48.157915Z"
    },
    "papermill": {
     "duration": 0.02611,
     "end_time": "2023-08-07T10:49:48.162180",
     "exception": false,
     "start_time": "2023-08-07T10:49:48.136070",
     "status": "completed"
    },
    "tags": []
   },
   "outputs": [
    {
     "name": "stderr",
     "output_type": "stream",
     "text": [
      "/tmp/ipykernel_20/1674601385.py:3: FutureWarning: The default value of regex will change from True to False in a future version. In addition, single character regular expressions will *not* be treated as literal strings when regex=True.\n",
      "  df['rating'] = df['rating'].str.replace('|','4.0').astype('float64')\n"
     ]
    }
   ],
   "source": [
    "#Changing Rating Columns Data Type\n",
    "\n",
    "df['rating'] = df['rating'].str.replace('|','4.0').astype('float64')"
   ]
  },
  {
   "cell_type": "code",
   "execution_count": 13,
   "id": "4f02f1cd",
   "metadata": {
    "execution": {
     "iopub.execute_input": "2023-08-07T10:49:48.189931Z",
     "iopub.status.busy": "2023-08-07T10:49:48.189009Z",
     "iopub.status.idle": "2023-08-07T10:49:48.198788Z",
     "shell.execute_reply": "2023-08-07T10:49:48.197699Z"
    },
    "papermill": {
     "duration": 0.026857,
     "end_time": "2023-08-07T10:49:48.201278",
     "exception": false,
     "start_time": "2023-08-07T10:49:48.174421",
     "status": "completed"
    },
    "tags": []
   },
   "outputs": [],
   "source": [
    "#Changing Rating count Columns Data Type\n",
    "\n",
    "df['rating_count'] = df['rating_count'].str.replace(',','').astype('float64')"
   ]
  },
  {
   "cell_type": "code",
   "execution_count": 14,
   "id": "7418a335",
   "metadata": {
    "execution": {
     "iopub.execute_input": "2023-08-07T10:49:48.228592Z",
     "iopub.status.busy": "2023-08-07T10:49:48.228208Z",
     "iopub.status.idle": "2023-08-07T10:49:48.270012Z",
     "shell.execute_reply": "2023-08-07T10:49:48.268883Z"
    },
    "papermill": {
     "duration": 0.058117,
     "end_time": "2023-08-07T10:49:48.272443",
     "exception": false,
     "start_time": "2023-08-07T10:49:48.214326",
     "status": "completed"
    },
    "tags": []
   },
   "outputs": [
    {
     "data": {
      "text/html": [
       "<div>\n",
       "<style scoped>\n",
       "    .dataframe tbody tr th:only-of-type {\n",
       "        vertical-align: middle;\n",
       "    }\n",
       "\n",
       "    .dataframe tbody tr th {\n",
       "        vertical-align: top;\n",
       "    }\n",
       "\n",
       "    .dataframe thead th {\n",
       "        text-align: right;\n",
       "    }\n",
       "</style>\n",
       "<table border=\"1\" class=\"dataframe\">\n",
       "  <thead>\n",
       "    <tr style=\"text-align: right;\">\n",
       "      <th></th>\n",
       "      <th>product_id</th>\n",
       "      <th>product_name</th>\n",
       "      <th>category</th>\n",
       "      <th>discounted_price</th>\n",
       "      <th>actual_price</th>\n",
       "      <th>discount_percentage</th>\n",
       "      <th>rating</th>\n",
       "      <th>rating_count</th>\n",
       "      <th>about_product</th>\n",
       "      <th>user_id</th>\n",
       "      <th>user_name</th>\n",
       "      <th>review_id</th>\n",
       "      <th>review_title</th>\n",
       "      <th>review_content</th>\n",
       "      <th>img_link</th>\n",
       "      <th>product_link</th>\n",
       "    </tr>\n",
       "  </thead>\n",
       "  <tbody>\n",
       "  </tbody>\n",
       "</table>\n",
       "</div>"
      ],
      "text/plain": [
       "Empty DataFrame\n",
       "Columns: [product_id, product_name, category, discounted_price, actual_price, discount_percentage, rating, rating_count, about_product, user_id, user_name, review_id, review_title, review_content, img_link, product_link]\n",
       "Index: []"
      ]
     },
     "execution_count": 14,
     "metadata": {},
     "output_type": "execute_result"
    }
   ],
   "source": [
    "#Checking for Duplicates\n",
    "\n",
    "duplicates = df.duplicated()\n",
    "df[duplicates]"
   ]
  },
  {
   "cell_type": "code",
   "execution_count": 15,
   "id": "cc1e8a5f",
   "metadata": {
    "execution": {
     "iopub.execute_input": "2023-08-07T10:49:48.299376Z",
     "iopub.status.busy": "2023-08-07T10:49:48.298559Z",
     "iopub.status.idle": "2023-08-07T10:49:48.313809Z",
     "shell.execute_reply": "2023-08-07T10:49:48.312700Z"
    },
    "papermill": {
     "duration": 0.031397,
     "end_time": "2023-08-07T10:49:48.316266",
     "exception": false,
     "start_time": "2023-08-07T10:49:48.284869",
     "status": "completed"
    },
    "tags": []
   },
   "outputs": [
    {
     "data": {
      "text/plain": [
       "product_id             0\n",
       "product_name           0\n",
       "category               0\n",
       "discounted_price       0\n",
       "actual_price           0\n",
       "discount_percentage    0\n",
       "rating                 0\n",
       "rating_count           2\n",
       "about_product          0\n",
       "user_id                0\n",
       "user_name              0\n",
       "review_id              0\n",
       "review_title           0\n",
       "review_content         0\n",
       "img_link               0\n",
       "product_link           0\n",
       "dtype: int64"
      ]
     },
     "execution_count": 15,
     "metadata": {},
     "output_type": "execute_result"
    }
   ],
   "source": [
    "#Checking Missing Values\n",
    "\n",
    "df.isna().sum()"
   ]
  },
  {
   "cell_type": "code",
   "execution_count": 16,
   "id": "3f993872",
   "metadata": {
    "execution": {
     "iopub.execute_input": "2023-08-07T10:49:48.343933Z",
     "iopub.status.busy": "2023-08-07T10:49:48.343187Z",
     "iopub.status.idle": "2023-08-07T10:49:48.355651Z",
     "shell.execute_reply": "2023-08-07T10:49:48.354677Z"
    },
    "papermill": {
     "duration": 0.029521,
     "end_time": "2023-08-07T10:49:48.358396",
     "exception": false,
     "start_time": "2023-08-07T10:49:48.328875",
     "status": "completed"
    },
    "tags": []
   },
   "outputs": [],
   "source": [
    "#Delete Missing Values\n",
    "\n",
    "df.dropna(inplace=True)"
   ]
  },
  {
   "cell_type": "code",
   "execution_count": 17,
   "id": "50bacb04",
   "metadata": {
    "execution": {
     "iopub.execute_input": "2023-08-07T10:49:48.385930Z",
     "iopub.status.busy": "2023-08-07T10:49:48.385511Z",
     "iopub.status.idle": "2023-08-07T10:49:48.400738Z",
     "shell.execute_reply": "2023-08-07T10:49:48.399548Z"
    },
    "papermill": {
     "duration": 0.032223,
     "end_time": "2023-08-07T10:49:48.403159",
     "exception": false,
     "start_time": "2023-08-07T10:49:48.370936",
     "status": "completed"
    },
    "tags": []
   },
   "outputs": [
    {
     "data": {
      "text/plain": [
       "product_id             0\n",
       "product_name           0\n",
       "category               0\n",
       "discounted_price       0\n",
       "actual_price           0\n",
       "discount_percentage    0\n",
       "rating                 0\n",
       "rating_count           0\n",
       "about_product          0\n",
       "user_id                0\n",
       "user_name              0\n",
       "review_id              0\n",
       "review_title           0\n",
       "review_content         0\n",
       "img_link               0\n",
       "product_link           0\n",
       "dtype: int64"
      ]
     },
     "execution_count": 17,
     "metadata": {},
     "output_type": "execute_result"
    }
   ],
   "source": [
    "#Checking Missing Values again\n",
    "\n",
    "df.isna().sum()"
   ]
  },
  {
   "cell_type": "code",
   "execution_count": 18,
   "id": "187d02d5",
   "metadata": {
    "execution": {
     "iopub.execute_input": "2023-08-07T10:49:48.430342Z",
     "iopub.status.busy": "2023-08-07T10:49:48.429946Z",
     "iopub.status.idle": "2023-08-07T10:49:48.437017Z",
     "shell.execute_reply": "2023-08-07T10:49:48.436005Z"
    },
    "papermill": {
     "duration": 0.023477,
     "end_time": "2023-08-07T10:49:48.439256",
     "exception": false,
     "start_time": "2023-08-07T10:49:48.415779",
     "status": "completed"
    },
    "tags": []
   },
   "outputs": [],
   "source": [
    "#Creating a new DataFrame with Selected Column\n",
    "\n",
    "df1 = df[['product_id', 'product_name', 'category', 'discounted_price', 'actual_price', 'discount_percentage', 'rating', 'rating_count']].copy()"
   ]
  },
  {
   "cell_type": "code",
   "execution_count": 19,
   "id": "41f3e1f4",
   "metadata": {
    "execution": {
     "iopub.execute_input": "2023-08-07T10:49:48.466715Z",
     "iopub.status.busy": "2023-08-07T10:49:48.466319Z",
     "iopub.status.idle": "2023-08-07T10:49:48.488755Z",
     "shell.execute_reply": "2023-08-07T10:49:48.487534Z"
    },
    "papermill": {
     "duration": 0.039407,
     "end_time": "2023-08-07T10:49:48.491372",
     "exception": false,
     "start_time": "2023-08-07T10:49:48.451965",
     "status": "completed"
    },
    "tags": []
   },
   "outputs": [
    {
     "data": {
      "text/html": [
       "<div>\n",
       "<style scoped>\n",
       "    .dataframe tbody tr th:only-of-type {\n",
       "        vertical-align: middle;\n",
       "    }\n",
       "\n",
       "    .dataframe tbody tr th {\n",
       "        vertical-align: top;\n",
       "    }\n",
       "\n",
       "    .dataframe thead th {\n",
       "        text-align: right;\n",
       "    }\n",
       "</style>\n",
       "<table border=\"1\" class=\"dataframe\">\n",
       "  <thead>\n",
       "    <tr style=\"text-align: right;\">\n",
       "      <th></th>\n",
       "      <th>0</th>\n",
       "      <th>1</th>\n",
       "      <th>2</th>\n",
       "      <th>3</th>\n",
       "      <th>4</th>\n",
       "      <th>5</th>\n",
       "      <th>6</th>\n",
       "    </tr>\n",
       "  </thead>\n",
       "  <tbody>\n",
       "    <tr>\n",
       "      <th>0</th>\n",
       "      <td>Computers&amp;Accessories</td>\n",
       "      <td>Accessories&amp;Peripherals</td>\n",
       "      <td>Cables&amp;Accessories</td>\n",
       "      <td>Cables</td>\n",
       "      <td>USBCables</td>\n",
       "      <td>None</td>\n",
       "      <td>None</td>\n",
       "    </tr>\n",
       "    <tr>\n",
       "      <th>1</th>\n",
       "      <td>Computers&amp;Accessories</td>\n",
       "      <td>Accessories&amp;Peripherals</td>\n",
       "      <td>Cables&amp;Accessories</td>\n",
       "      <td>Cables</td>\n",
       "      <td>USBCables</td>\n",
       "      <td>None</td>\n",
       "      <td>None</td>\n",
       "    </tr>\n",
       "    <tr>\n",
       "      <th>2</th>\n",
       "      <td>Computers&amp;Accessories</td>\n",
       "      <td>Accessories&amp;Peripherals</td>\n",
       "      <td>Cables&amp;Accessories</td>\n",
       "      <td>Cables</td>\n",
       "      <td>USBCables</td>\n",
       "      <td>None</td>\n",
       "      <td>None</td>\n",
       "    </tr>\n",
       "    <tr>\n",
       "      <th>3</th>\n",
       "      <td>Computers&amp;Accessories</td>\n",
       "      <td>Accessories&amp;Peripherals</td>\n",
       "      <td>Cables&amp;Accessories</td>\n",
       "      <td>Cables</td>\n",
       "      <td>USBCables</td>\n",
       "      <td>None</td>\n",
       "      <td>None</td>\n",
       "    </tr>\n",
       "    <tr>\n",
       "      <th>4</th>\n",
       "      <td>Computers&amp;Accessories</td>\n",
       "      <td>Accessories&amp;Peripherals</td>\n",
       "      <td>Cables&amp;Accessories</td>\n",
       "      <td>Cables</td>\n",
       "      <td>USBCables</td>\n",
       "      <td>None</td>\n",
       "      <td>None</td>\n",
       "    </tr>\n",
       "    <tr>\n",
       "      <th>...</th>\n",
       "      <td>...</td>\n",
       "      <td>...</td>\n",
       "      <td>...</td>\n",
       "      <td>...</td>\n",
       "      <td>...</td>\n",
       "      <td>...</td>\n",
       "      <td>...</td>\n",
       "    </tr>\n",
       "    <tr>\n",
       "      <th>1460</th>\n",
       "      <td>Home&amp;Kitchen</td>\n",
       "      <td>Kitchen&amp;HomeAppliances</td>\n",
       "      <td>WaterPurifiers&amp;Accessories</td>\n",
       "      <td>WaterPurifierAccessories</td>\n",
       "      <td>None</td>\n",
       "      <td>None</td>\n",
       "      <td>None</td>\n",
       "    </tr>\n",
       "    <tr>\n",
       "      <th>1461</th>\n",
       "      <td>Home&amp;Kitchen</td>\n",
       "      <td>Kitchen&amp;HomeAppliances</td>\n",
       "      <td>SmallKitchenAppliances</td>\n",
       "      <td>Rice&amp;PastaCookers</td>\n",
       "      <td>None</td>\n",
       "      <td>None</td>\n",
       "      <td>None</td>\n",
       "    </tr>\n",
       "    <tr>\n",
       "      <th>1462</th>\n",
       "      <td>Home&amp;Kitchen</td>\n",
       "      <td>Heating,Cooling&amp;AirQuality</td>\n",
       "      <td>RoomHeaters</td>\n",
       "      <td>HeatConvectors</td>\n",
       "      <td>None</td>\n",
       "      <td>None</td>\n",
       "      <td>None</td>\n",
       "    </tr>\n",
       "    <tr>\n",
       "      <th>1463</th>\n",
       "      <td>Home&amp;Kitchen</td>\n",
       "      <td>Heating,Cooling&amp;AirQuality</td>\n",
       "      <td>Fans</td>\n",
       "      <td>ExhaustFans</td>\n",
       "      <td>None</td>\n",
       "      <td>None</td>\n",
       "      <td>None</td>\n",
       "    </tr>\n",
       "    <tr>\n",
       "      <th>1464</th>\n",
       "      <td>Home&amp;Kitchen</td>\n",
       "      <td>Kitchen&amp;HomeAppliances</td>\n",
       "      <td>SmallKitchenAppliances</td>\n",
       "      <td>SandwichMakers</td>\n",
       "      <td>None</td>\n",
       "      <td>None</td>\n",
       "      <td>None</td>\n",
       "    </tr>\n",
       "  </tbody>\n",
       "</table>\n",
       "<p>1463 rows × 7 columns</p>\n",
       "</div>"
      ],
      "text/plain": [
       "                          0                           1  \\\n",
       "0     Computers&Accessories     Accessories&Peripherals   \n",
       "1     Computers&Accessories     Accessories&Peripherals   \n",
       "2     Computers&Accessories     Accessories&Peripherals   \n",
       "3     Computers&Accessories     Accessories&Peripherals   \n",
       "4     Computers&Accessories     Accessories&Peripherals   \n",
       "...                     ...                         ...   \n",
       "1460           Home&Kitchen      Kitchen&HomeAppliances   \n",
       "1461           Home&Kitchen      Kitchen&HomeAppliances   \n",
       "1462           Home&Kitchen  Heating,Cooling&AirQuality   \n",
       "1463           Home&Kitchen  Heating,Cooling&AirQuality   \n",
       "1464           Home&Kitchen      Kitchen&HomeAppliances   \n",
       "\n",
       "                               2                         3          4     5  \\\n",
       "0             Cables&Accessories                    Cables  USBCables  None   \n",
       "1             Cables&Accessories                    Cables  USBCables  None   \n",
       "2             Cables&Accessories                    Cables  USBCables  None   \n",
       "3             Cables&Accessories                    Cables  USBCables  None   \n",
       "4             Cables&Accessories                    Cables  USBCables  None   \n",
       "...                          ...                       ...        ...   ...   \n",
       "1460  WaterPurifiers&Accessories  WaterPurifierAccessories       None  None   \n",
       "1461      SmallKitchenAppliances         Rice&PastaCookers       None  None   \n",
       "1462                 RoomHeaters            HeatConvectors       None  None   \n",
       "1463                        Fans               ExhaustFans       None  None   \n",
       "1464      SmallKitchenAppliances            SandwichMakers       None  None   \n",
       "\n",
       "         6  \n",
       "0     None  \n",
       "1     None  \n",
       "2     None  \n",
       "3     None  \n",
       "4     None  \n",
       "...    ...  \n",
       "1460  None  \n",
       "1461  None  \n",
       "1462  None  \n",
       "1463  None  \n",
       "1464  None  \n",
       "\n",
       "[1463 rows x 7 columns]"
      ]
     },
     "execution_count": 19,
     "metadata": {},
     "output_type": "execute_result"
    }
   ],
   "source": [
    "#Splitting the Strings in the category column\n",
    "\n",
    "catsplit = df1['category'].str.split('|', expand=True)\n",
    "catsplit"
   ]
  },
  {
   "cell_type": "code",
   "execution_count": 20,
   "id": "69fa6f20",
   "metadata": {
    "execution": {
     "iopub.execute_input": "2023-08-07T10:49:48.519649Z",
     "iopub.status.busy": "2023-08-07T10:49:48.519241Z",
     "iopub.status.idle": "2023-08-07T10:49:48.537470Z",
     "shell.execute_reply": "2023-08-07T10:49:48.536253Z"
    },
    "papermill": {
     "duration": 0.035333,
     "end_time": "2023-08-07T10:49:48.539779",
     "exception": false,
     "start_time": "2023-08-07T10:49:48.504446",
     "status": "completed"
    },
    "tags": []
   },
   "outputs": [
    {
     "data": {
      "text/html": [
       "<div>\n",
       "<style scoped>\n",
       "    .dataframe tbody tr th:only-of-type {\n",
       "        vertical-align: middle;\n",
       "    }\n",
       "\n",
       "    .dataframe tbody tr th {\n",
       "        vertical-align: top;\n",
       "    }\n",
       "\n",
       "    .dataframe thead th {\n",
       "        text-align: right;\n",
       "    }\n",
       "</style>\n",
       "<table border=\"1\" class=\"dataframe\">\n",
       "  <thead>\n",
       "    <tr style=\"text-align: right;\">\n",
       "      <th></th>\n",
       "      <th>category_1</th>\n",
       "      <th>category_2</th>\n",
       "      <th>category_3</th>\n",
       "      <th>3</th>\n",
       "      <th>4</th>\n",
       "      <th>5</th>\n",
       "      <th>6</th>\n",
       "    </tr>\n",
       "  </thead>\n",
       "  <tbody>\n",
       "    <tr>\n",
       "      <th>0</th>\n",
       "      <td>Computers&amp;Accessories</td>\n",
       "      <td>Accessories&amp;Peripherals</td>\n",
       "      <td>Cables&amp;Accessories</td>\n",
       "      <td>Cables</td>\n",
       "      <td>USBCables</td>\n",
       "      <td>None</td>\n",
       "      <td>None</td>\n",
       "    </tr>\n",
       "    <tr>\n",
       "      <th>1</th>\n",
       "      <td>Computers&amp;Accessories</td>\n",
       "      <td>Accessories&amp;Peripherals</td>\n",
       "      <td>Cables&amp;Accessories</td>\n",
       "      <td>Cables</td>\n",
       "      <td>USBCables</td>\n",
       "      <td>None</td>\n",
       "      <td>None</td>\n",
       "    </tr>\n",
       "    <tr>\n",
       "      <th>2</th>\n",
       "      <td>Computers&amp;Accessories</td>\n",
       "      <td>Accessories&amp;Peripherals</td>\n",
       "      <td>Cables&amp;Accessories</td>\n",
       "      <td>Cables</td>\n",
       "      <td>USBCables</td>\n",
       "      <td>None</td>\n",
       "      <td>None</td>\n",
       "    </tr>\n",
       "    <tr>\n",
       "      <th>3</th>\n",
       "      <td>Computers&amp;Accessories</td>\n",
       "      <td>Accessories&amp;Peripherals</td>\n",
       "      <td>Cables&amp;Accessories</td>\n",
       "      <td>Cables</td>\n",
       "      <td>USBCables</td>\n",
       "      <td>None</td>\n",
       "      <td>None</td>\n",
       "    </tr>\n",
       "    <tr>\n",
       "      <th>4</th>\n",
       "      <td>Computers&amp;Accessories</td>\n",
       "      <td>Accessories&amp;Peripherals</td>\n",
       "      <td>Cables&amp;Accessories</td>\n",
       "      <td>Cables</td>\n",
       "      <td>USBCables</td>\n",
       "      <td>None</td>\n",
       "      <td>None</td>\n",
       "    </tr>\n",
       "    <tr>\n",
       "      <th>...</th>\n",
       "      <td>...</td>\n",
       "      <td>...</td>\n",
       "      <td>...</td>\n",
       "      <td>...</td>\n",
       "      <td>...</td>\n",
       "      <td>...</td>\n",
       "      <td>...</td>\n",
       "    </tr>\n",
       "    <tr>\n",
       "      <th>1460</th>\n",
       "      <td>Home&amp;Kitchen</td>\n",
       "      <td>Kitchen&amp;HomeAppliances</td>\n",
       "      <td>WaterPurifiers&amp;Accessories</td>\n",
       "      <td>WaterPurifierAccessories</td>\n",
       "      <td>None</td>\n",
       "      <td>None</td>\n",
       "      <td>None</td>\n",
       "    </tr>\n",
       "    <tr>\n",
       "      <th>1461</th>\n",
       "      <td>Home&amp;Kitchen</td>\n",
       "      <td>Kitchen&amp;HomeAppliances</td>\n",
       "      <td>SmallKitchenAppliances</td>\n",
       "      <td>Rice&amp;PastaCookers</td>\n",
       "      <td>None</td>\n",
       "      <td>None</td>\n",
       "      <td>None</td>\n",
       "    </tr>\n",
       "    <tr>\n",
       "      <th>1462</th>\n",
       "      <td>Home&amp;Kitchen</td>\n",
       "      <td>Heating,Cooling&amp;AirQuality</td>\n",
       "      <td>RoomHeaters</td>\n",
       "      <td>HeatConvectors</td>\n",
       "      <td>None</td>\n",
       "      <td>None</td>\n",
       "      <td>None</td>\n",
       "    </tr>\n",
       "    <tr>\n",
       "      <th>1463</th>\n",
       "      <td>Home&amp;Kitchen</td>\n",
       "      <td>Heating,Cooling&amp;AirQuality</td>\n",
       "      <td>Fans</td>\n",
       "      <td>ExhaustFans</td>\n",
       "      <td>None</td>\n",
       "      <td>None</td>\n",
       "      <td>None</td>\n",
       "    </tr>\n",
       "    <tr>\n",
       "      <th>1464</th>\n",
       "      <td>Home&amp;Kitchen</td>\n",
       "      <td>Kitchen&amp;HomeAppliances</td>\n",
       "      <td>SmallKitchenAppliances</td>\n",
       "      <td>SandwichMakers</td>\n",
       "      <td>None</td>\n",
       "      <td>None</td>\n",
       "      <td>None</td>\n",
       "    </tr>\n",
       "  </tbody>\n",
       "</table>\n",
       "<p>1463 rows × 7 columns</p>\n",
       "</div>"
      ],
      "text/plain": [
       "                 category_1                  category_2  \\\n",
       "0     Computers&Accessories     Accessories&Peripherals   \n",
       "1     Computers&Accessories     Accessories&Peripherals   \n",
       "2     Computers&Accessories     Accessories&Peripherals   \n",
       "3     Computers&Accessories     Accessories&Peripherals   \n",
       "4     Computers&Accessories     Accessories&Peripherals   \n",
       "...                     ...                         ...   \n",
       "1460           Home&Kitchen      Kitchen&HomeAppliances   \n",
       "1461           Home&Kitchen      Kitchen&HomeAppliances   \n",
       "1462           Home&Kitchen  Heating,Cooling&AirQuality   \n",
       "1463           Home&Kitchen  Heating,Cooling&AirQuality   \n",
       "1464           Home&Kitchen      Kitchen&HomeAppliances   \n",
       "\n",
       "                      category_3                         3          4     5  \\\n",
       "0             Cables&Accessories                    Cables  USBCables  None   \n",
       "1             Cables&Accessories                    Cables  USBCables  None   \n",
       "2             Cables&Accessories                    Cables  USBCables  None   \n",
       "3             Cables&Accessories                    Cables  USBCables  None   \n",
       "4             Cables&Accessories                    Cables  USBCables  None   \n",
       "...                          ...                       ...        ...   ...   \n",
       "1460  WaterPurifiers&Accessories  WaterPurifierAccessories       None  None   \n",
       "1461      SmallKitchenAppliances         Rice&PastaCookers       None  None   \n",
       "1462                 RoomHeaters            HeatConvectors       None  None   \n",
       "1463                        Fans               ExhaustFans       None  None   \n",
       "1464      SmallKitchenAppliances            SandwichMakers       None  None   \n",
       "\n",
       "         6  \n",
       "0     None  \n",
       "1     None  \n",
       "2     None  \n",
       "3     None  \n",
       "4     None  \n",
       "...    ...  \n",
       "1460  None  \n",
       "1461  None  \n",
       "1462  None  \n",
       "1463  None  \n",
       "1464  None  \n",
       "\n",
       "[1463 rows x 7 columns]"
      ]
     },
     "execution_count": 20,
     "metadata": {},
     "output_type": "execute_result"
    }
   ],
   "source": [
    "#Renaming category column\n",
    "\n",
    "catsplit = catsplit.rename(columns={0:'category_1',1:'category_2',2:'category_3'})\n",
    "catsplit"
   ]
  },
  {
   "cell_type": "code",
   "execution_count": 21,
   "id": "d4489db0",
   "metadata": {
    "execution": {
     "iopub.execute_input": "2023-08-07T10:49:48.569381Z",
     "iopub.status.busy": "2023-08-07T10:49:48.568845Z",
     "iopub.status.idle": "2023-08-07T10:49:48.601095Z",
     "shell.execute_reply": "2023-08-07T10:49:48.599955Z"
    },
    "papermill": {
     "duration": 0.050467,
     "end_time": "2023-08-07T10:49:48.603643",
     "exception": false,
     "start_time": "2023-08-07T10:49:48.553176",
     "status": "completed"
    },
    "tags": []
   },
   "outputs": [
    {
     "data": {
      "text/html": [
       "<div>\n",
       "<style scoped>\n",
       "    .dataframe tbody tr th:only-of-type {\n",
       "        vertical-align: middle;\n",
       "    }\n",
       "\n",
       "    .dataframe tbody tr th {\n",
       "        vertical-align: top;\n",
       "    }\n",
       "\n",
       "    .dataframe thead th {\n",
       "        text-align: right;\n",
       "    }\n",
       "</style>\n",
       "<table border=\"1\" class=\"dataframe\">\n",
       "  <thead>\n",
       "    <tr style=\"text-align: right;\">\n",
       "      <th></th>\n",
       "      <th>product_id</th>\n",
       "      <th>product_name</th>\n",
       "      <th>discounted_price</th>\n",
       "      <th>actual_price</th>\n",
       "      <th>discount_percentage</th>\n",
       "      <th>rating</th>\n",
       "      <th>rating_count</th>\n",
       "      <th>category_1</th>\n",
       "      <th>category_2</th>\n",
       "      <th>category_3</th>\n",
       "    </tr>\n",
       "  </thead>\n",
       "  <tbody>\n",
       "    <tr>\n",
       "      <th>0</th>\n",
       "      <td>B07JW9H4J1</td>\n",
       "      <td>Wayona Nylon Braided USB to Lightning Fast Cha...</td>\n",
       "      <td>399.0</td>\n",
       "      <td>1099.0</td>\n",
       "      <td>0.64</td>\n",
       "      <td>4.2</td>\n",
       "      <td>24269.0</td>\n",
       "      <td>Computers&amp;Accessories</td>\n",
       "      <td>Accessories&amp;Peripherals</td>\n",
       "      <td>Cables&amp;Accessories</td>\n",
       "    </tr>\n",
       "    <tr>\n",
       "      <th>1</th>\n",
       "      <td>B098NS6PVG</td>\n",
       "      <td>Ambrane Unbreakable 60W / 3A Fast Charging 1.5...</td>\n",
       "      <td>199.0</td>\n",
       "      <td>349.0</td>\n",
       "      <td>0.43</td>\n",
       "      <td>4.0</td>\n",
       "      <td>43994.0</td>\n",
       "      <td>Computers&amp;Accessories</td>\n",
       "      <td>Accessories&amp;Peripherals</td>\n",
       "      <td>Cables&amp;Accessories</td>\n",
       "    </tr>\n",
       "    <tr>\n",
       "      <th>2</th>\n",
       "      <td>B096MSW6CT</td>\n",
       "      <td>Sounce Fast Phone Charging Cable &amp; Data Sync U...</td>\n",
       "      <td>199.0</td>\n",
       "      <td>1899.0</td>\n",
       "      <td>0.90</td>\n",
       "      <td>3.9</td>\n",
       "      <td>7928.0</td>\n",
       "      <td>Computers&amp;Accessories</td>\n",
       "      <td>Accessories&amp;Peripherals</td>\n",
       "      <td>Cables&amp;Accessories</td>\n",
       "    </tr>\n",
       "    <tr>\n",
       "      <th>3</th>\n",
       "      <td>B08HDJ86NZ</td>\n",
       "      <td>boAt Deuce USB 300 2 in 1 Type-C &amp; Micro USB S...</td>\n",
       "      <td>329.0</td>\n",
       "      <td>699.0</td>\n",
       "      <td>0.53</td>\n",
       "      <td>4.2</td>\n",
       "      <td>94363.0</td>\n",
       "      <td>Computers&amp;Accessories</td>\n",
       "      <td>Accessories&amp;Peripherals</td>\n",
       "      <td>Cables&amp;Accessories</td>\n",
       "    </tr>\n",
       "    <tr>\n",
       "      <th>4</th>\n",
       "      <td>B08CF3B7N1</td>\n",
       "      <td>Portronics Konnect L 1.2M Fast Charging 3A 8 P...</td>\n",
       "      <td>154.0</td>\n",
       "      <td>399.0</td>\n",
       "      <td>0.61</td>\n",
       "      <td>4.2</td>\n",
       "      <td>16905.0</td>\n",
       "      <td>Computers&amp;Accessories</td>\n",
       "      <td>Accessories&amp;Peripherals</td>\n",
       "      <td>Cables&amp;Accessories</td>\n",
       "    </tr>\n",
       "    <tr>\n",
       "      <th>...</th>\n",
       "      <td>...</td>\n",
       "      <td>...</td>\n",
       "      <td>...</td>\n",
       "      <td>...</td>\n",
       "      <td>...</td>\n",
       "      <td>...</td>\n",
       "      <td>...</td>\n",
       "      <td>...</td>\n",
       "      <td>...</td>\n",
       "      <td>...</td>\n",
       "    </tr>\n",
       "    <tr>\n",
       "      <th>1460</th>\n",
       "      <td>B08L7J3T31</td>\n",
       "      <td>Noir Aqua - 5pcs PP Spun Filter + 1 Spanner | ...</td>\n",
       "      <td>379.0</td>\n",
       "      <td>919.0</td>\n",
       "      <td>0.59</td>\n",
       "      <td>4.0</td>\n",
       "      <td>1090.0</td>\n",
       "      <td>Home&amp;Kitchen</td>\n",
       "      <td>Kitchen&amp;HomeAppliances</td>\n",
       "      <td>WaterPurifiers&amp;Accessories</td>\n",
       "    </tr>\n",
       "    <tr>\n",
       "      <th>1461</th>\n",
       "      <td>B01M6453MB</td>\n",
       "      <td>Prestige Delight PRWO Electric Rice Cooker (1 ...</td>\n",
       "      <td>2280.0</td>\n",
       "      <td>3045.0</td>\n",
       "      <td>0.25</td>\n",
       "      <td>4.1</td>\n",
       "      <td>4118.0</td>\n",
       "      <td>Home&amp;Kitchen</td>\n",
       "      <td>Kitchen&amp;HomeAppliances</td>\n",
       "      <td>SmallKitchenAppliances</td>\n",
       "    </tr>\n",
       "    <tr>\n",
       "      <th>1462</th>\n",
       "      <td>B009P2LIL4</td>\n",
       "      <td>Bajaj Majesty RX10 2000 Watts Heat Convector R...</td>\n",
       "      <td>2219.0</td>\n",
       "      <td>3080.0</td>\n",
       "      <td>0.28</td>\n",
       "      <td>3.6</td>\n",
       "      <td>468.0</td>\n",
       "      <td>Home&amp;Kitchen</td>\n",
       "      <td>Heating,Cooling&amp;AirQuality</td>\n",
       "      <td>RoomHeaters</td>\n",
       "    </tr>\n",
       "    <tr>\n",
       "      <th>1463</th>\n",
       "      <td>B00J5DYCCA</td>\n",
       "      <td>Havells Ventil Air DSP 230mm Exhaust Fan (Pist...</td>\n",
       "      <td>1399.0</td>\n",
       "      <td>1890.0</td>\n",
       "      <td>0.26</td>\n",
       "      <td>4.0</td>\n",
       "      <td>8031.0</td>\n",
       "      <td>Home&amp;Kitchen</td>\n",
       "      <td>Heating,Cooling&amp;AirQuality</td>\n",
       "      <td>Fans</td>\n",
       "    </tr>\n",
       "    <tr>\n",
       "      <th>1464</th>\n",
       "      <td>B01486F4G6</td>\n",
       "      <td>Borosil Jumbo 1000-Watt Grill Sandwich Maker (...</td>\n",
       "      <td>2863.0</td>\n",
       "      <td>3690.0</td>\n",
       "      <td>0.22</td>\n",
       "      <td>4.3</td>\n",
       "      <td>6987.0</td>\n",
       "      <td>Home&amp;Kitchen</td>\n",
       "      <td>Kitchen&amp;HomeAppliances</td>\n",
       "      <td>SmallKitchenAppliances</td>\n",
       "    </tr>\n",
       "  </tbody>\n",
       "</table>\n",
       "<p>1463 rows × 10 columns</p>\n",
       "</div>"
      ],
      "text/plain": [
       "      product_id                                       product_name  \\\n",
       "0     B07JW9H4J1  Wayona Nylon Braided USB to Lightning Fast Cha...   \n",
       "1     B098NS6PVG  Ambrane Unbreakable 60W / 3A Fast Charging 1.5...   \n",
       "2     B096MSW6CT  Sounce Fast Phone Charging Cable & Data Sync U...   \n",
       "3     B08HDJ86NZ  boAt Deuce USB 300 2 in 1 Type-C & Micro USB S...   \n",
       "4     B08CF3B7N1  Portronics Konnect L 1.2M Fast Charging 3A 8 P...   \n",
       "...          ...                                                ...   \n",
       "1460  B08L7J3T31  Noir Aqua - 5pcs PP Spun Filter + 1 Spanner | ...   \n",
       "1461  B01M6453MB  Prestige Delight PRWO Electric Rice Cooker (1 ...   \n",
       "1462  B009P2LIL4  Bajaj Majesty RX10 2000 Watts Heat Convector R...   \n",
       "1463  B00J5DYCCA  Havells Ventil Air DSP 230mm Exhaust Fan (Pist...   \n",
       "1464  B01486F4G6  Borosil Jumbo 1000-Watt Grill Sandwich Maker (...   \n",
       "\n",
       "      discounted_price  actual_price  discount_percentage  rating  \\\n",
       "0                399.0        1099.0                 0.64     4.2   \n",
       "1                199.0         349.0                 0.43     4.0   \n",
       "2                199.0        1899.0                 0.90     3.9   \n",
       "3                329.0         699.0                 0.53     4.2   \n",
       "4                154.0         399.0                 0.61     4.2   \n",
       "...                ...           ...                  ...     ...   \n",
       "1460             379.0         919.0                 0.59     4.0   \n",
       "1461            2280.0        3045.0                 0.25     4.1   \n",
       "1462            2219.0        3080.0                 0.28     3.6   \n",
       "1463            1399.0        1890.0                 0.26     4.0   \n",
       "1464            2863.0        3690.0                 0.22     4.3   \n",
       "\n",
       "      rating_count             category_1                  category_2  \\\n",
       "0          24269.0  Computers&Accessories     Accessories&Peripherals   \n",
       "1          43994.0  Computers&Accessories     Accessories&Peripherals   \n",
       "2           7928.0  Computers&Accessories     Accessories&Peripherals   \n",
       "3          94363.0  Computers&Accessories     Accessories&Peripherals   \n",
       "4          16905.0  Computers&Accessories     Accessories&Peripherals   \n",
       "...            ...                    ...                         ...   \n",
       "1460        1090.0           Home&Kitchen      Kitchen&HomeAppliances   \n",
       "1461        4118.0           Home&Kitchen      Kitchen&HomeAppliances   \n",
       "1462         468.0           Home&Kitchen  Heating,Cooling&AirQuality   \n",
       "1463        8031.0           Home&Kitchen  Heating,Cooling&AirQuality   \n",
       "1464        6987.0           Home&Kitchen      Kitchen&HomeAppliances   \n",
       "\n",
       "                      category_3  \n",
       "0             Cables&Accessories  \n",
       "1             Cables&Accessories  \n",
       "2             Cables&Accessories  \n",
       "3             Cables&Accessories  \n",
       "4             Cables&Accessories  \n",
       "...                          ...  \n",
       "1460  WaterPurifiers&Accessories  \n",
       "1461      SmallKitchenAppliances  \n",
       "1462                 RoomHeaters  \n",
       "1463                        Fans  \n",
       "1464      SmallKitchenAppliances  \n",
       "\n",
       "[1463 rows x 10 columns]"
      ]
     },
     "execution_count": 21,
     "metadata": {},
     "output_type": "execute_result"
    }
   ],
   "source": [
    "#Adding categories to the new dataframe\n",
    "\n",
    "df1['category_1'] = catsplit['category_1']\n",
    "df1['category_2'] = catsplit['category_2']\n",
    "df1['category_3'] = catsplit['category_3']\n",
    "\n",
    "df1.drop(columns='category', inplace=True)\n",
    "\n",
    "df1"
   ]
  },
  {
   "cell_type": "code",
   "execution_count": 22,
   "id": "775e2099",
   "metadata": {
    "execution": {
     "iopub.execute_input": "2023-08-07T10:49:48.633830Z",
     "iopub.status.busy": "2023-08-07T10:49:48.633398Z",
     "iopub.status.idle": "2023-08-07T10:49:48.644102Z",
     "shell.execute_reply": "2023-08-07T10:49:48.643155Z"
    },
    "papermill": {
     "duration": 0.02932,
     "end_time": "2023-08-07T10:49:48.647283",
     "exception": false,
     "start_time": "2023-08-07T10:49:48.617963",
     "status": "completed"
    },
    "tags": []
   },
   "outputs": [
    {
     "data": {
      "text/plain": [
       "0       B07JW9H4J1\n",
       "1       B098NS6PVG\n",
       "2       B096MSW6CT\n",
       "3       B08HDJ86NZ\n",
       "4       B08CF3B7N1\n",
       "           ...    \n",
       "1460    B08L7J3T31\n",
       "1461    B01M6453MB\n",
       "1462    B009P2LIL4\n",
       "1463    B00J5DYCCA\n",
       "1464    B01486F4G6\n",
       "Name: product_id, Length: 1463, dtype: object"
      ]
     },
     "execution_count": 22,
     "metadata": {},
     "output_type": "execute_result"
    }
   ],
   "source": [
    "#Removing Whitespace from product_id\n",
    "\n",
    "df1['product_id'].str.strip()"
   ]
  },
  {
   "cell_type": "code",
   "execution_count": 23,
   "id": "e300f9ac",
   "metadata": {
    "execution": {
     "iopub.execute_input": "2023-08-07T10:49:48.677927Z",
     "iopub.status.busy": "2023-08-07T10:49:48.677532Z",
     "iopub.status.idle": "2023-08-07T10:49:48.691582Z",
     "shell.execute_reply": "2023-08-07T10:49:48.690382Z"
    },
    "papermill": {
     "duration": 0.032183,
     "end_time": "2023-08-07T10:49:48.694042",
     "exception": false,
     "start_time": "2023-08-07T10:49:48.661859",
     "status": "completed"
    },
    "tags": []
   },
   "outputs": [
    {
     "data": {
      "text/html": [
       "<div>\n",
       "<style scoped>\n",
       "    .dataframe tbody tr th:only-of-type {\n",
       "        vertical-align: middle;\n",
       "    }\n",
       "\n",
       "    .dataframe tbody tr th {\n",
       "        vertical-align: top;\n",
       "    }\n",
       "\n",
       "    .dataframe thead th {\n",
       "        text-align: right;\n",
       "    }\n",
       "</style>\n",
       "<table border=\"1\" class=\"dataframe\">\n",
       "  <thead>\n",
       "    <tr style=\"text-align: right;\">\n",
       "      <th></th>\n",
       "      <th>user_id</th>\n",
       "      <th>user_name</th>\n",
       "    </tr>\n",
       "  </thead>\n",
       "  <tbody>\n",
       "    <tr>\n",
       "      <th>0</th>\n",
       "      <td>AG3D6O4STAQKAY2UVGEUV46KN35Q,AHMY5CWJMMK5BJRBB...</td>\n",
       "      <td>Manav,Adarsh gupta,Sundeep,S.Sayeed Ahmed,jasp...</td>\n",
       "    </tr>\n",
       "    <tr>\n",
       "      <th>1</th>\n",
       "      <td>AECPFYFQVRUWC3KGNLJIOREFP5LQ,AGYYVPDD7YG7FYNBX...</td>\n",
       "      <td>ArdKn,Nirbhay kumar,Sagar Viswanathan,Asp,Plac...</td>\n",
       "    </tr>\n",
       "    <tr>\n",
       "      <th>2</th>\n",
       "      <td>AGU3BBQ2V2DDAMOAKGFAWDDQ6QHA,AESFLDV2PT363T2AQ...</td>\n",
       "      <td>Kunal,Himanshu,viswanath,sai niharka,saqib mal...</td>\n",
       "    </tr>\n",
       "    <tr>\n",
       "      <th>3</th>\n",
       "      <td>AEWAZDZZJLQUYVOVGBEUKSLXHQ5A,AG5HTSFRRE6NL3M5S...</td>\n",
       "      <td>Omkar dhale,JD,HEMALATHA,Ajwadh a.,amar singh ...</td>\n",
       "    </tr>\n",
       "    <tr>\n",
       "      <th>4</th>\n",
       "      <td>AE3Q6KSUK5P75D5HFYHCRAOLODSA,AFUGIFH5ZAFXRDSZH...</td>\n",
       "      <td>rahuls6099,Swasat Borah,Ajay Wadke,Pranali,RVK...</td>\n",
       "    </tr>\n",
       "    <tr>\n",
       "      <th>...</th>\n",
       "      <td>...</td>\n",
       "      <td>...</td>\n",
       "    </tr>\n",
       "    <tr>\n",
       "      <th>1460</th>\n",
       "      <td>AHITFY6AHALOFOHOZEOC6XBP4FEA,AFRABBODZJZQB6Z4U...</td>\n",
       "      <td>Prabha ds,Raghuram bk,Real Deal,Amazon Custome...</td>\n",
       "    </tr>\n",
       "    <tr>\n",
       "      <th>1461</th>\n",
       "      <td>AFG5FM3NEMOL6BNFRV2NK5FNJCHQ,AGEINTRN6Z563RMLH...</td>\n",
       "      <td>Manu Bhai,Naveenpittu,Evatira Sangma,JAGANNADH...</td>\n",
       "    </tr>\n",
       "    <tr>\n",
       "      <th>1462</th>\n",
       "      <td>AGVPWCMAHYQWJOQKMUJN4DW3KM5Q,AF4Q3E66MY4SR7YQZ...</td>\n",
       "      <td>Nehal Desai,Danish Parwez,Amazon Customer,Amaz...</td>\n",
       "    </tr>\n",
       "    <tr>\n",
       "      <th>1463</th>\n",
       "      <td>AF2JQCLSCY3QJATWUNNHUSVUPNQQ,AFDMLUXC5LS5RXDJS...</td>\n",
       "      <td>Shubham Dubey,E.GURUBARAN,Mayank S.,eusuf khan...</td>\n",
       "    </tr>\n",
       "    <tr>\n",
       "      <th>1464</th>\n",
       "      <td>AFGW5PT3R6ZAVQR4Y5MWVAKBZAYA,AG7QNJ2SCS5VS5VYY...</td>\n",
       "      <td>Rajib,Ajay B,Vikas Kahol,PARDEEP,Anindya Prama...</td>\n",
       "    </tr>\n",
       "  </tbody>\n",
       "</table>\n",
       "<p>1463 rows × 2 columns</p>\n",
       "</div>"
      ],
      "text/plain": [
       "                                                user_id  \\\n",
       "0     AG3D6O4STAQKAY2UVGEUV46KN35Q,AHMY5CWJMMK5BJRBB...   \n",
       "1     AECPFYFQVRUWC3KGNLJIOREFP5LQ,AGYYVPDD7YG7FYNBX...   \n",
       "2     AGU3BBQ2V2DDAMOAKGFAWDDQ6QHA,AESFLDV2PT363T2AQ...   \n",
       "3     AEWAZDZZJLQUYVOVGBEUKSLXHQ5A,AG5HTSFRRE6NL3M5S...   \n",
       "4     AE3Q6KSUK5P75D5HFYHCRAOLODSA,AFUGIFH5ZAFXRDSZH...   \n",
       "...                                                 ...   \n",
       "1460  AHITFY6AHALOFOHOZEOC6XBP4FEA,AFRABBODZJZQB6Z4U...   \n",
       "1461  AFG5FM3NEMOL6BNFRV2NK5FNJCHQ,AGEINTRN6Z563RMLH...   \n",
       "1462  AGVPWCMAHYQWJOQKMUJN4DW3KM5Q,AF4Q3E66MY4SR7YQZ...   \n",
       "1463  AF2JQCLSCY3QJATWUNNHUSVUPNQQ,AFDMLUXC5LS5RXDJS...   \n",
       "1464  AFGW5PT3R6ZAVQR4Y5MWVAKBZAYA,AG7QNJ2SCS5VS5VYY...   \n",
       "\n",
       "                                              user_name  \n",
       "0     Manav,Adarsh gupta,Sundeep,S.Sayeed Ahmed,jasp...  \n",
       "1     ArdKn,Nirbhay kumar,Sagar Viswanathan,Asp,Plac...  \n",
       "2     Kunal,Himanshu,viswanath,sai niharka,saqib mal...  \n",
       "3     Omkar dhale,JD,HEMALATHA,Ajwadh a.,amar singh ...  \n",
       "4     rahuls6099,Swasat Borah,Ajay Wadke,Pranali,RVK...  \n",
       "...                                                 ...  \n",
       "1460  Prabha ds,Raghuram bk,Real Deal,Amazon Custome...  \n",
       "1461  Manu Bhai,Naveenpittu,Evatira Sangma,JAGANNADH...  \n",
       "1462  Nehal Desai,Danish Parwez,Amazon Customer,Amaz...  \n",
       "1463  Shubham Dubey,E.GURUBARAN,Mayank S.,eusuf khan...  \n",
       "1464  Rajib,Ajay B,Vikas Kahol,PARDEEP,Anindya Prama...  \n",
       "\n",
       "[1463 rows x 2 columns]"
      ]
     },
     "execution_count": 23,
     "metadata": {},
     "output_type": "execute_result"
    }
   ],
   "source": [
    "#Subsetting Reviewers Identifications\n",
    "\n",
    "reviewers = df[['user_id','user_name']]\n",
    "reviewers"
   ]
  },
  {
   "cell_type": "code",
   "execution_count": 24,
   "id": "ed7cd0b1",
   "metadata": {
    "execution": {
     "iopub.execute_input": "2023-08-07T10:49:48.725130Z",
     "iopub.status.busy": "2023-08-07T10:49:48.724703Z",
     "iopub.status.idle": "2023-08-07T10:49:48.738950Z",
     "shell.execute_reply": "2023-08-07T10:49:48.738167Z"
    },
    "papermill": {
     "duration": 0.032485,
     "end_time": "2023-08-07T10:49:48.741140",
     "exception": false,
     "start_time": "2023-08-07T10:49:48.708655",
     "status": "completed"
    },
    "tags": []
   },
   "outputs": [
    {
     "data": {
      "text/plain": [
       "0       [AG3D6O4STAQKAY2UVGEUV46KN35Q, AHMY5CWJMMK5BJR...\n",
       "1       [AECPFYFQVRUWC3KGNLJIOREFP5LQ, AGYYVPDD7YG7FYN...\n",
       "2       [AGU3BBQ2V2DDAMOAKGFAWDDQ6QHA, AESFLDV2PT363T2...\n",
       "3       [AEWAZDZZJLQUYVOVGBEUKSLXHQ5A, AG5HTSFRRE6NL3M...\n",
       "4       [AE3Q6KSUK5P75D5HFYHCRAOLODSA, AFUGIFH5ZAFXRDS...\n",
       "                              ...                        \n",
       "1460    [AHITFY6AHALOFOHOZEOC6XBP4FEA, AFRABBODZJZQB6Z...\n",
       "1461    [AFG5FM3NEMOL6BNFRV2NK5FNJCHQ, AGEINTRN6Z563RM...\n",
       "1462    [AGVPWCMAHYQWJOQKMUJN4DW3KM5Q, AF4Q3E66MY4SR7Y...\n",
       "1463    [AF2JQCLSCY3QJATWUNNHUSVUPNQQ, AFDMLUXC5LS5RXD...\n",
       "1464    [AFGW5PT3R6ZAVQR4Y5MWVAKBZAYA, AG7QNJ2SCS5VS5V...\n",
       "Name: user_id, Length: 1463, dtype: object"
      ]
     },
     "execution_count": 24,
     "metadata": {},
     "output_type": "execute_result"
    }
   ],
   "source": [
    "#Splitting the strings in user_id column\n",
    "\n",
    "user_id_split = reviewers['user_id'].str.split(',',expand=False)\n",
    "user_id_split"
   ]
  },
  {
   "cell_type": "code",
   "execution_count": 25,
   "id": "d4492cb3",
   "metadata": {
    "execution": {
     "iopub.execute_input": "2023-08-07T10:49:48.773052Z",
     "iopub.status.busy": "2023-08-07T10:49:48.772281Z",
     "iopub.status.idle": "2023-08-07T10:49:48.784104Z",
     "shell.execute_reply": "2023-08-07T10:49:48.782844Z"
    },
    "papermill": {
     "duration": 0.031153,
     "end_time": "2023-08-07T10:49:48.787030",
     "exception": false,
     "start_time": "2023-08-07T10:49:48.755877",
     "status": "completed"
    },
    "tags": []
   },
   "outputs": [
    {
     "data": {
      "text/plain": [
       "0       AG3D6O4STAQKAY2UVGEUV46KN35Q\n",
       "0       AHMY5CWJMMK5BJRBBSNLYT3ONILA\n",
       "0       AHCTC6ULH4XB6YHDY6PCH2R772LQ\n",
       "0       AGYHHIERNXKA6P5T7CZLXKVPT7IQ\n",
       "0       AG4OGOFWXJZTQ2HKYIOCOY3KXF2Q\n",
       "                    ...             \n",
       "1464    AHXCDNSXAESERITAFELQABFVNLCA\n",
       "1464    AGRZD6CHLCUNOLMMIMIHUCG7PIFA\n",
       "1464    AFQZVGSOSOJHKFQQMCEI4725QEKQ\n",
       "1464    AEALVGXXIP46OZVXKRUXSDWZJMEA\n",
       "1464    AGEFL3AY7YXEFZA4ZJU3LP7K7OJQ\n",
       "Name: user_id, Length: 11501, dtype: object"
      ]
     },
     "execution_count": 25,
     "metadata": {},
     "output_type": "execute_result"
    }
   ],
   "source": [
    "#Making user id display 1 id per row - 1\n",
    "\n",
    "user_id_exp = user_id_split.explode()\n",
    "user_id_exp"
   ]
  },
  {
   "cell_type": "code",
   "execution_count": 26,
   "id": "3dd0d985",
   "metadata": {
    "execution": {
     "iopub.execute_input": "2023-08-07T10:49:48.820747Z",
     "iopub.status.busy": "2023-08-07T10:49:48.820091Z",
     "iopub.status.idle": "2023-08-07T10:49:48.829573Z",
     "shell.execute_reply": "2023-08-07T10:49:48.828468Z"
    },
    "papermill": {
     "duration": 0.029246,
     "end_time": "2023-08-07T10:49:48.832330",
     "exception": false,
     "start_time": "2023-08-07T10:49:48.803084",
     "status": "completed"
    },
    "tags": []
   },
   "outputs": [
    {
     "data": {
      "text/plain": [
       "0        AG3D6O4STAQKAY2UVGEUV46KN35Q\n",
       "1        AHMY5CWJMMK5BJRBBSNLYT3ONILA\n",
       "2        AHCTC6ULH4XB6YHDY6PCH2R772LQ\n",
       "3        AGYHHIERNXKA6P5T7CZLXKVPT7IQ\n",
       "4        AG4OGOFWXJZTQ2HKYIOCOY3KXF2Q\n",
       "                     ...             \n",
       "11496    AHXCDNSXAESERITAFELQABFVNLCA\n",
       "11497    AGRZD6CHLCUNOLMMIMIHUCG7PIFA\n",
       "11498    AFQZVGSOSOJHKFQQMCEI4725QEKQ\n",
       "11499    AEALVGXXIP46OZVXKRUXSDWZJMEA\n",
       "11500    AGEFL3AY7YXEFZA4ZJU3LP7K7OJQ\n",
       "Name: user_id, Length: 11501, dtype: object"
      ]
     },
     "execution_count": 26,
     "metadata": {},
     "output_type": "execute_result"
    }
   ],
   "source": [
    "#Making user id display 1 id per row - 2\n",
    "\n",
    "user_id_clean = user_id_exp.reset_index(drop=True)\n",
    "user_id_clean"
   ]
  },
  {
   "cell_type": "code",
   "execution_count": 27,
   "id": "886c1a5f",
   "metadata": {
    "execution": {
     "iopub.execute_input": "2023-08-07T10:49:48.865528Z",
     "iopub.status.busy": "2023-08-07T10:49:48.864895Z",
     "iopub.status.idle": "2023-08-07T10:49:48.880519Z",
     "shell.execute_reply": "2023-08-07T10:49:48.879321Z"
    },
    "papermill": {
     "duration": 0.034875,
     "end_time": "2023-08-07T10:49:48.882942",
     "exception": false,
     "start_time": "2023-08-07T10:49:48.848067",
     "status": "completed"
    },
    "tags": []
   },
   "outputs": [
    {
     "data": {
      "text/plain": [
       "0       [Manav, Adarsh gupta, Sundeep, S.Sayeed Ahmed,...\n",
       "1       [ArdKn, Nirbhay kumar, Sagar Viswanathan, Asp,...\n",
       "2       [Kunal, Himanshu, viswanath, sai niharka, saqi...\n",
       "3       [Omkar dhale, JD, HEMALATHA, Ajwadh a., amar s...\n",
       "4       [rahuls6099, Swasat Borah, Ajay Wadke, Pranali...\n",
       "                              ...                        \n",
       "1460    [Prabha ds, Raghuram bk, Real Deal, Amazon Cus...\n",
       "1461    [Manu Bhai, Naveenpittu, Evatira Sangma, JAGAN...\n",
       "1462    [Nehal Desai, Danish Parwez, Amazon Customer, ...\n",
       "1463    [Shubham Dubey, E.GURUBARAN, Mayank S., eusuf ...\n",
       "1464    [Rajib, Ajay B, Vikas Kahol, PARDEEP, Anindya ...\n",
       "Name: user_name, Length: 1463, dtype: object"
      ]
     },
     "execution_count": 27,
     "metadata": {},
     "output_type": "execute_result"
    }
   ],
   "source": [
    "user_name_split = reviewers['user_name'].str.split(',',expand=False)\n",
    "user_name_split"
   ]
  },
  {
   "cell_type": "code",
   "execution_count": 28,
   "id": "c1ac7291",
   "metadata": {
    "execution": {
     "iopub.execute_input": "2023-08-07T10:49:48.916522Z",
     "iopub.status.busy": "2023-08-07T10:49:48.916102Z",
     "iopub.status.idle": "2023-08-07T10:49:48.925039Z",
     "shell.execute_reply": "2023-08-07T10:49:48.924217Z"
    },
    "papermill": {
     "duration": 0.028525,
     "end_time": "2023-08-07T10:49:48.927500",
     "exception": false,
     "start_time": "2023-08-07T10:49:48.898975",
     "status": "completed"
    },
    "tags": []
   },
   "outputs": [
    {
     "data": {
      "text/plain": [
       "0                  Manav\n",
       "0           Adarsh gupta\n",
       "0                Sundeep\n",
       "0         S.Sayeed Ahmed\n",
       "0         jaspreet singh\n",
       "              ...       \n",
       "1464             PARDEEP\n",
       "1464    Anindya Pramanik\n",
       "1464         Vikas Singh\n",
       "1464     Harshada Pimple\n",
       "1464              Saw a.\n",
       "Name: user_name, Length: 11513, dtype: object"
      ]
     },
     "execution_count": 28,
     "metadata": {},
     "output_type": "execute_result"
    }
   ],
   "source": [
    "#Splitting the strings in user_name column\n",
    "\n",
    "user_name_exp = user_name_split.explode()\n",
    "user_name_exp"
   ]
  },
  {
   "cell_type": "code",
   "execution_count": 29,
   "id": "28d47311",
   "metadata": {
    "execution": {
     "iopub.execute_input": "2023-08-07T10:49:48.960982Z",
     "iopub.status.busy": "2023-08-07T10:49:48.960300Z",
     "iopub.status.idle": "2023-08-07T10:49:48.969928Z",
     "shell.execute_reply": "2023-08-07T10:49:48.968474Z"
    },
    "papermill": {
     "duration": 0.029925,
     "end_time": "2023-08-07T10:49:48.973049",
     "exception": false,
     "start_time": "2023-08-07T10:49:48.943124",
     "status": "completed"
    },
    "tags": []
   },
   "outputs": [
    {
     "data": {
      "text/plain": [
       "0                   Manav\n",
       "1            Adarsh gupta\n",
       "2                 Sundeep\n",
       "3          S.Sayeed Ahmed\n",
       "4          jaspreet singh\n",
       "               ...       \n",
       "11508             PARDEEP\n",
       "11509    Anindya Pramanik\n",
       "11510         Vikas Singh\n",
       "11511     Harshada Pimple\n",
       "11512              Saw a.\n",
       "Name: user_name, Length: 11513, dtype: object"
      ]
     },
     "execution_count": 29,
     "metadata": {},
     "output_type": "execute_result"
    }
   ],
   "source": [
    "#Making user name display 1 id per row - 1\n",
    "\n",
    "user_name_clean = user_name_exp.reset_index(drop=True)\n",
    "user_name_clean"
   ]
  },
  {
   "cell_type": "code",
   "execution_count": 30,
   "id": "c82d46d8",
   "metadata": {
    "execution": {
     "iopub.execute_input": "2023-08-07T10:49:49.006893Z",
     "iopub.status.busy": "2023-08-07T10:49:49.006113Z",
     "iopub.status.idle": "2023-08-07T10:49:49.012745Z",
     "shell.execute_reply": "2023-08-07T10:49:49.011859Z"
    },
    "papermill": {
     "duration": 0.026317,
     "end_time": "2023-08-07T10:49:49.015263",
     "exception": false,
     "start_time": "2023-08-07T10:49:48.988946",
     "status": "completed"
    },
    "tags": []
   },
   "outputs": [],
   "source": [
    "#Making user name display 1 id per row - 2\n",
    "\n",
    "df21 = pd.DataFrame(data=user_id_clean)\n",
    "df22 = pd.DataFrame(data=user_name_clean)"
   ]
  },
  {
   "cell_type": "code",
   "execution_count": 31,
   "id": "7ffc94a1",
   "metadata": {
    "execution": {
     "iopub.execute_input": "2023-08-07T10:49:49.048653Z",
     "iopub.status.busy": "2023-08-07T10:49:49.047856Z",
     "iopub.status.idle": "2023-08-07T10:49:49.075410Z",
     "shell.execute_reply": "2023-08-07T10:49:49.074214Z"
    },
    "papermill": {
     "duration": 0.047129,
     "end_time": "2023-08-07T10:49:49.077978",
     "exception": false,
     "start_time": "2023-08-07T10:49:49.030849",
     "status": "completed"
    },
    "tags": []
   },
   "outputs": [
    {
     "data": {
      "text/html": [
       "<div>\n",
       "<style scoped>\n",
       "    .dataframe tbody tr th:only-of-type {\n",
       "        vertical-align: middle;\n",
       "    }\n",
       "\n",
       "    .dataframe tbody tr th {\n",
       "        vertical-align: top;\n",
       "    }\n",
       "\n",
       "    .dataframe thead th {\n",
       "        text-align: right;\n",
       "    }\n",
       "</style>\n",
       "<table border=\"1\" class=\"dataframe\">\n",
       "  <thead>\n",
       "    <tr style=\"text-align: right;\">\n",
       "      <th></th>\n",
       "      <th>user_id</th>\n",
       "      <th>user_name</th>\n",
       "    </tr>\n",
       "  </thead>\n",
       "  <tbody>\n",
       "    <tr>\n",
       "      <th>0</th>\n",
       "      <td>AG3D6O4STAQKAY2UVGEUV46KN35Q</td>\n",
       "      <td>Manav</td>\n",
       "    </tr>\n",
       "    <tr>\n",
       "      <th>1</th>\n",
       "      <td>AHMY5CWJMMK5BJRBBSNLYT3ONILA</td>\n",
       "      <td>Adarsh gupta</td>\n",
       "    </tr>\n",
       "    <tr>\n",
       "      <th>2</th>\n",
       "      <td>AHCTC6ULH4XB6YHDY6PCH2R772LQ</td>\n",
       "      <td>Sundeep</td>\n",
       "    </tr>\n",
       "    <tr>\n",
       "      <th>3</th>\n",
       "      <td>AGYHHIERNXKA6P5T7CZLXKVPT7IQ</td>\n",
       "      <td>S.Sayeed Ahmed</td>\n",
       "    </tr>\n",
       "    <tr>\n",
       "      <th>4</th>\n",
       "      <td>AG4OGOFWXJZTQ2HKYIOCOY3KXF2Q</td>\n",
       "      <td>jaspreet singh</td>\n",
       "    </tr>\n",
       "    <tr>\n",
       "      <th>...</th>\n",
       "      <td>...</td>\n",
       "      <td>...</td>\n",
       "    </tr>\n",
       "    <tr>\n",
       "      <th>11496</th>\n",
       "      <td>AHXCDNSXAESERITAFELQABFVNLCA</td>\n",
       "      <td>BATTU SURESHKUMAR</td>\n",
       "    </tr>\n",
       "    <tr>\n",
       "      <th>11497</th>\n",
       "      <td>AGRZD6CHLCUNOLMMIMIHUCG7PIFA</td>\n",
       "      <td>Shubham Dubey</td>\n",
       "    </tr>\n",
       "    <tr>\n",
       "      <th>11498</th>\n",
       "      <td>AFQZVGSOSOJHKFQQMCEI4725QEKQ</td>\n",
       "      <td>E.GURUBARAN</td>\n",
       "    </tr>\n",
       "    <tr>\n",
       "      <th>11499</th>\n",
       "      <td>AEALVGXXIP46OZVXKRUXSDWZJMEA</td>\n",
       "      <td>Mayank S.</td>\n",
       "    </tr>\n",
       "    <tr>\n",
       "      <th>11500</th>\n",
       "      <td>AGEFL3AY7YXEFZA4ZJU3LP7K7OJQ</td>\n",
       "      <td>eusuf khan</td>\n",
       "    </tr>\n",
       "  </tbody>\n",
       "</table>\n",
       "<p>11501 rows × 2 columns</p>\n",
       "</div>"
      ],
      "text/plain": [
       "                            user_id          user_name\n",
       "0      AG3D6O4STAQKAY2UVGEUV46KN35Q              Manav\n",
       "1      AHMY5CWJMMK5BJRBBSNLYT3ONILA       Adarsh gupta\n",
       "2      AHCTC6ULH4XB6YHDY6PCH2R772LQ            Sundeep\n",
       "3      AGYHHIERNXKA6P5T7CZLXKVPT7IQ     S.Sayeed Ahmed\n",
       "4      AG4OGOFWXJZTQ2HKYIOCOY3KXF2Q     jaspreet singh\n",
       "...                             ...                ...\n",
       "11496  AHXCDNSXAESERITAFELQABFVNLCA  BATTU SURESHKUMAR\n",
       "11497  AGRZD6CHLCUNOLMMIMIHUCG7PIFA      Shubham Dubey\n",
       "11498  AFQZVGSOSOJHKFQQMCEI4725QEKQ        E.GURUBARAN\n",
       "11499  AEALVGXXIP46OZVXKRUXSDWZJMEA          Mayank S.\n",
       "11500  AGEFL3AY7YXEFZA4ZJU3LP7K7OJQ         eusuf khan\n",
       "\n",
       "[11501 rows x 2 columns]"
      ]
     },
     "execution_count": 31,
     "metadata": {},
     "output_type": "execute_result"
    }
   ],
   "source": [
    "#Creating 2 Data Frames to be merged\n",
    "\n",
    "df2 = pd.merge(df21,df22,left_index=True,right_index=True)\n",
    "df2"
   ]
  }
 ],
 "metadata": {
  "kernelspec": {
   "display_name": "Python 3",
   "language": "python",
   "name": "python3"
  },
  "language_info": {
   "codemirror_mode": {
    "name": "ipython",
    "version": 3
   },
   "file_extension": ".py",
   "mimetype": "text/x-python",
   "name": "python",
   "nbconvert_exporter": "python",
   "pygments_lexer": "ipython3",
   "version": "3.10.10"
  },
  "papermill": {
   "default_parameters": {},
   "duration": 18.556221,
   "end_time": "2023-08-07T10:49:50.116105",
   "environment_variables": {},
   "exception": null,
   "input_path": "__notebook__.ipynb",
   "output_path": "__notebook__.ipynb",
   "parameters": {},
   "start_time": "2023-08-07T10:49:31.559884",
   "version": "2.4.0"
  }
 },
 "nbformat": 4,
 "nbformat_minor": 5
}
